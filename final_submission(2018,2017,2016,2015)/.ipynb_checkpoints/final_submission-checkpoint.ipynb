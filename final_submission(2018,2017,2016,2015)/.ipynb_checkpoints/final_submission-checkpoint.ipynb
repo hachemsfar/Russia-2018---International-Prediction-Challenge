{
 "cells": [
  {
   "cell_type": "code",
   "execution_count": 1,
   "metadata": {
    "collapsed": true
   },
   "outputs": [],
   "source": [
    "import numpy as np # linear algebra\n",
    "import pandas as pd # data processing, CSV file I/O (e.g. pd.read_csv)\n",
    "\n",
    "from datetime import date\n",
    "from tqdm import tqdm"
   ]
  },
  {
   "cell_type": "code",
   "execution_count": 2,
   "metadata": {
    "collapsed": true
   },
   "outputs": [],
   "source": [
    "sub2015=pd.read_csv('submission_template_2015.csv')\n",
    "sub2016=pd.read_csv('submission_template_2016.csv')\n",
    "sub2017=pd.read_csv('submission_template_2017.csv')\n",
    "sub2018=pd.read_csv('submission_template_2018.csv')\n",
    "final_submission=pd.read_csv('submission_template.csv')"
   ]
  },
  {
   "cell_type": "code",
   "execution_count": 4,
   "metadata": {},
   "outputs": [
    {
     "data": {
      "text/html": [
       "<div>\n",
       "<style>\n",
       "    .dataframe thead tr:only-child th {\n",
       "        text-align: right;\n",
       "    }\n",
       "\n",
       "    .dataframe thead th {\n",
       "        text-align: left;\n",
       "    }\n",
       "\n",
       "    .dataframe tbody tr th {\n",
       "        vertical-align: top;\n",
       "    }\n",
       "</style>\n",
       "<table border=\"1\" class=\"dataframe\">\n",
       "  <thead>\n",
       "    <tr style=\"text-align: right;\">\n",
       "      <th></th>\n",
       "      <th>gameId</th>\n",
       "      <th>gameDate</th>\n",
       "      <th>homeTeamId</th>\n",
       "      <th>awayTeamId</th>\n",
       "      <th>gameName</th>\n",
       "      <th>p1</th>\n",
       "      <th>px</th>\n",
       "      <th>p2</th>\n",
       "    </tr>\n",
       "  </thead>\n",
       "  <tbody>\n",
       "    <tr>\n",
       "      <th>0</th>\n",
       "      <td>1249942</td>\n",
       "      <td>2018-06-14 16:00:00</td>\n",
       "      <td>326</td>\n",
       "      <td>494</td>\n",
       "      <td>Russia-Saudi-Arabia</td>\n",
       "      <td>NaN</td>\n",
       "      <td>NaN</td>\n",
       "      <td>NaN</td>\n",
       "    </tr>\n",
       "    <tr>\n",
       "      <th>1</th>\n",
       "      <td>1249926</td>\n",
       "      <td>2018-06-15 13:00:00</td>\n",
       "      <td>944</td>\n",
       "      <td>967</td>\n",
       "      <td>Egypt-Uruguay</td>\n",
       "      <td>NaN</td>\n",
       "      <td>NaN</td>\n",
       "      <td>NaN</td>\n",
       "    </tr>\n",
       "    <tr>\n",
       "      <th>2</th>\n",
       "      <td>1249948</td>\n",
       "      <td>2018-06-15 16:00:00</td>\n",
       "      <td>495</td>\n",
       "      <td>1293</td>\n",
       "      <td>Morocco-Iran</td>\n",
       "      <td>NaN</td>\n",
       "      <td>NaN</td>\n",
       "      <td>NaN</td>\n",
       "    </tr>\n",
       "    <tr>\n",
       "      <th>3</th>\n",
       "      <td>1249919</td>\n",
       "      <td>2018-06-15 19:00:00</td>\n",
       "      <td>340</td>\n",
       "      <td>338</td>\n",
       "      <td>Portugal-Spain</td>\n",
       "      <td>NaN</td>\n",
       "      <td>NaN</td>\n",
       "      <td>NaN</td>\n",
       "    </tr>\n",
       "    <tr>\n",
       "      <th>4</th>\n",
       "      <td>1249951</td>\n",
       "      <td>2018-06-16 11:00:00</td>\n",
       "      <td>341</td>\n",
       "      <td>328</td>\n",
       "      <td>France-Australia</td>\n",
       "      <td>NaN</td>\n",
       "      <td>NaN</td>\n",
       "      <td>NaN</td>\n",
       "    </tr>\n",
       "  </tbody>\n",
       "</table>\n",
       "</div>"
      ],
      "text/plain": [
       "    gameId             gameDate  homeTeamId  awayTeamId             gameName  \\\n",
       "0  1249942  2018-06-14 16:00:00         326         494  Russia-Saudi-Arabia   \n",
       "1  1249926  2018-06-15 13:00:00         944         967        Egypt-Uruguay   \n",
       "2  1249948  2018-06-15 16:00:00         495        1293         Morocco-Iran   \n",
       "3  1249919  2018-06-15 19:00:00         340         338       Portugal-Spain   \n",
       "4  1249951  2018-06-16 11:00:00         341         328     France-Australia   \n",
       "\n",
       "   p1  px  p2  \n",
       "0 NaN NaN NaN  \n",
       "1 NaN NaN NaN  \n",
       "2 NaN NaN NaN  \n",
       "3 NaN NaN NaN  \n",
       "4 NaN NaN NaN  "
      ]
     },
     "execution_count": 4,
     "metadata": {},
     "output_type": "execute_result"
    }
   ],
   "source": [
    "final_submission.head()"
   ]
  },
  {
   "cell_type": "code",
   "execution_count": 8,
   "metadata": {},
   "outputs": [
    {
     "name": "stderr",
     "output_type": "stream",
     "text": [
      "C:\\Users\\lenovo\\Anaconda3\\lib\\site-packages\\ipykernel_launcher.py:2: SettingWithCopyWarning: \n",
      "A value is trying to be set on a copy of a slice from a DataFrame\n",
      "\n",
      "See the caveats in the documentation: http://pandas.pydata.org/pandas-docs/stable/indexing.html#indexing-view-versus-copy\n",
      "  \n",
      "C:\\Users\\lenovo\\Anaconda3\\lib\\site-packages\\ipykernel_launcher.py:3: SettingWithCopyWarning: \n",
      "A value is trying to be set on a copy of a slice from a DataFrame\n",
      "\n",
      "See the caveats in the documentation: http://pandas.pydata.org/pandas-docs/stable/indexing.html#indexing-view-versus-copy\n",
      "  This is separate from the ipykernel package so we can avoid doing imports until\n",
      "C:\\Users\\lenovo\\Anaconda3\\lib\\site-packages\\ipykernel_launcher.py:4: SettingWithCopyWarning: \n",
      "A value is trying to be set on a copy of a slice from a DataFrame\n",
      "\n",
      "See the caveats in the documentation: http://pandas.pydata.org/pandas-docs/stable/indexing.html#indexing-view-versus-copy\n",
      "  after removing the cwd from sys.path.\n"
     ]
    }
   ],
   "source": [
    "for i in range(final_submission.shape[0]):\n",
    "    final_submission['p1'][i]=0.1*sub2015['p1'][i]+0.15*sub2016['p1'][i]+0.25*sub2017['p1'][i]+0.5*sub2018['p1'][i]\n",
    "    final_submission['px'][i]=0.1*sub2015['px'][i]+0.15*sub2016['px'][i]+0.25*sub2017['px'][i]+0.5*sub2018['px'][i]\n",
    "    final_submission['p2'][i]=0.1*sub2015['p2'][i]+0.15*sub2016['p2'][i]+0.25*sub2017['p2'][i]+0.5*sub2018['p2'][i]\n",
    "\n",
    "    \n"
   ]
  },
  {
   "cell_type": "code",
   "execution_count": 10,
   "metadata": {},
   "outputs": [],
   "source": [
    "final_submission.to_csv('final_submission.csv')"
   ]
  },
  {
   "cell_type": "code",
   "execution_count": null,
   "metadata": {
    "collapsed": true
   },
   "outputs": [],
   "source": []
  }
 ],
 "metadata": {
  "kernelspec": {
   "display_name": "Python 3",
   "language": "python",
   "name": "python3"
  },
  "language_info": {
   "codemirror_mode": {
    "name": "ipython",
    "version": 3
   },
   "file_extension": ".py",
   "mimetype": "text/x-python",
   "name": "python",
   "nbconvert_exporter": "python",
   "pygments_lexer": "ipython3",
   "version": "3.6.1"
  }
 },
 "nbformat": 4,
 "nbformat_minor": 2
}
