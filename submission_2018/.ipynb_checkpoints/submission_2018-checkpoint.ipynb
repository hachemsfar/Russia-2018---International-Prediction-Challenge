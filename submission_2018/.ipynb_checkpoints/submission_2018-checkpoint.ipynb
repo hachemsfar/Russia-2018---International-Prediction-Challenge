{
 "cells": [
  {
   "cell_type": "code",
   "execution_count": 1,
   "metadata": {
    "collapsed": true
   },
   "outputs": [],
   "source": [
    "import numpy as np # linear algebra\n",
    "import pandas as pd # data processing, CSV file I/O (e.g. pd.read_csv)\n",
    "\n",
    "from datetime import date\n",
    "from tqdm import tqdm"
   ]
  },
  {
   "cell_type": "code",
   "execution_count": 2,
   "metadata": {
    "collapsed": true
   },
   "outputs": [],
   "source": [
    "df=pd.read_csv('../basicData.csv')"
   ]
  },
  {
   "cell_type": "code",
   "execution_count": 3,
   "metadata": {},
   "outputs": [
    {
     "name": "stdout",
     "output_type": "stream",
     "text": [
      "<class 'pandas.core.frame.DataFrame'>\n",
      "RangeIndex: 86391 entries, 0 to 86390\n",
      "Data columns (total 10 columns):\n",
      "gameId             86391 non-null int64\n",
      "HT_goals           86391 non-null int64\n",
      "competitionName    86391 non-null object\n",
      "awayTeamName       86391 non-null object\n",
      "homeTeamName       86391 non-null object\n",
      "date               86391 non-null object\n",
      "AT_goals           86391 non-null int64\n",
      "HT_id              86391 non-null int64\n",
      "competitionId      81394 non-null float64\n",
      "AT_id              86391 non-null int64\n",
      "dtypes: float64(1), int64(5), object(4)\n",
      "memory usage: 6.6+ MB\n"
     ]
    }
   ],
   "source": [
    "df.info()"
   ]
  },
  {
   "cell_type": "code",
   "execution_count": 4,
   "metadata": {
    "collapsed": true
   },
   "outputs": [],
   "source": [
    "df['date'] = df['date'].apply(lambda Date: Date.split(' ')[0])"
   ]
  },
  {
   "cell_type": "code",
   "execution_count": 5,
   "metadata": {
    "collapsed": true
   },
   "outputs": [],
   "source": [
    "df['year'] = df['date'].apply(lambda Date: Date.split('-')[0])"
   ]
  },
  {
   "cell_type": "code",
   "execution_count": 6,
   "metadata": {
    "collapsed": true
   },
   "outputs": [],
   "source": [
    "df['awayTeamName']=df['awayTeamName'].apply(lambda team: team.lower())\n",
    "df['homeTeamName']=df['homeTeamName'].apply(lambda team: team.lower())"
   ]
  },
  {
   "cell_type": "code",
   "execution_count": 7,
   "metadata": {
    "scrolled": true
   },
   "outputs": [
    {
     "data": {
      "text/html": [
       "<div>\n",
       "<style>\n",
       "    .dataframe thead tr:only-child th {\n",
       "        text-align: right;\n",
       "    }\n",
       "\n",
       "    .dataframe thead th {\n",
       "        text-align: left;\n",
       "    }\n",
       "\n",
       "    .dataframe tbody tr th {\n",
       "        vertical-align: top;\n",
       "    }\n",
       "</style>\n",
       "<table border=\"1\" class=\"dataframe\">\n",
       "  <thead>\n",
       "    <tr style=\"text-align: right;\">\n",
       "      <th></th>\n",
       "      <th>gameId</th>\n",
       "      <th>HT_goals</th>\n",
       "      <th>competitionName</th>\n",
       "      <th>awayTeamName</th>\n",
       "      <th>homeTeamName</th>\n",
       "      <th>date</th>\n",
       "      <th>AT_goals</th>\n",
       "      <th>HT_id</th>\n",
       "      <th>competitionId</th>\n",
       "      <th>AT_id</th>\n",
       "      <th>year</th>\n",
       "    </tr>\n",
       "  </thead>\n",
       "  <tbody>\n",
       "    <tr>\n",
       "      <th>0</th>\n",
       "      <td>669044</td>\n",
       "      <td>2</td>\n",
       "      <td>Finnish Veikkausliiga</td>\n",
       "      <td>jjk jyvaskyla</td>\n",
       "      <td>kps kuopio</td>\n",
       "      <td>2013-07-15</td>\n",
       "      <td>1</td>\n",
       "      <td>2031</td>\n",
       "      <td>208.0</td>\n",
       "      <td>5086</td>\n",
       "      <td>2013</td>\n",
       "    </tr>\n",
       "    <tr>\n",
       "      <th>1</th>\n",
       "      <td>668800</td>\n",
       "      <td>3</td>\n",
       "      <td>Swedish Allsvenskan</td>\n",
       "      <td>osters</td>\n",
       "      <td>helsingborgs</td>\n",
       "      <td>2013-07-15</td>\n",
       "      <td>0</td>\n",
       "      <td>1296</td>\n",
       "      <td>205.0</td>\n",
       "      <td>1954</td>\n",
       "      <td>2013</td>\n",
       "    </tr>\n",
       "    <tr>\n",
       "      <th>2</th>\n",
       "      <td>677919</td>\n",
       "      <td>6</td>\n",
       "      <td>Champions League</td>\n",
       "      <td>eb streymur</td>\n",
       "      <td>dinamo tbilisi</td>\n",
       "      <td>2013-07-16</td>\n",
       "      <td>1</td>\n",
       "      <td>823</td>\n",
       "      <td>66.0</td>\n",
       "      <td>4441</td>\n",
       "      <td>2013</td>\n",
       "    </tr>\n",
       "    <tr>\n",
       "      <th>3</th>\n",
       "      <td>677924</td>\n",
       "      <td>3</td>\n",
       "      <td>Champions League</td>\n",
       "      <td>vardar skopje</td>\n",
       "      <td>steaua</td>\n",
       "      <td>2013-07-16</td>\n",
       "      <td>0</td>\n",
       "      <td>2251</td>\n",
       "      <td>66.0</td>\n",
       "      <td>2669</td>\n",
       "      <td>2013</td>\n",
       "    </tr>\n",
       "    <tr>\n",
       "      <th>4</th>\n",
       "      <td>677931</td>\n",
       "      <td>2</td>\n",
       "      <td>Champions League</td>\n",
       "      <td>ludogorets</td>\n",
       "      <td>s. bratislava</td>\n",
       "      <td>2013-07-17</td>\n",
       "      <td>1</td>\n",
       "      <td>2368</td>\n",
       "      <td>66.0</td>\n",
       "      <td>5344</td>\n",
       "      <td>2013</td>\n",
       "    </tr>\n",
       "  </tbody>\n",
       "</table>\n",
       "</div>"
      ],
      "text/plain": [
       "   gameId  HT_goals        competitionName   awayTeamName    homeTeamName  \\\n",
       "0  669044         2  Finnish Veikkausliiga  jjk jyvaskyla      kps kuopio   \n",
       "1  668800         3    Swedish Allsvenskan         osters    helsingborgs   \n",
       "2  677919         6       Champions League    eb streymur  dinamo tbilisi   \n",
       "3  677924         3       Champions League  vardar skopje          steaua   \n",
       "4  677931         2       Champions League     ludogorets   s. bratislava   \n",
       "\n",
       "         date  AT_goals  HT_id  competitionId  AT_id  year  \n",
       "0  2013-07-15         1   2031          208.0   5086  2013  \n",
       "1  2013-07-15         0   1296          205.0   1954  2013  \n",
       "2  2013-07-16         1    823           66.0   4441  2013  \n",
       "3  2013-07-16         0   2251           66.0   2669  2013  \n",
       "4  2013-07-17         1   2368           66.0   5344  2013  "
      ]
     },
     "execution_count": 7,
     "metadata": {},
     "output_type": "execute_result"
    }
   ],
   "source": [
    "df.head()"
   ]
  },
  {
   "cell_type": "code",
   "execution_count": 8,
   "metadata": {
    "collapsed": true
   },
   "outputs": [],
   "source": [
    "import requests\n",
    "\n",
    "url = 'https://www.fifa.com/fifa-world-ranking/ranking-table/men/index.html'\n",
    "\n",
    "header = {\n",
    "  \"User-Agent\": \"Mozilla/5.0 (X11; Linux x86_64) AppleWebKit/537.36 (KHTML, like Gecko) Chrome/50.0.2661.75 Safari/537.36\",\n",
    "  \"X-Requested-With\": \"XMLHttpRequest\"\n",
    "}\n",
    "\n",
    "r = requests.get(url, headers=header)\n",
    "\n",
    "score_fifa = pd.read_html(r.text)\n",
    "score_fifa=score_fifa[0]"
   ]
  },
  {
   "cell_type": "code",
   "execution_count": 9,
   "metadata": {
    "collapsed": true
   },
   "outputs": [],
   "source": [
    "score_fifa=score_fifa.drop([' ', '2018 (100 %)', '2016 (30 %)', '2015 (20 %)',\n",
    "      'Unnamed: 6', 'Unnamed: 7', 'Unnamed: 8',\n",
    "       'Unnamed: 10', 'Unnamed: 12',\n",
    "       'Unnamed: 14', 'Unnamed: 16', 'Unnamed: 17',\n",
    "       'Unnamed: 18', 'Unnamed: 19'],axis=1)"
   ]
  },
  {
   "cell_type": "code",
   "execution_count": 10,
   "metadata": {
    "collapsed": true
   },
   "outputs": [],
   "source": [
    "score_fifa.columns=['Name','Total Points','2018 power','2017 power','2016 power','2015 power']"
   ]
  },
  {
   "cell_type": "code",
   "execution_count": 11,
   "metadata": {
    "collapsed": true
   },
   "outputs": [],
   "source": [
    "score_fifa['Total Points'] = score_fifa['Total Points'].apply(lambda x: x.split('(')[1])\n",
    "score_fifa['Total Points'] = score_fifa['Total Points'].apply(lambda x: x.split(')')[0])\n"
   ]
  },
  {
   "cell_type": "code",
   "execution_count": 12,
   "metadata": {
    "collapsed": true
   },
   "outputs": [],
   "source": [
    "score_fifa['Total Points']=score_fifa['Total Points'].astype(float)"
   ]
  },
  {
   "cell_type": "code",
   "execution_count": 13,
   "metadata": {},
   "outputs": [
    {
     "data": {
      "text/html": [
       "<div>\n",
       "<style>\n",
       "    .dataframe thead tr:only-child th {\n",
       "        text-align: right;\n",
       "    }\n",
       "\n",
       "    .dataframe thead th {\n",
       "        text-align: left;\n",
       "    }\n",
       "\n",
       "    .dataframe tbody tr th {\n",
       "        vertical-align: top;\n",
       "    }\n",
       "</style>\n",
       "<table border=\"1\" class=\"dataframe\">\n",
       "  <thead>\n",
       "    <tr style=\"text-align: right;\">\n",
       "      <th></th>\n",
       "      <th>Name</th>\n",
       "      <th>Total Points</th>\n",
       "      <th>2018 power</th>\n",
       "      <th>2017 power</th>\n",
       "      <th>2016 power</th>\n",
       "      <th>2015 power</th>\n",
       "    </tr>\n",
       "  </thead>\n",
       "  <tbody>\n",
       "    <tr>\n",
       "      <th>0</th>\n",
       "      <td>Germany</td>\n",
       "      <td>1558.49</td>\n",
       "      <td>775.06</td>\n",
       "      <td>832.00</td>\n",
       "      <td>424.26</td>\n",
       "      <td>1200.77</td>\n",
       "    </tr>\n",
       "    <tr>\n",
       "      <th>1</th>\n",
       "      <td>Brazil</td>\n",
       "      <td>1430.57</td>\n",
       "      <td>558.95</td>\n",
       "      <td>1082.36</td>\n",
       "      <td>560.21</td>\n",
       "      <td>811.88</td>\n",
       "    </tr>\n",
       "    <tr>\n",
       "      <th>2</th>\n",
       "      <td>Belgium</td>\n",
       "      <td>1298.32</td>\n",
       "      <td>629.98</td>\n",
       "      <td>645.63</td>\n",
       "      <td>529.80</td>\n",
       "      <td>932.92</td>\n",
       "    </tr>\n",
       "    <tr>\n",
       "      <th>3</th>\n",
       "      <td>Portugal</td>\n",
       "      <td>1273.69</td>\n",
       "      <td>646.92</td>\n",
       "      <td>691.82</td>\n",
       "      <td>517.77</td>\n",
       "      <td>627.63</td>\n",
       "    </tr>\n",
       "    <tr>\n",
       "      <th>4</th>\n",
       "      <td>Argentina</td>\n",
       "      <td>1241.45</td>\n",
       "      <td>404.07</td>\n",
       "      <td>809.59</td>\n",
       "      <td>829.98</td>\n",
       "      <td>917.94</td>\n",
       "    </tr>\n",
       "  </tbody>\n",
       "</table>\n",
       "</div>"
      ],
      "text/plain": [
       "        Name  Total Points  2018 power  2017 power  2016 power  2015 power\n",
       "0    Germany       1558.49      775.06      832.00      424.26     1200.77\n",
       "1     Brazil       1430.57      558.95     1082.36      560.21      811.88\n",
       "2    Belgium       1298.32      629.98      645.63      529.80      932.92\n",
       "3   Portugal       1273.69      646.92      691.82      517.77      627.63\n",
       "4  Argentina       1241.45      404.07      809.59      829.98      917.94"
      ]
     },
     "execution_count": 13,
     "metadata": {},
     "output_type": "execute_result"
    }
   ],
   "source": [
    "score_fifa.head()"
   ]
  },
  {
   "cell_type": "markdown",
   "metadata": {},
   "source": [
    "*** 2018 ***"
   ]
  },
  {
   "cell_type": "code",
   "execution_count": 14,
   "metadata": {},
   "outputs": [],
   "source": [
    "amicaux=pd.read_excel('amical2018.xlsx')"
   ]
  },
  {
   "cell_type": "code",
   "execution_count": 15,
   "metadata": {
    "collapsed": true
   },
   "outputs": [],
   "source": [
    "amicaux['AT_goals']=amicaux['HT_goals'].apply(lambda goal: goal.split(':')[0])\n"
   ]
  },
  {
   "cell_type": "code",
   "execution_count": 16,
   "metadata": {
    "collapsed": true
   },
   "outputs": [],
   "source": [
    "amicaux['HT_goals']=amicaux['HT_goals'].apply(lambda goal: goal.split(':')[1])"
   ]
  },
  {
   "cell_type": "code",
   "execution_count": 17,
   "metadata": {
    "collapsed": true
   },
   "outputs": [],
   "source": [
    "amicaux=amicaux.drop(['Unnamed: 4'],axis=1)"
   ]
  },
  {
   "cell_type": "code",
   "execution_count": 18,
   "metadata": {
    "collapsed": true
   },
   "outputs": [],
   "source": [
    "amicaux.columns=['date','awayTeamName','homeTeamName','HT_goals','AT_goals']"
   ]
  },
  {
   "cell_type": "code",
   "execution_count": 19,
   "metadata": {
    "collapsed": true
   },
   "outputs": [],
   "source": [
    "amicaux['awayTeamName']=amicaux['awayTeamName'].apply(lambda team: str(team))\n",
    "\n",
    "amicaux['awayTeamName']=amicaux['awayTeamName'].apply(lambda team: team.lower())\n",
    "\n",
    "amicaux['homeTeamName']=amicaux['homeTeamName'].apply(lambda team: str(team))\n",
    "\n",
    "amicaux['homeTeamName']=amicaux['homeTeamName'].apply(lambda team: team.lower())\n"
   ]
  },
  {
   "cell_type": "code",
   "execution_count": 20,
   "metadata": {},
   "outputs": [
    {
     "data": {
      "text/html": [
       "<div>\n",
       "<style>\n",
       "    .dataframe thead tr:only-child th {\n",
       "        text-align: right;\n",
       "    }\n",
       "\n",
       "    .dataframe thead th {\n",
       "        text-align: left;\n",
       "    }\n",
       "\n",
       "    .dataframe tbody tr th {\n",
       "        vertical-align: top;\n",
       "    }\n",
       "</style>\n",
       "<table border=\"1\" class=\"dataframe\">\n",
       "  <thead>\n",
       "    <tr style=\"text-align: right;\">\n",
       "      <th></th>\n",
       "      <th>date</th>\n",
       "      <th>awayTeamName</th>\n",
       "      <th>homeTeamName</th>\n",
       "      <th>HT_goals</th>\n",
       "      <th>AT_goals</th>\n",
       "    </tr>\n",
       "  </thead>\n",
       "  <tbody>\n",
       "    <tr>\n",
       "      <th>0</th>\n",
       "      <td>10.06. 16:30</td>\n",
       "      <td>india</td>\n",
       "      <td>kenya</td>\n",
       "      <td>0</td>\n",
       "      <td>2</td>\n",
       "    </tr>\n",
       "    <tr>\n",
       "      <th>1</th>\n",
       "      <td>10.06. 16:00</td>\n",
       "      <td>austria</td>\n",
       "      <td>brazil</td>\n",
       "      <td>3</td>\n",
       "      <td>0</td>\n",
       "    </tr>\n",
       "    <tr>\n",
       "      <th>2</th>\n",
       "      <td>09.06. 21:00</td>\n",
       "      <td>france</td>\n",
       "      <td>usa</td>\n",
       "      <td>1</td>\n",
       "      <td>1</td>\n",
       "    </tr>\n",
       "    <tr>\n",
       "      <th>3</th>\n",
       "      <td>09.06. 20:45</td>\n",
       "      <td>spain</td>\n",
       "      <td>tunisia</td>\n",
       "      <td>0</td>\n",
       "      <td>1</td>\n",
       "    </tr>\n",
       "    <tr>\n",
       "      <th>4</th>\n",
       "      <td>09.06. 20:00</td>\n",
       "      <td>denmark</td>\n",
       "      <td>mexico</td>\n",
       "      <td>0</td>\n",
       "      <td>2</td>\n",
       "    </tr>\n",
       "  </tbody>\n",
       "</table>\n",
       "</div>"
      ],
      "text/plain": [
       "           date awayTeamName homeTeamName HT_goals AT_goals\n",
       "0  10.06. 16:30        india        kenya        0       2 \n",
       "1  10.06. 16:00      austria       brazil        3       0 \n",
       "2  09.06. 21:00       france          usa        1       1 \n",
       "3  09.06. 20:45        spain      tunisia        0       1 \n",
       "4  09.06. 20:00      denmark       mexico        0       2 "
      ]
     },
     "execution_count": 20,
     "metadata": {},
     "output_type": "execute_result"
    }
   ],
   "source": [
    "amicaux.head()"
   ]
  },
  {
   "cell_type": "code",
   "execution_count": 21,
   "metadata": {
    "collapsed": true
   },
   "outputs": [],
   "source": [
    "df2018=df[df['year']=='2018']"
   ]
  },
  {
   "cell_type": "code",
   "execution_count": 22,
   "metadata": {
    "collapsed": true
   },
   "outputs": [],
   "source": [
    "match_2018=pd.concat([amicaux,df2018],join=\"outer\")"
   ]
  },
  {
   "cell_type": "code",
   "execution_count": 23,
   "metadata": {
    "collapsed": true
   },
   "outputs": [],
   "source": [
    "match_2018['year']='2018'"
   ]
  },
  {
   "cell_type": "code",
   "execution_count": 24,
   "metadata": {
    "collapsed": true
   },
   "outputs": [],
   "source": [
    "National_europe = pd.read_html('http://www.pesmaster.com/national-teams-europe/pes-2018/league/90/')\n",
    "National_europe=National_europe[1]\n",
    "National_europe['year']='2018'\n",
    "\n",
    "National_africa = pd.read_html('http://www.pesmaster.com/national-teams-africa/pes-2018/league/91/')\n",
    "National_africa=National_africa[1]\n",
    "National_africa['year']='2018'\n",
    "\n",
    "National_South_Am=pd.read_html('http://www.pesmaster.com/national-teams-south-america/pes-2018/league/93/')\n",
    "National_South_Am=National_South_Am[1]\n",
    "National_South_Am['year']='2018'\n",
    "\n",
    "National_america = pd.read_html('http://www.pesmaster.com/national-teams-north-america/pes-2018/league/92/')\n",
    "National_america=National_america[1]\n",
    "National_america['year']='2018'\n",
    "\n",
    "National_asia = pd.read_html('http://www.pesmaster.com/national-teams-asia/pes-2018/league/94/')\n",
    "National_asia=National_asia[1]\n",
    "National_asia['year']='2018'\n",
    "\n",
    "National_team=[National_europe,National_africa,National_South_Am,National_america,National_asia]\n",
    "National_team=pd.concat(National_team)"
   ]
  },
  {
   "cell_type": "code",
   "execution_count": 25,
   "metadata": {
    "collapsed": true
   },
   "outputs": [],
   "source": [
    "National_team['Name']=National_team['Name'].apply(lambda team: team.lower())"
   ]
  },
  {
   "cell_type": "code",
   "execution_count": 26,
   "metadata": {},
   "outputs": [
    {
     "name": "stderr",
     "output_type": "stream",
     "text": [
      "C:\\Users\\lenovo\\Anaconda3\\lib\\site-packages\\ipykernel_launcher.py:2: SettingWithCopyWarning: \n",
      "A value is trying to be set on a copy of a slice from a DataFrame.\n",
      "Try using .loc[row_indexer,col_indexer] = value instead\n",
      "\n",
      "See the caveats in the documentation: http://pandas.pydata.org/pandas-docs/stable/indexing.html#indexing-view-versus-copy\n",
      "  \n"
     ]
    }
   ],
   "source": [
    "score_fifa_2018=score_fifa[['Name','2018 power']]\n",
    "score_fifa_2018['Name']=score_fifa_2018['Name'].apply(lambda team: team.lower())"
   ]
  },
  {
   "cell_type": "code",
   "execution_count": 27,
   "metadata": {},
   "outputs": [
    {
     "name": "stderr",
     "output_type": "stream",
     "text": [
      "C:\\Users\\lenovo\\Anaconda3\\lib\\site-packages\\pandas\\core\\indexing.py:179: SettingWithCopyWarning: \n",
      "A value is trying to be set on a copy of a slice from a DataFrame\n",
      "\n",
      "See the caveats in the documentation: http://pandas.pydata.org/pandas-docs/stable/indexing.html#indexing-view-versus-copy\n",
      "  self._setitem_with_indexer(indexer, value)\n",
      "C:\\Users\\lenovo\\Anaconda3\\lib\\site-packages\\ipykernel_launcher.py:1: SettingWithCopyWarning: \n",
      "A value is trying to be set on a copy of a slice from a DataFrame\n",
      "\n",
      "See the caveats in the documentation: http://pandas.pydata.org/pandas-docs/stable/indexing.html#indexing-view-versus-copy\n",
      "  \"\"\"Entry point for launching an IPython kernel.\n"
     ]
    }
   ],
   "source": [
    "score_fifa_2018['Name'].loc[score_fifa_2018['Name']=='ir iran']='iran'\n"
   ]
  },
  {
   "cell_type": "code",
   "execution_count": 28,
   "metadata": {},
   "outputs": [
    {
     "name": "stderr",
     "output_type": "stream",
     "text": [
      "C:\\Users\\lenovo\\Anaconda3\\lib\\site-packages\\pandas\\core\\indexing.py:179: SettingWithCopyWarning: \n",
      "A value is trying to be set on a copy of a slice from a DataFrame\n",
      "\n",
      "See the caveats in the documentation: http://pandas.pydata.org/pandas-docs/stable/indexing.html#indexing-view-versus-copy\n",
      "  self._setitem_with_indexer(indexer, value)\n",
      "C:\\Users\\lenovo\\Anaconda3\\lib\\site-packages\\ipykernel_launcher.py:1: SettingWithCopyWarning: \n",
      "A value is trying to be set on a copy of a slice from a DataFrame\n",
      "\n",
      "See the caveats in the documentation: http://pandas.pydata.org/pandas-docs/stable/indexing.html#indexing-view-versus-copy\n",
      "  \"\"\"Entry point for launching an IPython kernel.\n"
     ]
    }
   ],
   "source": [
    "score_fifa_2018['Name'].loc[score_fifa_2018['Name']=='Korea Republic']='Republic of Korea'"
   ]
  },
  {
   "cell_type": "code",
   "execution_count": 29,
   "metadata": {
    "collapsed": true
   },
   "outputs": [],
   "source": [
    "National_team_2018=pd.merge(National_team,score_fifa_2018,how='inner',on='Name')"
   ]
  },
  {
   "cell_type": "code",
   "execution_count": 30,
   "metadata": {},
   "outputs": [
    {
     "data": {
      "text/html": [
       "<div>\n",
       "<style>\n",
       "    .dataframe thead tr:only-child th {\n",
       "        text-align: right;\n",
       "    }\n",
       "\n",
       "    .dataframe thead th {\n",
       "        text-align: left;\n",
       "    }\n",
       "\n",
       "    .dataframe tbody tr th {\n",
       "        vertical-align: top;\n",
       "    }\n",
       "</style>\n",
       "<table border=\"1\" class=\"dataframe\">\n",
       "  <thead>\n",
       "    <tr style=\"text-align: right;\">\n",
       "      <th></th>\n",
       "      <th>Name</th>\n",
       "      <th>Ovr</th>\n",
       "      <th>Def</th>\n",
       "      <th>Mid</th>\n",
       "      <th>Fwd</th>\n",
       "      <th>Phy</th>\n",
       "      <th>Spd</th>\n",
       "      <th>year</th>\n",
       "      <th>2018 power</th>\n",
       "    </tr>\n",
       "  </thead>\n",
       "  <tbody>\n",
       "    <tr>\n",
       "      <th>0</th>\n",
       "      <td>spain</td>\n",
       "      <td>86</td>\n",
       "      <td>86</td>\n",
       "      <td>87</td>\n",
       "      <td>84</td>\n",
       "      <td>76</td>\n",
       "      <td>76</td>\n",
       "      <td>2018</td>\n",
       "      <td>537.05</td>\n",
       "    </tr>\n",
       "  </tbody>\n",
       "</table>\n",
       "</div>"
      ],
      "text/plain": [
       "    Name  Ovr  Def  Mid  Fwd  Phy  Spd  year  2018 power\n",
       "0  spain   86   86   87   84   76   76  2018      537.05"
      ]
     },
     "execution_count": 30,
     "metadata": {},
     "output_type": "execute_result"
    }
   ],
   "source": [
    "National_team_2018.head(1)"
   ]
  },
  {
   "cell_type": "code",
   "execution_count": 31,
   "metadata": {
    "collapsed": true
   },
   "outputs": [],
   "source": [
    "National_team_2018.columns=['awayTeamName', 'Ovr_away', 'Def_away', 'Mid_away', 'Fwd_away', 'Phy_away', 'Spd_away', 'year_away', '2018 power_away']"
   ]
  },
  {
   "cell_type": "code",
   "execution_count": 32,
   "metadata": {
    "collapsed": true
   },
   "outputs": [],
   "source": [
    "all_data_2018=pd.merge(match_2018,National_team_2018,how='inner',on='awayTeamName')"
   ]
  },
  {
   "cell_type": "code",
   "execution_count": 33,
   "metadata": {},
   "outputs": [
    {
     "data": {
      "text/html": [
       "<div>\n",
       "<style>\n",
       "    .dataframe thead tr:only-child th {\n",
       "        text-align: right;\n",
       "    }\n",
       "\n",
       "    .dataframe thead th {\n",
       "        text-align: left;\n",
       "    }\n",
       "\n",
       "    .dataframe tbody tr th {\n",
       "        vertical-align: top;\n",
       "    }\n",
       "</style>\n",
       "<table border=\"1\" class=\"dataframe\">\n",
       "  <thead>\n",
       "    <tr style=\"text-align: right;\">\n",
       "      <th></th>\n",
       "      <th>AT_goals</th>\n",
       "      <th>AT_id</th>\n",
       "      <th>HT_goals</th>\n",
       "      <th>HT_id</th>\n",
       "      <th>awayTeamName</th>\n",
       "      <th>competitionId</th>\n",
       "      <th>competitionName</th>\n",
       "      <th>date</th>\n",
       "      <th>gameId</th>\n",
       "      <th>homeTeamName</th>\n",
       "      <th>year</th>\n",
       "      <th>Ovr_away</th>\n",
       "      <th>Def_away</th>\n",
       "      <th>Mid_away</th>\n",
       "      <th>Fwd_away</th>\n",
       "      <th>Phy_away</th>\n",
       "      <th>Spd_away</th>\n",
       "      <th>year_away</th>\n",
       "      <th>2018 power_away</th>\n",
       "    </tr>\n",
       "  </thead>\n",
       "  <tbody>\n",
       "    <tr>\n",
       "      <th>0</th>\n",
       "      <td>0</td>\n",
       "      <td>NaN</td>\n",
       "      <td>3</td>\n",
       "      <td>NaN</td>\n",
       "      <td>austria</td>\n",
       "      <td>NaN</td>\n",
       "      <td>NaN</td>\n",
       "      <td>10.06. 16:00</td>\n",
       "      <td>NaN</td>\n",
       "      <td>brazil</td>\n",
       "      <td>2018</td>\n",
       "      <td>78</td>\n",
       "      <td>79</td>\n",
       "      <td>78</td>\n",
       "      <td>76</td>\n",
       "      <td>78</td>\n",
       "      <td>76</td>\n",
       "      <td>2018</td>\n",
       "      <td>456.27</td>\n",
       "    </tr>\n",
       "  </tbody>\n",
       "</table>\n",
       "</div>"
      ],
      "text/plain": [
       "  AT_goals  AT_id HT_goals  HT_id awayTeamName  competitionId competitionName  \\\n",
       "0       0     NaN        3    NaN      austria            NaN             NaN   \n",
       "\n",
       "           date  gameId homeTeamName  year  Ovr_away  Def_away  Mid_away  \\\n",
       "0  10.06. 16:00     NaN       brazil  2018        78        79        78   \n",
       "\n",
       "   Fwd_away  Phy_away  Spd_away year_away  2018 power_away  \n",
       "0        76        78        76      2018           456.27  "
      ]
     },
     "execution_count": 33,
     "metadata": {},
     "output_type": "execute_result"
    }
   ],
   "source": [
    "all_data_2018.head(1)"
   ]
  },
  {
   "cell_type": "code",
   "execution_count": 34,
   "metadata": {
    "collapsed": true
   },
   "outputs": [],
   "source": [
    "National_team_2018.columns=['homeTeamName', 'Ovr_home', 'Def_home', 'Mid_home', 'Fwd_home', 'Phy_home', 'Spd_home', 'year_home', '2018 power_home']"
   ]
  },
  {
   "cell_type": "code",
   "execution_count": 35,
   "metadata": {
    "collapsed": true
   },
   "outputs": [],
   "source": [
    "all_data_2018=pd.merge(all_data_2018,National_team_2018,how='inner',on='homeTeamName')"
   ]
  },
  {
   "cell_type": "code",
   "execution_count": 36,
   "metadata": {},
   "outputs": [
    {
     "data": {
      "text/html": [
       "<div>\n",
       "<style>\n",
       "    .dataframe thead tr:only-child th {\n",
       "        text-align: right;\n",
       "    }\n",
       "\n",
       "    .dataframe thead th {\n",
       "        text-align: left;\n",
       "    }\n",
       "\n",
       "    .dataframe tbody tr th {\n",
       "        vertical-align: top;\n",
       "    }\n",
       "</style>\n",
       "<table border=\"1\" class=\"dataframe\">\n",
       "  <thead>\n",
       "    <tr style=\"text-align: right;\">\n",
       "      <th></th>\n",
       "      <th>AT_goals</th>\n",
       "      <th>AT_id</th>\n",
       "      <th>HT_goals</th>\n",
       "      <th>HT_id</th>\n",
       "      <th>awayTeamName</th>\n",
       "      <th>competitionId</th>\n",
       "      <th>competitionName</th>\n",
       "      <th>date</th>\n",
       "      <th>gameId</th>\n",
       "      <th>homeTeamName</th>\n",
       "      <th>...</th>\n",
       "      <th>year_away</th>\n",
       "      <th>2018 power_away</th>\n",
       "      <th>Ovr_home</th>\n",
       "      <th>Def_home</th>\n",
       "      <th>Mid_home</th>\n",
       "      <th>Fwd_home</th>\n",
       "      <th>Phy_home</th>\n",
       "      <th>Spd_home</th>\n",
       "      <th>year_home</th>\n",
       "      <th>2018 power_home</th>\n",
       "    </tr>\n",
       "  </thead>\n",
       "  <tbody>\n",
       "    <tr>\n",
       "      <th>94</th>\n",
       "      <td>0</td>\n",
       "      <td>NaN</td>\n",
       "      <td>1</td>\n",
       "      <td>NaN</td>\n",
       "      <td>netherlands</td>\n",
       "      <td>NaN</td>\n",
       "      <td>NaN</td>\n",
       "      <td>23.03. 20:45</td>\n",
       "      <td>NaN</td>\n",
       "      <td>england</td>\n",
       "      <td>...</td>\n",
       "      <td>2018</td>\n",
       "      <td>545.74</td>\n",
       "      <td>82</td>\n",
       "      <td>83</td>\n",
       "      <td>82</td>\n",
       "      <td>83</td>\n",
       "      <td>74</td>\n",
       "      <td>82</td>\n",
       "      <td>2018</td>\n",
       "      <td>476.42</td>\n",
       "    </tr>\n",
       "  </tbody>\n",
       "</table>\n",
       "<p>1 rows × 27 columns</p>\n",
       "</div>"
      ],
      "text/plain": [
       "   AT_goals  AT_id HT_goals  HT_id awayTeamName  competitionId  \\\n",
       "94       0     NaN        1    NaN  netherlands            NaN   \n",
       "\n",
       "   competitionName          date  gameId homeTeamName       ...         \\\n",
       "94             NaN  23.03. 20:45     NaN      england       ...          \n",
       "\n",
       "   year_away  2018 power_away  Ovr_home  Def_home  Mid_home  Fwd_home  \\\n",
       "94      2018           545.74        82        83        82        83   \n",
       "\n",
       "    Phy_home Spd_home  year_home  2018 power_home  \n",
       "94        74       82       2018           476.42  \n",
       "\n",
       "[1 rows x 27 columns]"
      ]
     },
     "execution_count": 36,
     "metadata": {},
     "output_type": "execute_result"
    }
   ],
   "source": [
    "all_data_2018.tail(1)"
   ]
  },
  {
   "cell_type": "code",
   "execution_count": 37,
   "metadata": {
    "collapsed": true
   },
   "outputs": [],
   "source": [
    "all_data_2018['HT_goals']=all_data_2018['HT_goals'].apply(lambda team: int(team))\n",
    "all_data_2018['AT_goals']=all_data_2018['AT_goals'].apply(lambda team: int(team))\n"
   ]
  },
  {
   "cell_type": "code",
   "execution_count": 38,
   "metadata": {
    "collapsed": true
   },
   "outputs": [],
   "source": [
    "all_data_2018['result']=4"
   ]
  },
  {
   "cell_type": "code",
   "execution_count": 39,
   "metadata": {},
   "outputs": [
    {
     "name": "stderr",
     "output_type": "stream",
     "text": [
      "C:\\Users\\lenovo\\Anaconda3\\lib\\site-packages\\ipykernel_launcher.py:3: SettingWithCopyWarning: \n",
      "A value is trying to be set on a copy of a slice from a DataFrame\n",
      "\n",
      "See the caveats in the documentation: http://pandas.pydata.org/pandas-docs/stable/indexing.html#indexing-view-versus-copy\n",
      "  This is separate from the ipykernel package so we can avoid doing imports until\n",
      "C:\\Users\\lenovo\\Anaconda3\\lib\\site-packages\\ipykernel_launcher.py:7: SettingWithCopyWarning: \n",
      "A value is trying to be set on a copy of a slice from a DataFrame\n",
      "\n",
      "See the caveats in the documentation: http://pandas.pydata.org/pandas-docs/stable/indexing.html#indexing-view-versus-copy\n",
      "  import sys\n",
      "C:\\Users\\lenovo\\Anaconda3\\lib\\site-packages\\ipykernel_launcher.py:5: SettingWithCopyWarning: \n",
      "A value is trying to be set on a copy of a slice from a DataFrame\n",
      "\n",
      "See the caveats in the documentation: http://pandas.pydata.org/pandas-docs/stable/indexing.html#indexing-view-versus-copy\n",
      "  \"\"\"\n"
     ]
    }
   ],
   "source": [
    "for i in range(all_data_2018.shape[0]):\n",
    "    if all_data_2018['HT_goals'][i]>all_data_2018['AT_goals'][i]:\n",
    "        all_data_2018['result'][i]=1\n",
    "    if all_data_2018['HT_goals'][i]==all_data_2018['AT_goals'][i]:\n",
    "        all_data_2018['result'][i]=0\n",
    "    if all_data_2018['HT_goals'][i]<all_data_2018['AT_goals'][i]:\n",
    "        all_data_2018['result'][i]=2"
   ]
  },
  {
   "cell_type": "code",
   "execution_count": 40,
   "metadata": {},
   "outputs": [
    {
     "name": "stderr",
     "output_type": "stream",
     "text": [
      "C:\\Users\\lenovo\\Anaconda3\\lib\\site-packages\\ipykernel_launcher.py:9: SettingWithCopyWarning: \n",
      "A value is trying to be set on a copy of a slice from a DataFrame\n",
      "\n",
      "See the caveats in the documentation: http://pandas.pydata.org/pandas-docs/stable/indexing.html#indexing-view-versus-copy\n",
      "  if __name__ == '__main__':\n",
      "C:\\Users\\lenovo\\Anaconda3\\lib\\site-packages\\ipykernel_launcher.py:10: SettingWithCopyWarning: \n",
      "A value is trying to be set on a copy of a slice from a DataFrame\n",
      "\n",
      "See the caveats in the documentation: http://pandas.pydata.org/pandas-docs/stable/indexing.html#indexing-view-versus-copy\n",
      "  # Remove the CWD from sys.path while we load stuff.\n",
      "C:\\Users\\lenovo\\Anaconda3\\lib\\site-packages\\ipykernel_launcher.py:11: SettingWithCopyWarning: \n",
      "A value is trying to be set on a copy of a slice from a DataFrame\n",
      "\n",
      "See the caveats in the documentation: http://pandas.pydata.org/pandas-docs/stable/indexing.html#indexing-view-versus-copy\n",
      "  # This is added back by InteractiveShellApp.init_path()\n",
      "C:\\Users\\lenovo\\Anaconda3\\lib\\site-packages\\ipykernel_launcher.py:12: SettingWithCopyWarning: \n",
      "A value is trying to be set on a copy of a slice from a DataFrame\n",
      "\n",
      "See the caveats in the documentation: http://pandas.pydata.org/pandas-docs/stable/indexing.html#indexing-view-versus-copy\n",
      "  if sys.path[0] == '':\n",
      "C:\\Users\\lenovo\\Anaconda3\\lib\\site-packages\\ipykernel_launcher.py:13: SettingWithCopyWarning: \n",
      "A value is trying to be set on a copy of a slice from a DataFrame\n",
      "\n",
      "See the caveats in the documentation: http://pandas.pydata.org/pandas-docs/stable/indexing.html#indexing-view-versus-copy\n",
      "  del sys.path[0]\n",
      "C:\\Users\\lenovo\\Anaconda3\\lib\\site-packages\\ipykernel_launcher.py:14: SettingWithCopyWarning: \n",
      "A value is trying to be set on a copy of a slice from a DataFrame\n",
      "\n",
      "See the caveats in the documentation: http://pandas.pydata.org/pandas-docs/stable/indexing.html#indexing-view-versus-copy\n",
      "  \n",
      "C:\\Users\\lenovo\\Anaconda3\\lib\\site-packages\\ipykernel_launcher.py:15: SettingWithCopyWarning: \n",
      "A value is trying to be set on a copy of a slice from a DataFrame\n",
      "\n",
      "See the caveats in the documentation: http://pandas.pydata.org/pandas-docs/stable/indexing.html#indexing-view-versus-copy\n",
      "  from ipykernel import kernelapp as app\n"
     ]
    }
   ],
   "source": [
    "all_data_2018['Ovr_ratio']=0.0\n",
    "all_data_2018['Def_ratio']=0.0\n",
    "all_data_2018['Mid_ratio']=0.0\n",
    "all_data_2018['Fwd_ratio']=0.0\n",
    "all_data_2018['Phy_ratio']=0.0\n",
    "all_data_2018['Spd_ratio']=0.0\n",
    "all_data_2018['2018 power_ratio']=0.0\n",
    "for i in range(all_data_2018.shape[0]):\n",
    "    all_data_2018['Ovr_ratio'][i]=all_data_2018['Ovr_home'][i]/all_data_2018['Ovr_away'][i]\n",
    "    all_data_2018['Def_ratio'][i]=all_data_2018['Def_home'][i]/all_data_2018['Def_away'][i]\n",
    "    all_data_2018['Mid_ratio'][i]=all_data_2018['Mid_home'][i]/all_data_2018['Mid_away'][i]\n",
    "    all_data_2018['Fwd_ratio'][i]=all_data_2018['Fwd_home'][i]/all_data_2018['Fwd_away'][i]\n",
    "    all_data_2018['Phy_ratio'][i]=all_data_2018['Phy_home'][i]/all_data_2018['Phy_away'][i]\n",
    "    all_data_2018['Spd_ratio'][i]=all_data_2018['Spd_home'][i]/all_data_2018['Spd_away'][i]\n",
    "    all_data_2018['2018 power_ratio'][i]=all_data_2018['2018 power_home'][i]/all_data_2018['2018 power_away'][i]\n"
   ]
  },
  {
   "cell_type": "code",
   "execution_count": 41,
   "metadata": {
    "collapsed": true
   },
   "outputs": [],
   "source": [
    "all_data_2018.drop(['Ovr_away','Def_away','Mid_away','Fwd_away','Phy_away','Spd_away','2018 power_away','2018 power_home','Spd_home','Phy_home','Fwd_home','Mid_home','Def_home','Ovr_home','competitionName','year_away','year_home','AT_goals','AT_id','HT_goals','HT_id','awayTeamName','competitionId','date' ,'gameId','homeTeamName'],axis=1,inplace=True)"
   ]
  },
  {
   "cell_type": "code",
   "execution_count": 42,
   "metadata": {},
   "outputs": [
    {
     "data": {
      "text/html": [
       "<div>\n",
       "<style>\n",
       "    .dataframe thead tr:only-child th {\n",
       "        text-align: right;\n",
       "    }\n",
       "\n",
       "    .dataframe thead th {\n",
       "        text-align: left;\n",
       "    }\n",
       "\n",
       "    .dataframe tbody tr th {\n",
       "        vertical-align: top;\n",
       "    }\n",
       "</style>\n",
       "<table border=\"1\" class=\"dataframe\">\n",
       "  <thead>\n",
       "    <tr style=\"text-align: right;\">\n",
       "      <th></th>\n",
       "      <th>year</th>\n",
       "      <th>result</th>\n",
       "      <th>Ovr_ratio</th>\n",
       "      <th>Def_ratio</th>\n",
       "      <th>Mid_ratio</th>\n",
       "      <th>Fwd_ratio</th>\n",
       "      <th>Phy_ratio</th>\n",
       "      <th>Spd_ratio</th>\n",
       "      <th>2018 power_ratio</th>\n",
       "    </tr>\n",
       "  </thead>\n",
       "  <tbody>\n",
       "    <tr>\n",
       "      <th>0</th>\n",
       "      <td>2018</td>\n",
       "      <td>1</td>\n",
       "      <td>1.089744</td>\n",
       "      <td>1.113924</td>\n",
       "      <td>1.038462</td>\n",
       "      <td>1.118421</td>\n",
       "      <td>0.961538</td>\n",
       "      <td>1.052632</td>\n",
       "      <td>1.225042</td>\n",
       "    </tr>\n",
       "  </tbody>\n",
       "</table>\n",
       "</div>"
      ],
      "text/plain": [
       "   year  result  Ovr_ratio  Def_ratio  Mid_ratio  Fwd_ratio  Phy_ratio  \\\n",
       "0  2018       1   1.089744   1.113924   1.038462   1.118421   0.961538   \n",
       "\n",
       "   Spd_ratio  2018 power_ratio  \n",
       "0   1.052632          1.225042  "
      ]
     },
     "execution_count": 42,
     "metadata": {},
     "output_type": "execute_result"
    }
   ],
   "source": [
    "all_data_2018.head(1)"
   ]
  },
  {
   "cell_type": "code",
   "execution_count": 43,
   "metadata": {},
   "outputs": [
    {
     "data": {
      "text/plain": [
       "LogisticRegression(C=1.0, class_weight=None, dual=False, fit_intercept=True,\n",
       "          intercept_scaling=1, max_iter=100, multi_class='ovr', n_jobs=1,\n",
       "          penalty='l2', random_state=None, solver='liblinear', tol=0.0001,\n",
       "          verbose=0, warm_start=False)"
      ]
     },
     "execution_count": 43,
     "metadata": {},
     "output_type": "execute_result"
    }
   ],
   "source": [
    "from sklearn.linear_model import LogisticRegression\n",
    "X_train=all_data_2018.drop(['year','result'],axis=1)\n",
    "y_train=all_data_2018['result']\n",
    "\n",
    "logmodel = LogisticRegression()\n",
    "logmodel.fit(X_train,y_train)"
   ]
  },
  {
   "cell_type": "code",
   "execution_count": 44,
   "metadata": {},
   "outputs": [
    {
     "data": {
      "text/html": [
       "<div>\n",
       "<style>\n",
       "    .dataframe thead tr:only-child th {\n",
       "        text-align: right;\n",
       "    }\n",
       "\n",
       "    .dataframe thead th {\n",
       "        text-align: left;\n",
       "    }\n",
       "\n",
       "    .dataframe tbody tr th {\n",
       "        vertical-align: top;\n",
       "    }\n",
       "</style>\n",
       "<table border=\"1\" class=\"dataframe\">\n",
       "  <thead>\n",
       "    <tr style=\"text-align: right;\">\n",
       "      <th></th>\n",
       "      <th>Ovr_ratio</th>\n",
       "      <th>Def_ratio</th>\n",
       "      <th>Mid_ratio</th>\n",
       "      <th>Fwd_ratio</th>\n",
       "      <th>Phy_ratio</th>\n",
       "      <th>Spd_ratio</th>\n",
       "      <th>2018 power_ratio</th>\n",
       "    </tr>\n",
       "  </thead>\n",
       "  <tbody>\n",
       "    <tr>\n",
       "      <th>0</th>\n",
       "      <td>1.089744</td>\n",
       "      <td>1.113924</td>\n",
       "      <td>1.038462</td>\n",
       "      <td>1.118421</td>\n",
       "      <td>0.961538</td>\n",
       "      <td>1.052632</td>\n",
       "      <td>1.225042</td>\n",
       "    </tr>\n",
       "    <tr>\n",
       "      <th>1</th>\n",
       "      <td>1.000000</td>\n",
       "      <td>1.000000</td>\n",
       "      <td>0.975904</td>\n",
       "      <td>1.011905</td>\n",
       "      <td>0.961538</td>\n",
       "      <td>1.066667</td>\n",
       "      <td>0.721170</td>\n",
       "    </tr>\n",
       "    <tr>\n",
       "      <th>2</th>\n",
       "      <td>1.118421</td>\n",
       "      <td>1.173333</td>\n",
       "      <td>1.051948</td>\n",
       "      <td>1.148649</td>\n",
       "      <td>1.027397</td>\n",
       "      <td>1.095890</td>\n",
       "      <td>3.365749</td>\n",
       "    </tr>\n",
       "    <tr>\n",
       "      <th>3</th>\n",
       "      <td>1.089744</td>\n",
       "      <td>1.113924</td>\n",
       "      <td>1.064103</td>\n",
       "      <td>1.105263</td>\n",
       "      <td>1.000000</td>\n",
       "      <td>0.986842</td>\n",
       "      <td>1.698687</td>\n",
       "    </tr>\n",
       "    <tr>\n",
       "      <th>4</th>\n",
       "      <td>0.974359</td>\n",
       "      <td>0.949367</td>\n",
       "      <td>0.987179</td>\n",
       "      <td>0.973684</td>\n",
       "      <td>0.935897</td>\n",
       "      <td>0.960526</td>\n",
       "      <td>0.363973</td>\n",
       "    </tr>\n",
       "  </tbody>\n",
       "</table>\n",
       "</div>"
      ],
      "text/plain": [
       "   Ovr_ratio  Def_ratio  Mid_ratio  Fwd_ratio  Phy_ratio  Spd_ratio  \\\n",
       "0   1.089744   1.113924   1.038462   1.118421   0.961538   1.052632   \n",
       "1   1.000000   1.000000   0.975904   1.011905   0.961538   1.066667   \n",
       "2   1.118421   1.173333   1.051948   1.148649   1.027397   1.095890   \n",
       "3   1.089744   1.113924   1.064103   1.105263   1.000000   0.986842   \n",
       "4   0.974359   0.949367   0.987179   0.973684   0.935897   0.960526   \n",
       "\n",
       "   2018 power_ratio  \n",
       "0          1.225042  \n",
       "1          0.721170  \n",
       "2          3.365749  \n",
       "3          1.698687  \n",
       "4          0.363973  "
      ]
     },
     "execution_count": 44,
     "metadata": {},
     "output_type": "execute_result"
    }
   ],
   "source": [
    "X_train.head()"
   ]
  },
  {
   "cell_type": "code",
   "execution_count": 45,
   "metadata": {},
   "outputs": [],
   "source": [
    "result=pd.read_csv('../submission_template.csv')"
   ]
  },
  {
   "cell_type": "code",
   "execution_count": 46,
   "metadata": {
    "collapsed": true
   },
   "outputs": [],
   "source": [
    "result['gameName']=result['gameName'].apply(lambda team: team.lower())"
   ]
  },
  {
   "cell_type": "code",
   "execution_count": 47,
   "metadata": {
    "collapsed": true
   },
   "outputs": [],
   "source": [
    "def result_home(str):\n",
    "    result=''\n",
    "    s=str\n",
    "    z='saudi arabia'\n",
    "    a=s.find('saudi-arabia')\n",
    "    b=s.find('costa-rica')\n",
    "    c=s.find('south-korea')\n",
    "\n",
    "    if(a==0):\n",
    "        return 'saudi arabia'\n",
    "    if(b==0):\n",
    "        return 'costa rica'\n",
    "    if(c==0):\n",
    "        return 'republic of korea'\n",
    "    else:\n",
    "        f=s.split('-')[0]\n",
    "        return f"
   ]
  },
  {
   "cell_type": "code",
   "execution_count": 48,
   "metadata": {
    "collapsed": true
   },
   "outputs": [],
   "source": [
    "result['homeTeamName']=result['gameName'].apply(lambda team: result_home(team))"
   ]
  },
  {
   "cell_type": "code",
   "execution_count": 49,
   "metadata": {},
   "outputs": [
    {
     "data": {
      "text/html": [
       "<div>\n",
       "<style>\n",
       "    .dataframe thead tr:only-child th {\n",
       "        text-align: right;\n",
       "    }\n",
       "\n",
       "    .dataframe thead th {\n",
       "        text-align: left;\n",
       "    }\n",
       "\n",
       "    .dataframe tbody tr th {\n",
       "        vertical-align: top;\n",
       "    }\n",
       "</style>\n",
       "<table border=\"1\" class=\"dataframe\">\n",
       "  <thead>\n",
       "    <tr style=\"text-align: right;\">\n",
       "      <th></th>\n",
       "      <th>gameId</th>\n",
       "      <th>gameDate</th>\n",
       "      <th>homeTeamId</th>\n",
       "      <th>awayTeamId</th>\n",
       "      <th>gameName</th>\n",
       "      <th>p1</th>\n",
       "      <th>px</th>\n",
       "      <th>p2</th>\n",
       "      <th>homeTeamName</th>\n",
       "    </tr>\n",
       "  </thead>\n",
       "  <tbody>\n",
       "    <tr>\n",
       "      <th>0</th>\n",
       "      <td>1249942</td>\n",
       "      <td>2018-06-14 16:00:00</td>\n",
       "      <td>326</td>\n",
       "      <td>494</td>\n",
       "      <td>russia-saudi-arabia</td>\n",
       "      <td>NaN</td>\n",
       "      <td>NaN</td>\n",
       "      <td>NaN</td>\n",
       "      <td>russia</td>\n",
       "    </tr>\n",
       "    <tr>\n",
       "      <th>1</th>\n",
       "      <td>1249926</td>\n",
       "      <td>2018-06-15 13:00:00</td>\n",
       "      <td>944</td>\n",
       "      <td>967</td>\n",
       "      <td>egypt-uruguay</td>\n",
       "      <td>NaN</td>\n",
       "      <td>NaN</td>\n",
       "      <td>NaN</td>\n",
       "      <td>egypt</td>\n",
       "    </tr>\n",
       "    <tr>\n",
       "      <th>2</th>\n",
       "      <td>1249948</td>\n",
       "      <td>2018-06-15 16:00:00</td>\n",
       "      <td>495</td>\n",
       "      <td>1293</td>\n",
       "      <td>morocco-iran</td>\n",
       "      <td>NaN</td>\n",
       "      <td>NaN</td>\n",
       "      <td>NaN</td>\n",
       "      <td>morocco</td>\n",
       "    </tr>\n",
       "    <tr>\n",
       "      <th>3</th>\n",
       "      <td>1249919</td>\n",
       "      <td>2018-06-15 19:00:00</td>\n",
       "      <td>340</td>\n",
       "      <td>338</td>\n",
       "      <td>portugal-spain</td>\n",
       "      <td>NaN</td>\n",
       "      <td>NaN</td>\n",
       "      <td>NaN</td>\n",
       "      <td>portugal</td>\n",
       "    </tr>\n",
       "    <tr>\n",
       "      <th>4</th>\n",
       "      <td>1249951</td>\n",
       "      <td>2018-06-16 11:00:00</td>\n",
       "      <td>341</td>\n",
       "      <td>328</td>\n",
       "      <td>france-australia</td>\n",
       "      <td>NaN</td>\n",
       "      <td>NaN</td>\n",
       "      <td>NaN</td>\n",
       "      <td>france</td>\n",
       "    </tr>\n",
       "  </tbody>\n",
       "</table>\n",
       "</div>"
      ],
      "text/plain": [
       "    gameId             gameDate  homeTeamId  awayTeamId             gameName  \\\n",
       "0  1249942  2018-06-14 16:00:00         326         494  russia-saudi-arabia   \n",
       "1  1249926  2018-06-15 13:00:00         944         967        egypt-uruguay   \n",
       "2  1249948  2018-06-15 16:00:00         495        1293         morocco-iran   \n",
       "3  1249919  2018-06-15 19:00:00         340         338       portugal-spain   \n",
       "4  1249951  2018-06-16 11:00:00         341         328     france-australia   \n",
       "\n",
       "   p1  px  p2 homeTeamName  \n",
       "0 NaN NaN NaN       russia  \n",
       "1 NaN NaN NaN        egypt  \n",
       "2 NaN NaN NaN      morocco  \n",
       "3 NaN NaN NaN     portugal  \n",
       "4 NaN NaN NaN       france  "
      ]
     },
     "execution_count": 49,
     "metadata": {},
     "output_type": "execute_result"
    }
   ],
   "source": [
    "result.head()"
   ]
  },
  {
   "cell_type": "code",
   "execution_count": 50,
   "metadata": {
    "collapsed": true
   },
   "outputs": [],
   "source": [
    "def result_away(str):\n",
    "    result=''\n",
    "    s=str\n",
    "    z='saudi arabia'\n",
    "    a=s.find('saudi-arabia')\n",
    "    b=s.find('costa-rica')\n",
    "    c=s.find('south-korea')\n",
    "\n",
    "    if(a>0):\n",
    "        return 'saudi arabia'\n",
    "    if(b>0):\n",
    "        return 'costa rica'\n",
    "    if(c>0):\n",
    "        return 'republic of korea'\n",
    "    if(len(s.split('-'))==3):\n",
    "        f=s.split('-')[2]\n",
    "        return f\n",
    "        \n",
    "    f=s.split('-')[1]\n",
    "    return f"
   ]
  },
  {
   "cell_type": "code",
   "execution_count": 51,
   "metadata": {
    "collapsed": true
   },
   "outputs": [],
   "source": [
    "result['awayTeamName']=result['gameName'].apply(lambda team: result_away(team))"
   ]
  },
  {
   "cell_type": "code",
   "execution_count": 52,
   "metadata": {},
   "outputs": [
    {
     "name": "stderr",
     "output_type": "stream",
     "text": [
      "C:\\Users\\lenovo\\Anaconda3\\lib\\site-packages\\pandas\\core\\indexing.py:179: SettingWithCopyWarning: \n",
      "A value is trying to be set on a copy of a slice from a DataFrame\n",
      "\n",
      "See the caveats in the documentation: http://pandas.pydata.org/pandas-docs/stable/indexing.html#indexing-view-versus-copy\n",
      "  self._setitem_with_indexer(indexer, value)\n"
     ]
    }
   ],
   "source": [
    "National_team_2018['homeTeamName'].loc[National_team_2018['homeTeamName']=='korea dpr']='republic of korea'\n",
    "\n"
   ]
  },
  {
   "cell_type": "code",
   "execution_count": 53,
   "metadata": {
    "collapsed": true
   },
   "outputs": [],
   "source": [
    "National_team_2018.columns=['homeTeamName', 'Ovr_home', 'Def_home', 'Mid_home', 'Fwd_home','Phy_home', 'Spd_home', 'year_home', '2018 power_home']"
   ]
  },
  {
   "cell_type": "code",
   "execution_count": 54,
   "metadata": {
    "collapsed": true
   },
   "outputs": [],
   "source": [
    "result_2018=pd.merge(result,National_team_2018,how='inner',on='homeTeamName')"
   ]
  },
  {
   "cell_type": "code",
   "execution_count": 55,
   "metadata": {
    "collapsed": true
   },
   "outputs": [],
   "source": [
    "National_team_2018.columns=['awayTeamName', 'Ovr_away', 'Def_away', 'Mid_away', 'Fwd_away', 'Phy_away', 'Spd_away', 'year_away', '2018 power_away']"
   ]
  },
  {
   "cell_type": "code",
   "execution_count": 56,
   "metadata": {
    "collapsed": true
   },
   "outputs": [],
   "source": [
    "result_2018=pd.merge(result_2018,National_team_2018,how='inner',on='awayTeamName')\n"
   ]
  },
  {
   "cell_type": "code",
   "execution_count": 57,
   "metadata": {},
   "outputs": [
    {
     "name": "stderr",
     "output_type": "stream",
     "text": [
      "C:\\Users\\lenovo\\Anaconda3\\lib\\site-packages\\ipykernel_launcher.py:9: SettingWithCopyWarning: \n",
      "A value is trying to be set on a copy of a slice from a DataFrame\n",
      "\n",
      "See the caveats in the documentation: http://pandas.pydata.org/pandas-docs/stable/indexing.html#indexing-view-versus-copy\n",
      "  if __name__ == '__main__':\n",
      "C:\\Users\\lenovo\\Anaconda3\\lib\\site-packages\\ipykernel_launcher.py:10: SettingWithCopyWarning: \n",
      "A value is trying to be set on a copy of a slice from a DataFrame\n",
      "\n",
      "See the caveats in the documentation: http://pandas.pydata.org/pandas-docs/stable/indexing.html#indexing-view-versus-copy\n",
      "  # Remove the CWD from sys.path while we load stuff.\n",
      "C:\\Users\\lenovo\\Anaconda3\\lib\\site-packages\\ipykernel_launcher.py:11: SettingWithCopyWarning: \n",
      "A value is trying to be set on a copy of a slice from a DataFrame\n",
      "\n",
      "See the caveats in the documentation: http://pandas.pydata.org/pandas-docs/stable/indexing.html#indexing-view-versus-copy\n",
      "  # This is added back by InteractiveShellApp.init_path()\n",
      "C:\\Users\\lenovo\\Anaconda3\\lib\\site-packages\\ipykernel_launcher.py:12: SettingWithCopyWarning: \n",
      "A value is trying to be set on a copy of a slice from a DataFrame\n",
      "\n",
      "See the caveats in the documentation: http://pandas.pydata.org/pandas-docs/stable/indexing.html#indexing-view-versus-copy\n",
      "  if sys.path[0] == '':\n",
      "C:\\Users\\lenovo\\Anaconda3\\lib\\site-packages\\ipykernel_launcher.py:13: SettingWithCopyWarning: \n",
      "A value is trying to be set on a copy of a slice from a DataFrame\n",
      "\n",
      "See the caveats in the documentation: http://pandas.pydata.org/pandas-docs/stable/indexing.html#indexing-view-versus-copy\n",
      "  del sys.path[0]\n",
      "C:\\Users\\lenovo\\Anaconda3\\lib\\site-packages\\ipykernel_launcher.py:14: SettingWithCopyWarning: \n",
      "A value is trying to be set on a copy of a slice from a DataFrame\n",
      "\n",
      "See the caveats in the documentation: http://pandas.pydata.org/pandas-docs/stable/indexing.html#indexing-view-versus-copy\n",
      "  \n",
      "C:\\Users\\lenovo\\Anaconda3\\lib\\site-packages\\ipykernel_launcher.py:15: SettingWithCopyWarning: \n",
      "A value is trying to be set on a copy of a slice from a DataFrame\n",
      "\n",
      "See the caveats in the documentation: http://pandas.pydata.org/pandas-docs/stable/indexing.html#indexing-view-versus-copy\n",
      "  from ipykernel import kernelapp as app\n"
     ]
    }
   ],
   "source": [
    "result_2018['Ovr_ratio']=0.0\n",
    "result_2018['Def_ratio']=0.0\n",
    "result_2018['Mid_ratio']=0.0\n",
    "result_2018['Fwd_ratio']=0.0\n",
    "result_2018['Phy_ratio']=0.0\n",
    "result_2018['Spd_ratio']=0.0\n",
    "result_2018['2018 power_ratio']=0.0\n",
    "for i in range(result_2018.shape[0]):\n",
    "    result_2018['Ovr_ratio'][i]=result_2018['Ovr_home'][i]/result_2018['Ovr_away'][i]\n",
    "    result_2018['Def_ratio'][i]=result_2018['Def_home'][i]/result_2018['Def_away'][i]\n",
    "    result_2018['Mid_ratio'][i]=result_2018['Mid_home'][i]/result_2018['Mid_away'][i]\n",
    "    result_2018['Fwd_ratio'][i]=result_2018['Fwd_home'][i]/result_2018['Fwd_away'][i]\n",
    "    result_2018['Phy_ratio'][i]=result_2018['Phy_home'][i]/result_2018['Phy_away'][i]\n",
    "    result_2018['Spd_ratio'][i]=result_2018['Spd_home'][i]/result_2018['Spd_away'][i]\n",
    "    result_2018['2018 power_ratio'][i]=result_2018['2018 power_home'][i]/result_2018['2018 power_away'][i]\n"
   ]
  },
  {
   "cell_type": "code",
   "execution_count": 58,
   "metadata": {
    "collapsed": true
   },
   "outputs": [],
   "source": [
    "X_test=result_2018.drop(['gameId', 'gameDate', 'homeTeamId', 'awayTeamId', 'gameName', 'p1',\n",
    "       'px', 'p2', 'homeTeamName', 'awayTeamName', 'Ovr_home', 'Def_home',\n",
    "       'Mid_home', 'Fwd_home', 'Phy_home', 'Spd_home', 'year_home',\n",
    "       '2018 power_home', 'Ovr_away', 'Def_away', 'Mid_away', 'Fwd_away',\n",
    "       'Phy_away', 'Spd_away', 'year_away', '2018 power_away'],axis=1)"
   ]
  },
  {
   "cell_type": "code",
   "execution_count": 59,
   "metadata": {
    "collapsed": true
   },
   "outputs": [],
   "source": [
    "prediction=logmodel.predict_proba(X_test)\n",
    "prediction1=logmodel.predict(X_test)"
   ]
  },
  {
   "cell_type": "code",
   "execution_count": 60,
   "metadata": {},
   "outputs": [
    {
     "name": "stderr",
     "output_type": "stream",
     "text": [
      "C:\\Users\\lenovo\\Anaconda3\\lib\\site-packages\\ipykernel_launcher.py:2: SettingWithCopyWarning: \n",
      "A value is trying to be set on a copy of a slice from a DataFrame\n",
      "\n",
      "See the caveats in the documentation: http://pandas.pydata.org/pandas-docs/stable/indexing.html#indexing-view-versus-copy\n",
      "  \n",
      "C:\\Users\\lenovo\\Anaconda3\\lib\\site-packages\\ipykernel_launcher.py:3: SettingWithCopyWarning: \n",
      "A value is trying to be set on a copy of a slice from a DataFrame\n",
      "\n",
      "See the caveats in the documentation: http://pandas.pydata.org/pandas-docs/stable/indexing.html#indexing-view-versus-copy\n",
      "  This is separate from the ipykernel package so we can avoid doing imports until\n",
      "C:\\Users\\lenovo\\Anaconda3\\lib\\site-packages\\ipykernel_launcher.py:4: SettingWithCopyWarning: \n",
      "A value is trying to be set on a copy of a slice from a DataFrame\n",
      "\n",
      "See the caveats in the documentation: http://pandas.pydata.org/pandas-docs/stable/indexing.html#indexing-view-versus-copy\n",
      "  after removing the cwd from sys.path.\n"
     ]
    }
   ],
   "source": [
    "for i in range(result.shape[0]):\n",
    "    result['p2'][i]=prediction[i][2]\n",
    "    result['p1'][i]=prediction[i][1]\n",
    "    result['px'][i]=prediction[i][0]"
   ]
  },
  {
   "cell_type": "code",
   "execution_count": 61,
   "metadata": {
    "collapsed": true
   },
   "outputs": [],
   "source": [
    "result.drop(['homeTeamName','awayTeamName'],axis=1,inplace=True)"
   ]
  },
  {
   "cell_type": "code",
   "execution_count": 62,
   "metadata": {
    "collapsed": true
   },
   "outputs": [],
   "source": [
    "result.to_csv('submission_template_2018.csv')"
   ]
  }
 ],
 "metadata": {
  "kernelspec": {
   "display_name": "Python 3",
   "language": "python",
   "name": "python3"
  },
  "language_info": {
   "codemirror_mode": {
    "name": "ipython",
    "version": 3
   },
   "file_extension": ".py",
   "mimetype": "text/x-python",
   "name": "python",
   "nbconvert_exporter": "python",
   "pygments_lexer": "ipython3",
   "version": "3.6.1"
  }
 },
 "nbformat": 4,
 "nbformat_minor": 2
}
