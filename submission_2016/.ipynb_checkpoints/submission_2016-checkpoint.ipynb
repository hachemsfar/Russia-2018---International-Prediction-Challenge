{
 "cells": [
  {
   "cell_type": "code",
   "execution_count": 1,
   "metadata": {
    "collapsed": true
   },
   "outputs": [],
   "source": [
    "import numpy as np # linear algebra\n",
    "import pandas as pd # data processing, CSV file I/O (e.g. pd.read_csv)\n",
    "\n",
    "from datetime import date\n",
    "from tqdm import tqdm"
   ]
  },
  {
   "cell_type": "code",
   "execution_count": 2,
   "metadata": {
    "collapsed": true
   },
   "outputs": [],
   "source": [
    "df=pd.read_csv('../basicData.csv')"
   ]
  },
  {
   "cell_type": "code",
   "execution_count": 3,
   "metadata": {},
   "outputs": [
    {
     "name": "stdout",
     "output_type": "stream",
     "text": [
      "<class 'pandas.core.frame.DataFrame'>\n",
      "RangeIndex: 86391 entries, 0 to 86390\n",
      "Data columns (total 10 columns):\n",
      "gameId             86391 non-null int64\n",
      "HT_goals           86391 non-null int64\n",
      "competitionName    86391 non-null object\n",
      "awayTeamName       86391 non-null object\n",
      "homeTeamName       86391 non-null object\n",
      "date               86391 non-null object\n",
      "AT_goals           86391 non-null int64\n",
      "HT_id              86391 non-null int64\n",
      "competitionId      81394 non-null float64\n",
      "AT_id              86391 non-null int64\n",
      "dtypes: float64(1), int64(5), object(4)\n",
      "memory usage: 6.6+ MB\n"
     ]
    }
   ],
   "source": [
    "df.info()"
   ]
  },
  {
   "cell_type": "code",
   "execution_count": 4,
   "metadata": {
    "collapsed": true
   },
   "outputs": [],
   "source": [
    "df['date'] = df['date'].apply(lambda Date: Date.split(' ')[0])"
   ]
  },
  {
   "cell_type": "code",
   "execution_count": 5,
   "metadata": {
    "collapsed": true
   },
   "outputs": [],
   "source": [
    "df['year'] = df['date'].apply(lambda Date: Date.split('-')[0])"
   ]
  },
  {
   "cell_type": "code",
   "execution_count": 6,
   "metadata": {
    "collapsed": true
   },
   "outputs": [],
   "source": [
    "df['awayTeamName']=df['awayTeamName'].apply(lambda team: team.lower())\n",
    "df['homeTeamName']=df['homeTeamName'].apply(lambda team: team.lower())"
   ]
  },
  {
   "cell_type": "code",
   "execution_count": 7,
   "metadata": {
    "scrolled": true
   },
   "outputs": [
    {
     "data": {
      "text/html": [
       "<div>\n",
       "<style>\n",
       "    .dataframe thead tr:only-child th {\n",
       "        text-align: right;\n",
       "    }\n",
       "\n",
       "    .dataframe thead th {\n",
       "        text-align: left;\n",
       "    }\n",
       "\n",
       "    .dataframe tbody tr th {\n",
       "        vertical-align: top;\n",
       "    }\n",
       "</style>\n",
       "<table border=\"1\" class=\"dataframe\">\n",
       "  <thead>\n",
       "    <tr style=\"text-align: right;\">\n",
       "      <th></th>\n",
       "      <th>gameId</th>\n",
       "      <th>HT_goals</th>\n",
       "      <th>competitionName</th>\n",
       "      <th>awayTeamName</th>\n",
       "      <th>homeTeamName</th>\n",
       "      <th>date</th>\n",
       "      <th>AT_goals</th>\n",
       "      <th>HT_id</th>\n",
       "      <th>competitionId</th>\n",
       "      <th>AT_id</th>\n",
       "      <th>year</th>\n",
       "    </tr>\n",
       "  </thead>\n",
       "  <tbody>\n",
       "    <tr>\n",
       "      <th>0</th>\n",
       "      <td>669044</td>\n",
       "      <td>2</td>\n",
       "      <td>Finnish Veikkausliiga</td>\n",
       "      <td>jjk jyvaskyla</td>\n",
       "      <td>kps kuopio</td>\n",
       "      <td>2013-07-15</td>\n",
       "      <td>1</td>\n",
       "      <td>2031</td>\n",
       "      <td>208.0</td>\n",
       "      <td>5086</td>\n",
       "      <td>2013</td>\n",
       "    </tr>\n",
       "    <tr>\n",
       "      <th>1</th>\n",
       "      <td>668800</td>\n",
       "      <td>3</td>\n",
       "      <td>Swedish Allsvenskan</td>\n",
       "      <td>osters</td>\n",
       "      <td>helsingborgs</td>\n",
       "      <td>2013-07-15</td>\n",
       "      <td>0</td>\n",
       "      <td>1296</td>\n",
       "      <td>205.0</td>\n",
       "      <td>1954</td>\n",
       "      <td>2013</td>\n",
       "    </tr>\n",
       "    <tr>\n",
       "      <th>2</th>\n",
       "      <td>677919</td>\n",
       "      <td>6</td>\n",
       "      <td>Champions League</td>\n",
       "      <td>eb streymur</td>\n",
       "      <td>dinamo tbilisi</td>\n",
       "      <td>2013-07-16</td>\n",
       "      <td>1</td>\n",
       "      <td>823</td>\n",
       "      <td>66.0</td>\n",
       "      <td>4441</td>\n",
       "      <td>2013</td>\n",
       "    </tr>\n",
       "    <tr>\n",
       "      <th>3</th>\n",
       "      <td>677924</td>\n",
       "      <td>3</td>\n",
       "      <td>Champions League</td>\n",
       "      <td>vardar skopje</td>\n",
       "      <td>steaua</td>\n",
       "      <td>2013-07-16</td>\n",
       "      <td>0</td>\n",
       "      <td>2251</td>\n",
       "      <td>66.0</td>\n",
       "      <td>2669</td>\n",
       "      <td>2013</td>\n",
       "    </tr>\n",
       "    <tr>\n",
       "      <th>4</th>\n",
       "      <td>677931</td>\n",
       "      <td>2</td>\n",
       "      <td>Champions League</td>\n",
       "      <td>ludogorets</td>\n",
       "      <td>s. bratislava</td>\n",
       "      <td>2013-07-17</td>\n",
       "      <td>1</td>\n",
       "      <td>2368</td>\n",
       "      <td>66.0</td>\n",
       "      <td>5344</td>\n",
       "      <td>2013</td>\n",
       "    </tr>\n",
       "  </tbody>\n",
       "</table>\n",
       "</div>"
      ],
      "text/plain": [
       "   gameId  HT_goals        competitionName   awayTeamName    homeTeamName  \\\n",
       "0  669044         2  Finnish Veikkausliiga  jjk jyvaskyla      kps kuopio   \n",
       "1  668800         3    Swedish Allsvenskan         osters    helsingborgs   \n",
       "2  677919         6       Champions League    eb streymur  dinamo tbilisi   \n",
       "3  677924         3       Champions League  vardar skopje          steaua   \n",
       "4  677931         2       Champions League     ludogorets   s. bratislava   \n",
       "\n",
       "         date  AT_goals  HT_id  competitionId  AT_id  year  \n",
       "0  2013-07-15         1   2031          208.0   5086  2013  \n",
       "1  2013-07-15         0   1296          205.0   1954  2013  \n",
       "2  2013-07-16         1    823           66.0   4441  2013  \n",
       "3  2013-07-16         0   2251           66.0   2669  2013  \n",
       "4  2013-07-17         1   2368           66.0   5344  2013  "
      ]
     },
     "execution_count": 7,
     "metadata": {},
     "output_type": "execute_result"
    }
   ],
   "source": [
    "df.head()"
   ]
  },
  {
   "cell_type": "code",
   "execution_count": 8,
   "metadata": {
    "collapsed": true
   },
   "outputs": [],
   "source": [
    "import requests\n",
    "\n",
    "url = 'https://www.fifa.com/fifa-world-ranking/ranking-table/men/index.html'\n",
    "\n",
    "header = {\n",
    "  \"User-Agent\": \"Mozilla/5.0 (X11; Linux x86_64) AppleWebKit/537.36 (KHTML, like Gecko) Chrome/50.0.2661.75 Safari/537.36\",\n",
    "  \"X-Requested-With\": \"XMLHttpRequest\"\n",
    "}\n",
    "\n",
    "r = requests.get(url, headers=header)\n",
    "\n",
    "score_fifa = pd.read_html(r.text)\n",
    "score_fifa=score_fifa[0]"
   ]
  },
  {
   "cell_type": "code",
   "execution_count": 9,
   "metadata": {
    "collapsed": true
   },
   "outputs": [],
   "source": [
    "score_fifa=score_fifa.drop([' ', '2018 (100 %)', '2016 (30 %)', '2015 (20 %)',\n",
    "      'Unnamed: 6', 'Unnamed: 7', 'Unnamed: 8',\n",
    "       'Unnamed: 10', 'Unnamed: 12',\n",
    "       'Unnamed: 14', 'Unnamed: 16', 'Unnamed: 17',\n",
    "       'Unnamed: 18', 'Unnamed: 19'],axis=1)"
   ]
  },
  {
   "cell_type": "code",
   "execution_count": 10,
   "metadata": {
    "collapsed": true
   },
   "outputs": [],
   "source": [
    "score_fifa.columns=['Name','Total Points','2018 power','2017 power','2016 power','2015 power']"
   ]
  },
  {
   "cell_type": "code",
   "execution_count": 11,
   "metadata": {
    "collapsed": true
   },
   "outputs": [],
   "source": [
    "score_fifa['Total Points'] = score_fifa['Total Points'].apply(lambda x: x.split('(')[1])\n",
    "score_fifa['Total Points'] = score_fifa['Total Points'].apply(lambda x: x.split(')')[0])\n"
   ]
  },
  {
   "cell_type": "code",
   "execution_count": 12,
   "metadata": {
    "collapsed": true
   },
   "outputs": [],
   "source": [
    "score_fifa['Total Points']=score_fifa['Total Points'].astype(float)"
   ]
  },
  {
   "cell_type": "code",
   "execution_count": 13,
   "metadata": {},
   "outputs": [
    {
     "data": {
      "text/html": [
       "<div>\n",
       "<style>\n",
       "    .dataframe thead tr:only-child th {\n",
       "        text-align: right;\n",
       "    }\n",
       "\n",
       "    .dataframe thead th {\n",
       "        text-align: left;\n",
       "    }\n",
       "\n",
       "    .dataframe tbody tr th {\n",
       "        vertical-align: top;\n",
       "    }\n",
       "</style>\n",
       "<table border=\"1\" class=\"dataframe\">\n",
       "  <thead>\n",
       "    <tr style=\"text-align: right;\">\n",
       "      <th></th>\n",
       "      <th>Name</th>\n",
       "      <th>Total Points</th>\n",
       "      <th>2018 power</th>\n",
       "      <th>2017 power</th>\n",
       "      <th>2016 power</th>\n",
       "      <th>2015 power</th>\n",
       "    </tr>\n",
       "  </thead>\n",
       "  <tbody>\n",
       "    <tr>\n",
       "      <th>0</th>\n",
       "      <td>Germany</td>\n",
       "      <td>1558.49</td>\n",
       "      <td>775.06</td>\n",
       "      <td>832.00</td>\n",
       "      <td>424.26</td>\n",
       "      <td>1200.77</td>\n",
       "    </tr>\n",
       "    <tr>\n",
       "      <th>1</th>\n",
       "      <td>Brazil</td>\n",
       "      <td>1430.57</td>\n",
       "      <td>558.95</td>\n",
       "      <td>1082.36</td>\n",
       "      <td>560.21</td>\n",
       "      <td>811.88</td>\n",
       "    </tr>\n",
       "    <tr>\n",
       "      <th>2</th>\n",
       "      <td>Belgium</td>\n",
       "      <td>1298.32</td>\n",
       "      <td>629.98</td>\n",
       "      <td>645.63</td>\n",
       "      <td>529.80</td>\n",
       "      <td>932.92</td>\n",
       "    </tr>\n",
       "    <tr>\n",
       "      <th>3</th>\n",
       "      <td>Portugal</td>\n",
       "      <td>1273.69</td>\n",
       "      <td>646.92</td>\n",
       "      <td>691.82</td>\n",
       "      <td>517.77</td>\n",
       "      <td>627.63</td>\n",
       "    </tr>\n",
       "    <tr>\n",
       "      <th>4</th>\n",
       "      <td>Argentina</td>\n",
       "      <td>1241.45</td>\n",
       "      <td>404.07</td>\n",
       "      <td>809.59</td>\n",
       "      <td>829.98</td>\n",
       "      <td>917.94</td>\n",
       "    </tr>\n",
       "  </tbody>\n",
       "</table>\n",
       "</div>"
      ],
      "text/plain": [
       "        Name  Total Points  2018 power  2017 power  2016 power  2015 power\n",
       "0    Germany       1558.49      775.06      832.00      424.26     1200.77\n",
       "1     Brazil       1430.57      558.95     1082.36      560.21      811.88\n",
       "2    Belgium       1298.32      629.98      645.63      529.80      932.92\n",
       "3   Portugal       1273.69      646.92      691.82      517.77      627.63\n",
       "4  Argentina       1241.45      404.07      809.59      829.98      917.94"
      ]
     },
     "execution_count": 13,
     "metadata": {},
     "output_type": "execute_result"
    }
   ],
   "source": [
    "score_fifa.head()"
   ]
  },
  {
   "cell_type": "markdown",
   "metadata": {},
   "source": [
    "*** 2016 ***"
   ]
  },
  {
   "cell_type": "code",
   "execution_count": 14,
   "metadata": {
    "collapsed": true
   },
   "outputs": [],
   "source": [
    "National_europe = pd.read_html('http://www.pesmaster.com/national-teams-europe/pes-2016/league/90/')\n",
    "National_europe=National_europe[1]\n",
    "National_europe['year']='2016'\n",
    "\n",
    "National_africa = pd.read_html('http://www.pesmaster.com/national-teams-africa/pes-2016/league/91/')\n",
    "National_africa=National_africa[1]\n",
    "National_africa['year']='2016'\n",
    "\n",
    "National_South_Am=pd.read_html('http://www.pesmaster.com/national-teams-south-america/pes-2016/league/93/')\n",
    "National_South_Am=National_South_Am[1]\n",
    "National_South_Am['year']='2016'\n",
    "\n",
    "National_america = pd.read_html('http://www.pesmaster.com/national-teams-north-america/pes-2016/league/92/')\n",
    "National_america=National_america[1]\n",
    "National_america['year']='2016'\n",
    "\n",
    "National_asia = pd.read_html('http://www.pesmaster.com/national-teams-asia/pes-2016/league/94/')\n",
    "National_asia=National_asia[1]\n",
    "National_asia['year']='2016'\n",
    "\n",
    "National_team=[National_europe,National_africa,National_South_Am,National_america,National_asia]\n",
    "National_team=pd.concat(National_team)"
   ]
  },
  {
   "cell_type": "code",
   "execution_count": 15,
   "metadata": {
    "collapsed": true
   },
   "outputs": [],
   "source": [
    "National_team['Name']=National_team['Name'].apply(lambda team: team.lower())"
   ]
  },
  {
   "cell_type": "code",
   "execution_count": 16,
   "metadata": {},
   "outputs": [
    {
     "name": "stderr",
     "output_type": "stream",
     "text": [
      "C:\\Users\\lenovo\\Anaconda3\\lib\\site-packages\\pandas\\core\\indexing.py:179: SettingWithCopyWarning: \n",
      "A value is trying to be set on a copy of a slice from a DataFrame\n",
      "\n",
      "See the caveats in the documentation: http://pandas.pydata.org/pandas-docs/stable/indexing.html#indexing-view-versus-copy\n",
      "  self._setitem_with_indexer(indexer, value)\n"
     ]
    }
   ],
   "source": [
    "National_team['Name'].loc[National_team['Name']=='south korea']='republic of korea'"
   ]
  },
  {
   "cell_type": "code",
   "execution_count": 17,
   "metadata": {},
   "outputs": [
    {
     "name": "stderr",
     "output_type": "stream",
     "text": [
      "C:\\Users\\lenovo\\Anaconda3\\lib\\site-packages\\ipykernel_launcher.py:2: SettingWithCopyWarning: \n",
      "A value is trying to be set on a copy of a slice from a DataFrame.\n",
      "Try using .loc[row_indexer,col_indexer] = value instead\n",
      "\n",
      "See the caveats in the documentation: http://pandas.pydata.org/pandas-docs/stable/indexing.html#indexing-view-versus-copy\n",
      "  \n"
     ]
    }
   ],
   "source": [
    "score_fifa_2016=score_fifa[['Name','2016 power']]\n",
    "score_fifa_2016['Name']=score_fifa_2016['Name'].apply(lambda team: team.lower())"
   ]
  },
  {
   "cell_type": "code",
   "execution_count": 18,
   "metadata": {},
   "outputs": [
    {
     "name": "stderr",
     "output_type": "stream",
     "text": [
      "C:\\Users\\lenovo\\Anaconda3\\lib\\site-packages\\pandas\\core\\indexing.py:179: SettingWithCopyWarning: \n",
      "A value is trying to be set on a copy of a slice from a DataFrame\n",
      "\n",
      "See the caveats in the documentation: http://pandas.pydata.org/pandas-docs/stable/indexing.html#indexing-view-versus-copy\n",
      "  self._setitem_with_indexer(indexer, value)\n",
      "C:\\Users\\lenovo\\Anaconda3\\lib\\site-packages\\ipykernel_launcher.py:1: SettingWithCopyWarning: \n",
      "A value is trying to be set on a copy of a slice from a DataFrame\n",
      "\n",
      "See the caveats in the documentation: http://pandas.pydata.org/pandas-docs/stable/indexing.html#indexing-view-versus-copy\n",
      "  \"\"\"Entry point for launching an IPython kernel.\n",
      "C:\\Users\\lenovo\\Anaconda3\\lib\\site-packages\\ipykernel_launcher.py:2: SettingWithCopyWarning: \n",
      "A value is trying to be set on a copy of a slice from a DataFrame\n",
      "\n",
      "See the caveats in the documentation: http://pandas.pydata.org/pandas-docs/stable/indexing.html#indexing-view-versus-copy\n",
      "  \n",
      "C:\\Users\\lenovo\\Anaconda3\\lib\\site-packages\\ipykernel_launcher.py:3: SettingWithCopyWarning: \n",
      "A value is trying to be set on a copy of a slice from a DataFrame\n",
      "\n",
      "See the caveats in the documentation: http://pandas.pydata.org/pandas-docs/stable/indexing.html#indexing-view-versus-copy\n",
      "  This is separate from the ipykernel package so we can avoid doing imports until\n"
     ]
    },
    {
     "data": {
      "text/html": [
       "<div>\n",
       "<style>\n",
       "    .dataframe thead tr:only-child th {\n",
       "        text-align: right;\n",
       "    }\n",
       "\n",
       "    .dataframe thead th {\n",
       "        text-align: left;\n",
       "    }\n",
       "\n",
       "    .dataframe tbody tr th {\n",
       "        vertical-align: top;\n",
       "    }\n",
       "</style>\n",
       "<table border=\"1\" class=\"dataframe\">\n",
       "  <thead>\n",
       "    <tr style=\"text-align: right;\">\n",
       "      <th></th>\n",
       "      <th>Name</th>\n",
       "      <th>2016 power</th>\n",
       "    </tr>\n",
       "  </thead>\n",
       "  <tbody>\n",
       "    <tr>\n",
       "      <th>36</th>\n",
       "      <td>iran</td>\n",
       "      <td>308.01</td>\n",
       "    </tr>\n",
       "  </tbody>\n",
       "</table>\n",
       "</div>"
      ],
      "text/plain": [
       "    Name  2016 power\n",
       "36  iran      308.01"
      ]
     },
     "execution_count": 18,
     "metadata": {},
     "output_type": "execute_result"
    }
   ],
   "source": [
    "score_fifa_2016['Name'].loc[score_fifa_2016['Name']=='ir iran']='iran'\n",
    "score_fifa_2016['Name'].loc[score_fifa_2016['Name']=='korea republic']='republic of korea'\n",
    "score_fifa_2016['Name'].loc[score_fifa_2016['Name']=='Korea Republic']='republic of korea'\n",
    "score_fifa_2016[score_fifa_2016['Name']=='iran']\n"
   ]
  },
  {
   "cell_type": "code",
   "execution_count": 19,
   "metadata": {
    "collapsed": true
   },
   "outputs": [],
   "source": [
    "National_team_2016=pd.merge(National_team,score_fifa_2016,how='inner',on='Name')"
   ]
  },
  {
   "cell_type": "code",
   "execution_count": 20,
   "metadata": {},
   "outputs": [
    {
     "data": {
      "text/html": [
       "<div>\n",
       "<style>\n",
       "    .dataframe thead tr:only-child th {\n",
       "        text-align: right;\n",
       "    }\n",
       "\n",
       "    .dataframe thead th {\n",
       "        text-align: left;\n",
       "    }\n",
       "\n",
       "    .dataframe tbody tr th {\n",
       "        vertical-align: top;\n",
       "    }\n",
       "</style>\n",
       "<table border=\"1\" class=\"dataframe\">\n",
       "  <thead>\n",
       "    <tr style=\"text-align: right;\">\n",
       "      <th></th>\n",
       "      <th>Name</th>\n",
       "      <th>Ovr</th>\n",
       "      <th>Def</th>\n",
       "      <th>Mid</th>\n",
       "      <th>Fwd</th>\n",
       "      <th>Phy</th>\n",
       "      <th>Spd</th>\n",
       "      <th>year</th>\n",
       "      <th>2016 power</th>\n",
       "    </tr>\n",
       "  </thead>\n",
       "  <tbody>\n",
       "    <tr>\n",
       "      <th>0</th>\n",
       "      <td>spain</td>\n",
       "      <td>86</td>\n",
       "      <td>83</td>\n",
       "      <td>84</td>\n",
       "      <td>0</td>\n",
       "      <td>77</td>\n",
       "      <td>76</td>\n",
       "      <td>2016</td>\n",
       "      <td>646.40</td>\n",
       "    </tr>\n",
       "    <tr>\n",
       "      <th>1</th>\n",
       "      <td>france</td>\n",
       "      <td>85</td>\n",
       "      <td>85</td>\n",
       "      <td>85</td>\n",
       "      <td>86</td>\n",
       "      <td>83</td>\n",
       "      <td>78</td>\n",
       "      <td>2016</td>\n",
       "      <td>393.65</td>\n",
       "    </tr>\n",
       "    <tr>\n",
       "      <th>2</th>\n",
       "      <td>germany</td>\n",
       "      <td>85</td>\n",
       "      <td>88</td>\n",
       "      <td>83</td>\n",
       "      <td>86</td>\n",
       "      <td>80</td>\n",
       "      <td>78</td>\n",
       "      <td>2016</td>\n",
       "      <td>424.26</td>\n",
       "    </tr>\n",
       "    <tr>\n",
       "      <th>3</th>\n",
       "      <td>belgium</td>\n",
       "      <td>84</td>\n",
       "      <td>82</td>\n",
       "      <td>80</td>\n",
       "      <td>84</td>\n",
       "      <td>84</td>\n",
       "      <td>77</td>\n",
       "      <td>2016</td>\n",
       "      <td>529.80</td>\n",
       "    </tr>\n",
       "    <tr>\n",
       "      <th>4</th>\n",
       "      <td>italy</td>\n",
       "      <td>83</td>\n",
       "      <td>80</td>\n",
       "      <td>86</td>\n",
       "      <td>80</td>\n",
       "      <td>80</td>\n",
       "      <td>76</td>\n",
       "      <td>2016</td>\n",
       "      <td>415.76</td>\n",
       "    </tr>\n",
       "  </tbody>\n",
       "</table>\n",
       "</div>"
      ],
      "text/plain": [
       "      Name  Ovr  Def  Mid  Fwd  Phy  Spd  year  2016 power\n",
       "0    spain   86   83   84    0   77   76  2016      646.40\n",
       "1   france   85   85   85   86   83   78  2016      393.65\n",
       "2  germany   85   88   83   86   80   78  2016      424.26\n",
       "3  belgium   84   82   80   84   84   77  2016      529.80\n",
       "4    italy   83   80   86   80   80   76  2016      415.76"
      ]
     },
     "execution_count": 20,
     "metadata": {},
     "output_type": "execute_result"
    }
   ],
   "source": [
    "National_team_2016.head()"
   ]
  },
  {
   "cell_type": "code",
   "execution_count": 21,
   "metadata": {
    "collapsed": true
   },
   "outputs": [],
   "source": [
    "National_team_2016.columns=['awayTeamName', 'Ovr_away', 'Def_away', 'Mid_away', 'Fwd_away', 'Phy_away', 'Spd_away', 'year_away', '2016 power_away']"
   ]
  },
  {
   "cell_type": "code",
   "execution_count": 22,
   "metadata": {
    "collapsed": true
   },
   "outputs": [],
   "source": [
    "df2016=df[df['year']=='2016']"
   ]
  },
  {
   "cell_type": "code",
   "execution_count": 23,
   "metadata": {},
   "outputs": [
    {
     "data": {
      "text/html": [
       "<div>\n",
       "<style>\n",
       "    .dataframe thead tr:only-child th {\n",
       "        text-align: right;\n",
       "    }\n",
       "\n",
       "    .dataframe thead th {\n",
       "        text-align: left;\n",
       "    }\n",
       "\n",
       "    .dataframe tbody tr th {\n",
       "        vertical-align: top;\n",
       "    }\n",
       "</style>\n",
       "<table border=\"1\" class=\"dataframe\">\n",
       "  <thead>\n",
       "    <tr style=\"text-align: right;\">\n",
       "      <th></th>\n",
       "      <th>gameId</th>\n",
       "      <th>HT_goals</th>\n",
       "      <th>competitionName</th>\n",
       "      <th>awayTeamName</th>\n",
       "      <th>homeTeamName</th>\n",
       "      <th>date</th>\n",
       "      <th>AT_goals</th>\n",
       "      <th>HT_id</th>\n",
       "      <th>competitionId</th>\n",
       "      <th>AT_id</th>\n",
       "      <th>year</th>\n",
       "    </tr>\n",
       "  </thead>\n",
       "  <tbody>\n",
       "    <tr>\n",
       "      <th>44754</th>\n",
       "      <td>709301</td>\n",
       "      <td>0</td>\n",
       "      <td>Championship</td>\n",
       "      <td>wolves</td>\n",
       "      <td>brighton</td>\n",
       "      <td>2016-01-01</td>\n",
       "      <td>1</td>\n",
       "      <td>381</td>\n",
       "      <td>2.0</td>\n",
       "      <td>2848</td>\n",
       "      <td>2016</td>\n",
       "    </tr>\n",
       "    <tr>\n",
       "      <th>44755</th>\n",
       "      <td>715474</td>\n",
       "      <td>3</td>\n",
       "      <td>National League</td>\n",
       "      <td>torquay</td>\n",
       "      <td>forest green</td>\n",
       "      <td>2016-01-01</td>\n",
       "      <td>1</td>\n",
       "      <td>1048</td>\n",
       "      <td>9.0</td>\n",
       "      <td>2589</td>\n",
       "      <td>2016</td>\n",
       "    </tr>\n",
       "    <tr>\n",
       "      <th>44756</th>\n",
       "      <td>714214</td>\n",
       "      <td>2</td>\n",
       "      <td>NI Premier League</td>\n",
       "      <td>crusaders</td>\n",
       "      <td>linfield</td>\n",
       "      <td>2016-01-01</td>\n",
       "      <td>0</td>\n",
       "      <td>1585</td>\n",
       "      <td>48.0</td>\n",
       "      <td>653</td>\n",
       "      <td>2016</td>\n",
       "    </tr>\n",
       "    <tr>\n",
       "      <th>44757</th>\n",
       "      <td>708829</td>\n",
       "      <td>2</td>\n",
       "      <td>Premier League</td>\n",
       "      <td>swansea</td>\n",
       "      <td>man utd</td>\n",
       "      <td>2016-01-02</td>\n",
       "      <td>1</td>\n",
       "      <td>1724</td>\n",
       "      <td>1.0</td>\n",
       "      <td>2513</td>\n",
       "      <td>2016</td>\n",
       "    </tr>\n",
       "    <tr>\n",
       "      <th>44758</th>\n",
       "      <td>708827</td>\n",
       "      <td>1</td>\n",
       "      <td>Premier League</td>\n",
       "      <td>southampton</td>\n",
       "      <td>norwich</td>\n",
       "      <td>2016-01-02</td>\n",
       "      <td>0</td>\n",
       "      <td>1855</td>\n",
       "      <td>1.0</td>\n",
       "      <td>2471</td>\n",
       "      <td>2016</td>\n",
       "    </tr>\n",
       "  </tbody>\n",
       "</table>\n",
       "</div>"
      ],
      "text/plain": [
       "       gameId  HT_goals    competitionName awayTeamName  homeTeamName  \\\n",
       "44754  709301         0       Championship       wolves      brighton   \n",
       "44755  715474         3    National League      torquay  forest green   \n",
       "44756  714214         2  NI Premier League    crusaders      linfield   \n",
       "44757  708829         2     Premier League      swansea       man utd   \n",
       "44758  708827         1     Premier League  southampton       norwich   \n",
       "\n",
       "             date  AT_goals  HT_id  competitionId  AT_id  year  \n",
       "44754  2016-01-01         1    381            2.0   2848  2016  \n",
       "44755  2016-01-01         1   1048            9.0   2589  2016  \n",
       "44756  2016-01-01         0   1585           48.0    653  2016  \n",
       "44757  2016-01-02         1   1724            1.0   2513  2016  \n",
       "44758  2016-01-02         0   1855            1.0   2471  2016  "
      ]
     },
     "execution_count": 23,
     "metadata": {},
     "output_type": "execute_result"
    }
   ],
   "source": [
    "df2016.head()"
   ]
  },
  {
   "cell_type": "code",
   "execution_count": 24,
   "metadata": {
    "collapsed": true
   },
   "outputs": [],
   "source": [
    "all_data_2016=pd.merge(df2016,National_team_2016,how='inner',on='awayTeamName')"
   ]
  },
  {
   "cell_type": "code",
   "execution_count": 25,
   "metadata": {},
   "outputs": [
    {
     "data": {
      "text/html": [
       "<div>\n",
       "<style>\n",
       "    .dataframe thead tr:only-child th {\n",
       "        text-align: right;\n",
       "    }\n",
       "\n",
       "    .dataframe thead th {\n",
       "        text-align: left;\n",
       "    }\n",
       "\n",
       "    .dataframe tbody tr th {\n",
       "        vertical-align: top;\n",
       "    }\n",
       "</style>\n",
       "<table border=\"1\" class=\"dataframe\">\n",
       "  <thead>\n",
       "    <tr style=\"text-align: right;\">\n",
       "      <th></th>\n",
       "      <th>gameId</th>\n",
       "      <th>HT_goals</th>\n",
       "      <th>competitionName</th>\n",
       "      <th>awayTeamName</th>\n",
       "      <th>homeTeamName</th>\n",
       "      <th>date</th>\n",
       "      <th>AT_goals</th>\n",
       "      <th>HT_id</th>\n",
       "      <th>competitionId</th>\n",
       "      <th>AT_id</th>\n",
       "      <th>year</th>\n",
       "      <th>Ovr_away</th>\n",
       "      <th>Def_away</th>\n",
       "      <th>Mid_away</th>\n",
       "      <th>Fwd_away</th>\n",
       "      <th>Phy_away</th>\n",
       "      <th>Spd_away</th>\n",
       "      <th>year_away</th>\n",
       "      <th>2016 power_away</th>\n",
       "    </tr>\n",
       "  </thead>\n",
       "  <tbody>\n",
       "    <tr>\n",
       "      <th>0</th>\n",
       "      <td>725839</td>\n",
       "      <td>0</td>\n",
       "      <td>Copa America</td>\n",
       "      <td>panama</td>\n",
       "      <td>cuba</td>\n",
       "      <td>2016-01-09</td>\n",
       "      <td>4</td>\n",
       "      <td>3195</td>\n",
       "      <td>84.0</td>\n",
       "      <td>3267</td>\n",
       "      <td>2016</td>\n",
       "      <td>67</td>\n",
       "      <td>67</td>\n",
       "      <td>65</td>\n",
       "      <td>70</td>\n",
       "      <td>74</td>\n",
       "      <td>71</td>\n",
       "      <td>2016</td>\n",
       "      <td>326.3</td>\n",
       "    </tr>\n",
       "    <tr>\n",
       "      <th>1</th>\n",
       "      <td>722708</td>\n",
       "      <td>0</td>\n",
       "      <td>World Cup</td>\n",
       "      <td>panama</td>\n",
       "      <td>haiti</td>\n",
       "      <td>2016-03-26</td>\n",
       "      <td>0</td>\n",
       "      <td>3172</td>\n",
       "      <td>73.0</td>\n",
       "      <td>3267</td>\n",
       "      <td>2016</td>\n",
       "      <td>67</td>\n",
       "      <td>67</td>\n",
       "      <td>65</td>\n",
       "      <td>70</td>\n",
       "      <td>74</td>\n",
       "      <td>71</td>\n",
       "      <td>2016</td>\n",
       "      <td>326.3</td>\n",
       "    </tr>\n",
       "    <tr>\n",
       "      <th>2</th>\n",
       "      <td>725838</td>\n",
       "      <td>1</td>\n",
       "      <td>International</td>\n",
       "      <td>panama</td>\n",
       "      <td>nicaragua</td>\n",
       "      <td>2016-03-16</td>\n",
       "      <td>0</td>\n",
       "      <td>3489</td>\n",
       "      <td>83.0</td>\n",
       "      <td>3267</td>\n",
       "      <td>2016</td>\n",
       "      <td>67</td>\n",
       "      <td>67</td>\n",
       "      <td>65</td>\n",
       "      <td>70</td>\n",
       "      <td>74</td>\n",
       "      <td>71</td>\n",
       "      <td>2016</td>\n",
       "      <td>326.3</td>\n",
       "    </tr>\n",
       "    <tr>\n",
       "      <th>3</th>\n",
       "      <td>724362</td>\n",
       "      <td>5</td>\n",
       "      <td>Copa America</td>\n",
       "      <td>panama</td>\n",
       "      <td>argentina</td>\n",
       "      <td>2016-06-11</td>\n",
       "      <td>0</td>\n",
       "      <td>128</td>\n",
       "      <td>84.0</td>\n",
       "      <td>3267</td>\n",
       "      <td>2016</td>\n",
       "      <td>67</td>\n",
       "      <td>67</td>\n",
       "      <td>65</td>\n",
       "      <td>70</td>\n",
       "      <td>74</td>\n",
       "      <td>71</td>\n",
       "      <td>2016</td>\n",
       "      <td>326.3</td>\n",
       "    </tr>\n",
       "    <tr>\n",
       "      <th>4</th>\n",
       "      <td>724365</td>\n",
       "      <td>4</td>\n",
       "      <td>Copa America</td>\n",
       "      <td>panama</td>\n",
       "      <td>chile</td>\n",
       "      <td>2016-06-15</td>\n",
       "      <td>2</td>\n",
       "      <td>550</td>\n",
       "      <td>84.0</td>\n",
       "      <td>3267</td>\n",
       "      <td>2016</td>\n",
       "      <td>67</td>\n",
       "      <td>67</td>\n",
       "      <td>65</td>\n",
       "      <td>70</td>\n",
       "      <td>74</td>\n",
       "      <td>71</td>\n",
       "      <td>2016</td>\n",
       "      <td>326.3</td>\n",
       "    </tr>\n",
       "  </tbody>\n",
       "</table>\n",
       "</div>"
      ],
      "text/plain": [
       "   gameId  HT_goals competitionName awayTeamName homeTeamName        date  \\\n",
       "0  725839         0    Copa America       panama         cuba  2016-01-09   \n",
       "1  722708         0       World Cup       panama        haiti  2016-03-26   \n",
       "2  725838         1   International       panama    nicaragua  2016-03-16   \n",
       "3  724362         5    Copa America       panama    argentina  2016-06-11   \n",
       "4  724365         4    Copa America       panama        chile  2016-06-15   \n",
       "\n",
       "   AT_goals  HT_id  competitionId  AT_id  year  Ovr_away  Def_away  Mid_away  \\\n",
       "0         4   3195           84.0   3267  2016        67        67        65   \n",
       "1         0   3172           73.0   3267  2016        67        67        65   \n",
       "2         0   3489           83.0   3267  2016        67        67        65   \n",
       "3         0    128           84.0   3267  2016        67        67        65   \n",
       "4         2    550           84.0   3267  2016        67        67        65   \n",
       "\n",
       "   Fwd_away  Phy_away  Spd_away year_away  2016 power_away  \n",
       "0        70        74        71      2016            326.3  \n",
       "1        70        74        71      2016            326.3  \n",
       "2        70        74        71      2016            326.3  \n",
       "3        70        74        71      2016            326.3  \n",
       "4        70        74        71      2016            326.3  "
      ]
     },
     "execution_count": 25,
     "metadata": {},
     "output_type": "execute_result"
    }
   ],
   "source": [
    "all_data_2016.head()"
   ]
  },
  {
   "cell_type": "code",
   "execution_count": 26,
   "metadata": {
    "collapsed": true
   },
   "outputs": [],
   "source": [
    "National_team_2016.columns=['homeTeamName', 'Ovr_home', 'Def_home', 'Mid_home', 'Fwd_home', 'Phy_home', 'Spd_home', 'year_home', '2016 power_home']"
   ]
  },
  {
   "cell_type": "code",
   "execution_count": 27,
   "metadata": {
    "collapsed": true
   },
   "outputs": [],
   "source": [
    "all_data_2016=pd.merge(all_data_2016,National_team_2016,how='inner',on='homeTeamName')"
   ]
  },
  {
   "cell_type": "code",
   "execution_count": 28,
   "metadata": {
    "scrolled": true
   },
   "outputs": [
    {
     "data": {
      "text/html": [
       "<div>\n",
       "<style>\n",
       "    .dataframe thead tr:only-child th {\n",
       "        text-align: right;\n",
       "    }\n",
       "\n",
       "    .dataframe thead th {\n",
       "        text-align: left;\n",
       "    }\n",
       "\n",
       "    .dataframe tbody tr th {\n",
       "        vertical-align: top;\n",
       "    }\n",
       "</style>\n",
       "<table border=\"1\" class=\"dataframe\">\n",
       "  <thead>\n",
       "    <tr style=\"text-align: right;\">\n",
       "      <th></th>\n",
       "      <th>gameId</th>\n",
       "      <th>HT_goals</th>\n",
       "      <th>competitionName</th>\n",
       "      <th>awayTeamName</th>\n",
       "      <th>homeTeamName</th>\n",
       "      <th>date</th>\n",
       "      <th>AT_goals</th>\n",
       "      <th>HT_id</th>\n",
       "      <th>competitionId</th>\n",
       "      <th>AT_id</th>\n",
       "      <th>...</th>\n",
       "      <th>year_away</th>\n",
       "      <th>2016 power_away</th>\n",
       "      <th>Ovr_home</th>\n",
       "      <th>Def_home</th>\n",
       "      <th>Mid_home</th>\n",
       "      <th>Fwd_home</th>\n",
       "      <th>Phy_home</th>\n",
       "      <th>Spd_home</th>\n",
       "      <th>year_home</th>\n",
       "      <th>2016 power_home</th>\n",
       "    </tr>\n",
       "  </thead>\n",
       "  <tbody>\n",
       "    <tr>\n",
       "      <th>0</th>\n",
       "      <td>724362</td>\n",
       "      <td>5</td>\n",
       "      <td>Copa America</td>\n",
       "      <td>panama</td>\n",
       "      <td>argentina</td>\n",
       "      <td>2016-06-11</td>\n",
       "      <td>0</td>\n",
       "      <td>128</td>\n",
       "      <td>84.0</td>\n",
       "      <td>3267</td>\n",
       "      <td>...</td>\n",
       "      <td>2016</td>\n",
       "      <td>326.30</td>\n",
       "      <td>86</td>\n",
       "      <td>83</td>\n",
       "      <td>86</td>\n",
       "      <td>83</td>\n",
       "      <td>82</td>\n",
       "      <td>79</td>\n",
       "      <td>2016</td>\n",
       "      <td>829.98</td>\n",
       "    </tr>\n",
       "    <tr>\n",
       "      <th>1</th>\n",
       "      <td>726680</td>\n",
       "      <td>1</td>\n",
       "      <td>International</td>\n",
       "      <td>honduras</td>\n",
       "      <td>argentina</td>\n",
       "      <td>2016-05-28</td>\n",
       "      <td>0</td>\n",
       "      <td>128</td>\n",
       "      <td>83.0</td>\n",
       "      <td>3173</td>\n",
       "      <td>...</td>\n",
       "      <td>2016</td>\n",
       "      <td>148.74</td>\n",
       "      <td>86</td>\n",
       "      <td>83</td>\n",
       "      <td>86</td>\n",
       "      <td>83</td>\n",
       "      <td>82</td>\n",
       "      <td>79</td>\n",
       "      <td>2016</td>\n",
       "      <td>829.98</td>\n",
       "    </tr>\n",
       "    <tr>\n",
       "      <th>2</th>\n",
       "      <td>720655</td>\n",
       "      <td>3</td>\n",
       "      <td>World Cup</td>\n",
       "      <td>colombia</td>\n",
       "      <td>argentina</td>\n",
       "      <td>2016-11-15</td>\n",
       "      <td>0</td>\n",
       "      <td>128</td>\n",
       "      <td>73.0</td>\n",
       "      <td>613</td>\n",
       "      <td>...</td>\n",
       "      <td>2016</td>\n",
       "      <td>665.76</td>\n",
       "      <td>86</td>\n",
       "      <td>83</td>\n",
       "      <td>86</td>\n",
       "      <td>83</td>\n",
       "      <td>82</td>\n",
       "      <td>79</td>\n",
       "      <td>2016</td>\n",
       "      <td>829.98</td>\n",
       "    </tr>\n",
       "    <tr>\n",
       "      <th>3</th>\n",
       "      <td>720631</td>\n",
       "      <td>1</td>\n",
       "      <td>World Cup</td>\n",
       "      <td>uruguay</td>\n",
       "      <td>argentina</td>\n",
       "      <td>2016-09-02</td>\n",
       "      <td>0</td>\n",
       "      <td>128</td>\n",
       "      <td>73.0</td>\n",
       "      <td>2651</td>\n",
       "      <td>...</td>\n",
       "      <td>2016</td>\n",
       "      <td>561.47</td>\n",
       "      <td>86</td>\n",
       "      <td>83</td>\n",
       "      <td>86</td>\n",
       "      <td>83</td>\n",
       "      <td>82</td>\n",
       "      <td>79</td>\n",
       "      <td>2016</td>\n",
       "      <td>829.98</td>\n",
       "    </tr>\n",
       "    <tr>\n",
       "      <th>4</th>\n",
       "      <td>720626</td>\n",
       "      <td>2</td>\n",
       "      <td>World Cup</td>\n",
       "      <td>bolivia</td>\n",
       "      <td>argentina</td>\n",
       "      <td>2016-03-30</td>\n",
       "      <td>0</td>\n",
       "      <td>128</td>\n",
       "      <td>73.0</td>\n",
       "      <td>442</td>\n",
       "      <td>...</td>\n",
       "      <td>2016</td>\n",
       "      <td>222.28</td>\n",
       "      <td>86</td>\n",
       "      <td>83</td>\n",
       "      <td>86</td>\n",
       "      <td>83</td>\n",
       "      <td>82</td>\n",
       "      <td>79</td>\n",
       "      <td>2016</td>\n",
       "      <td>829.98</td>\n",
       "    </tr>\n",
       "  </tbody>\n",
       "</table>\n",
       "<p>5 rows × 27 columns</p>\n",
       "</div>"
      ],
      "text/plain": [
       "   gameId  HT_goals competitionName awayTeamName homeTeamName        date  \\\n",
       "0  724362         5    Copa America       panama    argentina  2016-06-11   \n",
       "1  726680         1   International     honduras    argentina  2016-05-28   \n",
       "2  720655         3       World Cup     colombia    argentina  2016-11-15   \n",
       "3  720631         1       World Cup      uruguay    argentina  2016-09-02   \n",
       "4  720626         2       World Cup      bolivia    argentina  2016-03-30   \n",
       "\n",
       "   AT_goals  HT_id  competitionId  AT_id       ...        year_away  \\\n",
       "0         0    128           84.0   3267       ...             2016   \n",
       "1         0    128           83.0   3173       ...             2016   \n",
       "2         0    128           73.0    613       ...             2016   \n",
       "3         0    128           73.0   2651       ...             2016   \n",
       "4         0    128           73.0    442       ...             2016   \n",
       "\n",
       "   2016 power_away  Ovr_home  Def_home  Mid_home  Fwd_home  Phy_home Spd_home  \\\n",
       "0           326.30        86        83        86        83        82       79   \n",
       "1           148.74        86        83        86        83        82       79   \n",
       "2           665.76        86        83        86        83        82       79   \n",
       "3           561.47        86        83        86        83        82       79   \n",
       "4           222.28        86        83        86        83        82       79   \n",
       "\n",
       "   year_home  2016 power_home  \n",
       "0       2016           829.98  \n",
       "1       2016           829.98  \n",
       "2       2016           829.98  \n",
       "3       2016           829.98  \n",
       "4       2016           829.98  \n",
       "\n",
       "[5 rows x 27 columns]"
      ]
     },
     "execution_count": 28,
     "metadata": {},
     "output_type": "execute_result"
    }
   ],
   "source": [
    "all_data_2016.head()"
   ]
  },
  {
   "cell_type": "code",
   "execution_count": 29,
   "metadata": {},
   "outputs": [
    {
     "name": "stderr",
     "output_type": "stream",
     "text": [
      "C:\\Users\\lenovo\\Anaconda3\\lib\\site-packages\\pandas\\core\\indexing.py:179: SettingWithCopyWarning: \n",
      "A value is trying to be set on a copy of a slice from a DataFrame\n",
      "\n",
      "See the caveats in the documentation: http://pandas.pydata.org/pandas-docs/stable/indexing.html#indexing-view-versus-copy\n",
      "  self._setitem_with_indexer(indexer, value)\n"
     ]
    }
   ],
   "source": [
    "all_data_2016['Fwd_away'].loc[all_data_2016['gameId']==740497]=84\n",
    "all_data_2016['Fwd_away'].loc[all_data_2016['gameId']==723457]=84    \n",
    "all_data_2016['Fwd_away'].loc[all_data_2016['gameId']==723476]=84     \n",
    "all_data_2016['Fwd_away'].loc[all_data_2016['gameId']==720697]=84\n",
    "all_data_2016['Fwd_away'].loc[all_data_2016['gameId']==723263]=84     \n",
    "all_data_2016['Fwd_away'].loc[all_data_2016['gameId']==740491]=84     \n",
    "all_data_2016['Fwd_away'].loc[all_data_2016['gameId']==720726]=84     \n",
    "all_data_2016['Fwd_away'].loc[all_data_2016['gameId']==723960]=84     \n",
    "\n",
    "\n"
   ]
  },
  {
   "cell_type": "code",
   "execution_count": 30,
   "metadata": {},
   "outputs": [
    {
     "name": "stderr",
     "output_type": "stream",
     "text": [
      "C:\\Users\\lenovo\\Anaconda3\\lib\\site-packages\\ipykernel_launcher.py:9: SettingWithCopyWarning: \n",
      "A value is trying to be set on a copy of a slice from a DataFrame\n",
      "\n",
      "See the caveats in the documentation: http://pandas.pydata.org/pandas-docs/stable/indexing.html#indexing-view-versus-copy\n",
      "  if __name__ == '__main__':\n",
      "C:\\Users\\lenovo\\Anaconda3\\lib\\site-packages\\ipykernel_launcher.py:10: SettingWithCopyWarning: \n",
      "A value is trying to be set on a copy of a slice from a DataFrame\n",
      "\n",
      "See the caveats in the documentation: http://pandas.pydata.org/pandas-docs/stable/indexing.html#indexing-view-versus-copy\n",
      "  # Remove the CWD from sys.path while we load stuff.\n",
      "C:\\Users\\lenovo\\Anaconda3\\lib\\site-packages\\ipykernel_launcher.py:11: SettingWithCopyWarning: \n",
      "A value is trying to be set on a copy of a slice from a DataFrame\n",
      "\n",
      "See the caveats in the documentation: http://pandas.pydata.org/pandas-docs/stable/indexing.html#indexing-view-versus-copy\n",
      "  # This is added back by InteractiveShellApp.init_path()\n",
      "C:\\Users\\lenovo\\Anaconda3\\lib\\site-packages\\ipykernel_launcher.py:12: SettingWithCopyWarning: \n",
      "A value is trying to be set on a copy of a slice from a DataFrame\n",
      "\n",
      "See the caveats in the documentation: http://pandas.pydata.org/pandas-docs/stable/indexing.html#indexing-view-versus-copy\n",
      "  if sys.path[0] == '':\n",
      "C:\\Users\\lenovo\\Anaconda3\\lib\\site-packages\\ipykernel_launcher.py:13: SettingWithCopyWarning: \n",
      "A value is trying to be set on a copy of a slice from a DataFrame\n",
      "\n",
      "See the caveats in the documentation: http://pandas.pydata.org/pandas-docs/stable/indexing.html#indexing-view-versus-copy\n",
      "  del sys.path[0]\n",
      "C:\\Users\\lenovo\\Anaconda3\\lib\\site-packages\\ipykernel_launcher.py:14: SettingWithCopyWarning: \n",
      "A value is trying to be set on a copy of a slice from a DataFrame\n",
      "\n",
      "See the caveats in the documentation: http://pandas.pydata.org/pandas-docs/stable/indexing.html#indexing-view-versus-copy\n",
      "  \n",
      "C:\\Users\\lenovo\\Anaconda3\\lib\\site-packages\\ipykernel_launcher.py:15: SettingWithCopyWarning: \n",
      "A value is trying to be set on a copy of a slice from a DataFrame\n",
      "\n",
      "See the caveats in the documentation: http://pandas.pydata.org/pandas-docs/stable/indexing.html#indexing-view-versus-copy\n",
      "  from ipykernel import kernelapp as app\n"
     ]
    }
   ],
   "source": [
    "all_data_2016['Ovr_ratio']=0.0\n",
    "all_data_2016['Def_ratio']=0.0\n",
    "all_data_2016['Mid_ratio']=0.0\n",
    "all_data_2016['Fwd_ratio']=0.0\n",
    "all_data_2016['Phy_ratio']=0.0\n",
    "all_data_2016['Spd_ratio']=0.0\n",
    "all_data_2016['2016 power_ratio']=0.0\n",
    "for i in range(all_data_2016.shape[0]):\n",
    "    all_data_2016['Ovr_ratio'][i]=all_data_2016['Ovr_home'][i]/all_data_2016['Ovr_away'][i]\n",
    "    all_data_2016['Def_ratio'][i]=all_data_2016['Def_home'][i]/all_data_2016['Def_away'][i]\n",
    "    all_data_2016['Mid_ratio'][i]=all_data_2016['Mid_home'][i]/all_data_2016['Mid_away'][i]\n",
    "    all_data_2016['Fwd_ratio'][i]=all_data_2016['Fwd_home'][i]/all_data_2016['Fwd_away'][i]\n",
    "    all_data_2016['Phy_ratio'][i]=all_data_2016['Phy_home'][i]/all_data_2016['Phy_away'][i]\n",
    "    all_data_2016['Spd_ratio'][i]=all_data_2016['Spd_home'][i]/all_data_2016['Spd_away'][i]\n",
    "    all_data_2016['2016 power_ratio'][i]=all_data_2016['2016 power_home'][i]/all_data_2016['2016 power_away'][i]\n"
   ]
  },
  {
   "cell_type": "code",
   "execution_count": 31,
   "metadata": {},
   "outputs": [
    {
     "name": "stderr",
     "output_type": "stream",
     "text": [
      "C:\\Users\\lenovo\\Anaconda3\\lib\\site-packages\\ipykernel_launcher.py:6: SettingWithCopyWarning: \n",
      "A value is trying to be set on a copy of a slice from a DataFrame\n",
      "\n",
      "See the caveats in the documentation: http://pandas.pydata.org/pandas-docs/stable/indexing.html#indexing-view-versus-copy\n",
      "  \n",
      "C:\\Users\\lenovo\\Anaconda3\\lib\\site-packages\\ipykernel_launcher.py:10: SettingWithCopyWarning: \n",
      "A value is trying to be set on a copy of a slice from a DataFrame\n",
      "\n",
      "See the caveats in the documentation: http://pandas.pydata.org/pandas-docs/stable/indexing.html#indexing-view-versus-copy\n",
      "  # Remove the CWD from sys.path while we load stuff.\n",
      "C:\\Users\\lenovo\\Anaconda3\\lib\\site-packages\\ipykernel_launcher.py:8: SettingWithCopyWarning: \n",
      "A value is trying to be set on a copy of a slice from a DataFrame\n",
      "\n",
      "See the caveats in the documentation: http://pandas.pydata.org/pandas-docs/stable/indexing.html#indexing-view-versus-copy\n",
      "  \n"
     ]
    }
   ],
   "source": [
    "all_data_2016['HT_goals']=all_data_2016['HT_goals'].apply(lambda team: int(team))\n",
    "all_data_2016['AT_goals']=all_data_2016['AT_goals'].apply(lambda team: int(team))\n",
    "all_data_2016['result']=4\n",
    "for i in range(all_data_2016.shape[0]):\n",
    "    if all_data_2016['HT_goals'][i]>all_data_2016['AT_goals'][i]:\n",
    "        all_data_2016['result'][i]=1\n",
    "    if all_data_2016['HT_goals'][i]==all_data_2016['AT_goals'][i]:\n",
    "        all_data_2016['result'][i]=0\n",
    "    if all_data_2016['HT_goals'][i]<all_data_2016['AT_goals'][i]:\n",
    "        all_data_2016['result'][i]=2"
   ]
  },
  {
   "cell_type": "code",
   "execution_count": 32,
   "metadata": {
    "collapsed": true
   },
   "outputs": [],
   "source": [
    "all_data_2016.drop(['Ovr_away','Def_away','Mid_away','Fwd_away','Phy_away','Spd_away','2016 power_away','2016 power_home','Spd_home','Phy_home','Fwd_home','Mid_home','Def_home','Ovr_home','competitionName','year_away','year_home','AT_goals','AT_id','HT_goals','HT_id','awayTeamName','competitionId','date' ,'gameId','homeTeamName'],axis=1,inplace=True)"
   ]
  },
  {
   "cell_type": "code",
   "execution_count": 33,
   "metadata": {},
   "outputs": [
    {
     "data": {
      "text/html": [
       "<div>\n",
       "<style>\n",
       "    .dataframe thead tr:only-child th {\n",
       "        text-align: right;\n",
       "    }\n",
       "\n",
       "    .dataframe thead th {\n",
       "        text-align: left;\n",
       "    }\n",
       "\n",
       "    .dataframe tbody tr th {\n",
       "        vertical-align: top;\n",
       "    }\n",
       "</style>\n",
       "<table border=\"1\" class=\"dataframe\">\n",
       "  <thead>\n",
       "    <tr style=\"text-align: right;\">\n",
       "      <th></th>\n",
       "      <th>year</th>\n",
       "      <th>Ovr_ratio</th>\n",
       "      <th>Def_ratio</th>\n",
       "      <th>Mid_ratio</th>\n",
       "      <th>Fwd_ratio</th>\n",
       "      <th>Phy_ratio</th>\n",
       "      <th>Spd_ratio</th>\n",
       "      <th>2016 power_ratio</th>\n",
       "      <th>result</th>\n",
       "    </tr>\n",
       "  </thead>\n",
       "  <tbody>\n",
       "    <tr>\n",
       "      <th>0</th>\n",
       "      <td>2016</td>\n",
       "      <td>1.283582</td>\n",
       "      <td>1.238806</td>\n",
       "      <td>1.323077</td>\n",
       "      <td>1.185714</td>\n",
       "      <td>1.108108</td>\n",
       "      <td>1.112676</td>\n",
       "      <td>2.543610</td>\n",
       "      <td>1</td>\n",
       "    </tr>\n",
       "    <tr>\n",
       "      <th>1</th>\n",
       "      <td>2016</td>\n",
       "      <td>1.246377</td>\n",
       "      <td>1.169014</td>\n",
       "      <td>1.246377</td>\n",
       "      <td>1.238806</td>\n",
       "      <td>1.108108</td>\n",
       "      <td>1.067568</td>\n",
       "      <td>5.580073</td>\n",
       "      <td>1</td>\n",
       "    </tr>\n",
       "    <tr>\n",
       "      <th>2</th>\n",
       "      <td>2016</td>\n",
       "      <td>1.061728</td>\n",
       "      <td>1.024691</td>\n",
       "      <td>1.036145</td>\n",
       "      <td>1.024691</td>\n",
       "      <td>1.037975</td>\n",
       "      <td>1.000000</td>\n",
       "      <td>1.246665</td>\n",
       "      <td>1</td>\n",
       "    </tr>\n",
       "    <tr>\n",
       "      <th>3</th>\n",
       "      <td>2016</td>\n",
       "      <td>1.061728</td>\n",
       "      <td>1.037500</td>\n",
       "      <td>1.102564</td>\n",
       "      <td>0.912088</td>\n",
       "      <td>1.025000</td>\n",
       "      <td>1.025974</td>\n",
       "      <td>1.478227</td>\n",
       "      <td>1</td>\n",
       "    </tr>\n",
       "    <tr>\n",
       "      <th>4</th>\n",
       "      <td>2016</td>\n",
       "      <td>1.211268</td>\n",
       "      <td>1.185714</td>\n",
       "      <td>1.228571</td>\n",
       "      <td>1.152778</td>\n",
       "      <td>1.154930</td>\n",
       "      <td>1.067568</td>\n",
       "      <td>3.733939</td>\n",
       "      <td>1</td>\n",
       "    </tr>\n",
       "  </tbody>\n",
       "</table>\n",
       "</div>"
      ],
      "text/plain": [
       "   year  Ovr_ratio  Def_ratio  Mid_ratio  Fwd_ratio  Phy_ratio  Spd_ratio  \\\n",
       "0  2016   1.283582   1.238806   1.323077   1.185714   1.108108   1.112676   \n",
       "1  2016   1.246377   1.169014   1.246377   1.238806   1.108108   1.067568   \n",
       "2  2016   1.061728   1.024691   1.036145   1.024691   1.037975   1.000000   \n",
       "3  2016   1.061728   1.037500   1.102564   0.912088   1.025000   1.025974   \n",
       "4  2016   1.211268   1.185714   1.228571   1.152778   1.154930   1.067568   \n",
       "\n",
       "   2016 power_ratio  result  \n",
       "0          2.543610       1  \n",
       "1          5.580073       1  \n",
       "2          1.246665       1  \n",
       "3          1.478227       1  \n",
       "4          3.733939       1  "
      ]
     },
     "execution_count": 33,
     "metadata": {},
     "output_type": "execute_result"
    }
   ],
   "source": [
    "all_data_2016.head()"
   ]
  },
  {
   "cell_type": "code",
   "execution_count": 34,
   "metadata": {
    "collapsed": true
   },
   "outputs": [],
   "source": [
    "from sklearn.linear_model import LogisticRegression\n",
    "X_train=all_data_2016.drop(['year','result'],axis=1)\n",
    "y_train=all_data_2016['result']\n",
    "\n",
    "logmodel = LogisticRegression()\n"
   ]
  },
  {
   "cell_type": "code",
   "execution_count": 35,
   "metadata": {},
   "outputs": [
    {
     "data": {
      "text/html": [
       "<div>\n",
       "<style>\n",
       "    .dataframe thead tr:only-child th {\n",
       "        text-align: right;\n",
       "    }\n",
       "\n",
       "    .dataframe thead th {\n",
       "        text-align: left;\n",
       "    }\n",
       "\n",
       "    .dataframe tbody tr th {\n",
       "        vertical-align: top;\n",
       "    }\n",
       "</style>\n",
       "<table border=\"1\" class=\"dataframe\">\n",
       "  <thead>\n",
       "    <tr style=\"text-align: right;\">\n",
       "      <th></th>\n",
       "      <th>year</th>\n",
       "      <th>Ovr_ratio</th>\n",
       "      <th>Def_ratio</th>\n",
       "      <th>Mid_ratio</th>\n",
       "      <th>Fwd_ratio</th>\n",
       "      <th>Phy_ratio</th>\n",
       "      <th>Spd_ratio</th>\n",
       "      <th>2016 power_ratio</th>\n",
       "      <th>result</th>\n",
       "    </tr>\n",
       "  </thead>\n",
       "  <tbody>\n",
       "    <tr>\n",
       "      <th>0</th>\n",
       "      <td>2016</td>\n",
       "      <td>1.283582</td>\n",
       "      <td>1.238806</td>\n",
       "      <td>1.323077</td>\n",
       "      <td>1.185714</td>\n",
       "      <td>1.108108</td>\n",
       "      <td>1.112676</td>\n",
       "      <td>2.543610</td>\n",
       "      <td>1</td>\n",
       "    </tr>\n",
       "    <tr>\n",
       "      <th>1</th>\n",
       "      <td>2016</td>\n",
       "      <td>1.246377</td>\n",
       "      <td>1.169014</td>\n",
       "      <td>1.246377</td>\n",
       "      <td>1.238806</td>\n",
       "      <td>1.108108</td>\n",
       "      <td>1.067568</td>\n",
       "      <td>5.580073</td>\n",
       "      <td>1</td>\n",
       "    </tr>\n",
       "    <tr>\n",
       "      <th>2</th>\n",
       "      <td>2016</td>\n",
       "      <td>1.061728</td>\n",
       "      <td>1.024691</td>\n",
       "      <td>1.036145</td>\n",
       "      <td>1.024691</td>\n",
       "      <td>1.037975</td>\n",
       "      <td>1.000000</td>\n",
       "      <td>1.246665</td>\n",
       "      <td>1</td>\n",
       "    </tr>\n",
       "    <tr>\n",
       "      <th>3</th>\n",
       "      <td>2016</td>\n",
       "      <td>1.061728</td>\n",
       "      <td>1.037500</td>\n",
       "      <td>1.102564</td>\n",
       "      <td>0.912088</td>\n",
       "      <td>1.025000</td>\n",
       "      <td>1.025974</td>\n",
       "      <td>1.478227</td>\n",
       "      <td>1</td>\n",
       "    </tr>\n",
       "    <tr>\n",
       "      <th>4</th>\n",
       "      <td>2016</td>\n",
       "      <td>1.211268</td>\n",
       "      <td>1.185714</td>\n",
       "      <td>1.228571</td>\n",
       "      <td>1.152778</td>\n",
       "      <td>1.154930</td>\n",
       "      <td>1.067568</td>\n",
       "      <td>3.733939</td>\n",
       "      <td>1</td>\n",
       "    </tr>\n",
       "  </tbody>\n",
       "</table>\n",
       "</div>"
      ],
      "text/plain": [
       "   year  Ovr_ratio  Def_ratio  Mid_ratio  Fwd_ratio  Phy_ratio  Spd_ratio  \\\n",
       "0  2016   1.283582   1.238806   1.323077   1.185714   1.108108   1.112676   \n",
       "1  2016   1.246377   1.169014   1.246377   1.238806   1.108108   1.067568   \n",
       "2  2016   1.061728   1.024691   1.036145   1.024691   1.037975   1.000000   \n",
       "3  2016   1.061728   1.037500   1.102564   0.912088   1.025000   1.025974   \n",
       "4  2016   1.211268   1.185714   1.228571   1.152778   1.154930   1.067568   \n",
       "\n",
       "   2016 power_ratio  result  \n",
       "0          2.543610       1  \n",
       "1          5.580073       1  \n",
       "2          1.246665       1  \n",
       "3          1.478227       1  \n",
       "4          3.733939       1  "
      ]
     },
     "execution_count": 35,
     "metadata": {},
     "output_type": "execute_result"
    }
   ],
   "source": [
    "all_data_2016.head()"
   ]
  },
  {
   "cell_type": "code",
   "execution_count": 36,
   "metadata": {},
   "outputs": [
    {
     "name": "stdout",
     "output_type": "stream",
     "text": [
      "<class 'pandas.core.frame.DataFrame'>\n",
      "Int64Index: 240 entries, 0 to 239\n",
      "Data columns (total 9 columns):\n",
      "year                240 non-null object\n",
      "Ovr_ratio           240 non-null float64\n",
      "Def_ratio           240 non-null float64\n",
      "Mid_ratio           240 non-null float64\n",
      "Fwd_ratio           240 non-null float64\n",
      "Phy_ratio           240 non-null float64\n",
      "Spd_ratio           240 non-null float64\n",
      "2016 power_ratio    240 non-null float64\n",
      "result              240 non-null int64\n",
      "dtypes: float64(7), int64(1), object(1)\n",
      "memory usage: 28.8+ KB\n"
     ]
    }
   ],
   "source": [
    "all_data_2016.info()"
   ]
  },
  {
   "cell_type": "code",
   "execution_count": 37,
   "metadata": {},
   "outputs": [
    {
     "data": {
      "text/plain": [
       "LogisticRegression(C=1.0, class_weight=None, dual=False, fit_intercept=True,\n",
       "          intercept_scaling=1, max_iter=100, multi_class='ovr', n_jobs=1,\n",
       "          penalty='l2', random_state=None, solver='liblinear', tol=0.0001,\n",
       "          verbose=0, warm_start=False)"
      ]
     },
     "execution_count": 37,
     "metadata": {},
     "output_type": "execute_result"
    }
   ],
   "source": [
    "logmodel.fit(X_train,y_train)"
   ]
  },
  {
   "cell_type": "code",
   "execution_count": 38,
   "metadata": {},
   "outputs": [
    {
     "data": {
      "text/html": [
       "<div>\n",
       "<style>\n",
       "    .dataframe thead tr:only-child th {\n",
       "        text-align: right;\n",
       "    }\n",
       "\n",
       "    .dataframe thead th {\n",
       "        text-align: left;\n",
       "    }\n",
       "\n",
       "    .dataframe tbody tr th {\n",
       "        vertical-align: top;\n",
       "    }\n",
       "</style>\n",
       "<table border=\"1\" class=\"dataframe\">\n",
       "  <thead>\n",
       "    <tr style=\"text-align: right;\">\n",
       "      <th></th>\n",
       "      <th>Ovr_ratio</th>\n",
       "      <th>Def_ratio</th>\n",
       "      <th>Mid_ratio</th>\n",
       "      <th>Fwd_ratio</th>\n",
       "      <th>Phy_ratio</th>\n",
       "      <th>Spd_ratio</th>\n",
       "      <th>2016 power_ratio</th>\n",
       "    </tr>\n",
       "  </thead>\n",
       "  <tbody>\n",
       "    <tr>\n",
       "      <th>0</th>\n",
       "      <td>1.283582</td>\n",
       "      <td>1.238806</td>\n",
       "      <td>1.323077</td>\n",
       "      <td>1.185714</td>\n",
       "      <td>1.108108</td>\n",
       "      <td>1.112676</td>\n",
       "      <td>2.543610</td>\n",
       "    </tr>\n",
       "    <tr>\n",
       "      <th>1</th>\n",
       "      <td>1.246377</td>\n",
       "      <td>1.169014</td>\n",
       "      <td>1.246377</td>\n",
       "      <td>1.238806</td>\n",
       "      <td>1.108108</td>\n",
       "      <td>1.067568</td>\n",
       "      <td>5.580073</td>\n",
       "    </tr>\n",
       "    <tr>\n",
       "      <th>2</th>\n",
       "      <td>1.061728</td>\n",
       "      <td>1.024691</td>\n",
       "      <td>1.036145</td>\n",
       "      <td>1.024691</td>\n",
       "      <td>1.037975</td>\n",
       "      <td>1.000000</td>\n",
       "      <td>1.246665</td>\n",
       "    </tr>\n",
       "    <tr>\n",
       "      <th>3</th>\n",
       "      <td>1.061728</td>\n",
       "      <td>1.037500</td>\n",
       "      <td>1.102564</td>\n",
       "      <td>0.912088</td>\n",
       "      <td>1.025000</td>\n",
       "      <td>1.025974</td>\n",
       "      <td>1.478227</td>\n",
       "    </tr>\n",
       "    <tr>\n",
       "      <th>4</th>\n",
       "      <td>1.211268</td>\n",
       "      <td>1.185714</td>\n",
       "      <td>1.228571</td>\n",
       "      <td>1.152778</td>\n",
       "      <td>1.154930</td>\n",
       "      <td>1.067568</td>\n",
       "      <td>3.733939</td>\n",
       "    </tr>\n",
       "  </tbody>\n",
       "</table>\n",
       "</div>"
      ],
      "text/plain": [
       "   Ovr_ratio  Def_ratio  Mid_ratio  Fwd_ratio  Phy_ratio  Spd_ratio  \\\n",
       "0   1.283582   1.238806   1.323077   1.185714   1.108108   1.112676   \n",
       "1   1.246377   1.169014   1.246377   1.238806   1.108108   1.067568   \n",
       "2   1.061728   1.024691   1.036145   1.024691   1.037975   1.000000   \n",
       "3   1.061728   1.037500   1.102564   0.912088   1.025000   1.025974   \n",
       "4   1.211268   1.185714   1.228571   1.152778   1.154930   1.067568   \n",
       "\n",
       "   2016 power_ratio  \n",
       "0          2.543610  \n",
       "1          5.580073  \n",
       "2          1.246665  \n",
       "3          1.478227  \n",
       "4          3.733939  "
      ]
     },
     "execution_count": 38,
     "metadata": {},
     "output_type": "execute_result"
    }
   ],
   "source": [
    "X_train.head()"
   ]
  },
  {
   "cell_type": "code",
   "execution_count": 39,
   "metadata": {},
   "outputs": [],
   "source": [
    "result=pd.read_csv('../submission_template.csv')"
   ]
  },
  {
   "cell_type": "code",
   "execution_count": 40,
   "metadata": {
    "collapsed": true
   },
   "outputs": [],
   "source": [
    "result['gameName']=result['gameName'].apply(lambda team: team.lower())"
   ]
  },
  {
   "cell_type": "code",
   "execution_count": 41,
   "metadata": {
    "collapsed": true
   },
   "outputs": [],
   "source": [
    "def result_home(str):\n",
    "    result=''\n",
    "    s=str\n",
    "    z='saudi arabia'\n",
    "    a=s.find('saudi-arabia')\n",
    "    b=s.find('costa-rica')\n",
    "    c=s.find('south-korea')\n",
    "\n",
    "    if(a==0):\n",
    "        return 'saudi arabia'\n",
    "    if(b==0):\n",
    "        return 'costa rica'\n",
    "    if(c==0):\n",
    "        return 'republic of korea'\n",
    "    else:\n",
    "        f=s.split('-')[0]\n",
    "        return f"
   ]
  },
  {
   "cell_type": "code",
   "execution_count": 42,
   "metadata": {
    "collapsed": true
   },
   "outputs": [],
   "source": [
    "result['homeTeamName']=result['gameName'].apply(lambda team: result_home(team))"
   ]
  },
  {
   "cell_type": "code",
   "execution_count": 43,
   "metadata": {},
   "outputs": [
    {
     "data": {
      "text/html": [
       "<div>\n",
       "<style>\n",
       "    .dataframe thead tr:only-child th {\n",
       "        text-align: right;\n",
       "    }\n",
       "\n",
       "    .dataframe thead th {\n",
       "        text-align: left;\n",
       "    }\n",
       "\n",
       "    .dataframe tbody tr th {\n",
       "        vertical-align: top;\n",
       "    }\n",
       "</style>\n",
       "<table border=\"1\" class=\"dataframe\">\n",
       "  <thead>\n",
       "    <tr style=\"text-align: right;\">\n",
       "      <th></th>\n",
       "      <th>gameId</th>\n",
       "      <th>gameDate</th>\n",
       "      <th>homeTeamId</th>\n",
       "      <th>awayTeamId</th>\n",
       "      <th>gameName</th>\n",
       "      <th>p1</th>\n",
       "      <th>px</th>\n",
       "      <th>p2</th>\n",
       "      <th>homeTeamName</th>\n",
       "    </tr>\n",
       "  </thead>\n",
       "  <tbody>\n",
       "    <tr>\n",
       "      <th>0</th>\n",
       "      <td>1249942</td>\n",
       "      <td>2018-06-14 16:00:00</td>\n",
       "      <td>326</td>\n",
       "      <td>494</td>\n",
       "      <td>russia-saudi-arabia</td>\n",
       "      <td>NaN</td>\n",
       "      <td>NaN</td>\n",
       "      <td>NaN</td>\n",
       "      <td>russia</td>\n",
       "    </tr>\n",
       "    <tr>\n",
       "      <th>1</th>\n",
       "      <td>1249926</td>\n",
       "      <td>2018-06-15 13:00:00</td>\n",
       "      <td>944</td>\n",
       "      <td>967</td>\n",
       "      <td>egypt-uruguay</td>\n",
       "      <td>NaN</td>\n",
       "      <td>NaN</td>\n",
       "      <td>NaN</td>\n",
       "      <td>egypt</td>\n",
       "    </tr>\n",
       "    <tr>\n",
       "      <th>2</th>\n",
       "      <td>1249948</td>\n",
       "      <td>2018-06-15 16:00:00</td>\n",
       "      <td>495</td>\n",
       "      <td>1293</td>\n",
       "      <td>morocco-iran</td>\n",
       "      <td>NaN</td>\n",
       "      <td>NaN</td>\n",
       "      <td>NaN</td>\n",
       "      <td>morocco</td>\n",
       "    </tr>\n",
       "    <tr>\n",
       "      <th>3</th>\n",
       "      <td>1249919</td>\n",
       "      <td>2018-06-15 19:00:00</td>\n",
       "      <td>340</td>\n",
       "      <td>338</td>\n",
       "      <td>portugal-spain</td>\n",
       "      <td>NaN</td>\n",
       "      <td>NaN</td>\n",
       "      <td>NaN</td>\n",
       "      <td>portugal</td>\n",
       "    </tr>\n",
       "    <tr>\n",
       "      <th>4</th>\n",
       "      <td>1249951</td>\n",
       "      <td>2018-06-16 11:00:00</td>\n",
       "      <td>341</td>\n",
       "      <td>328</td>\n",
       "      <td>france-australia</td>\n",
       "      <td>NaN</td>\n",
       "      <td>NaN</td>\n",
       "      <td>NaN</td>\n",
       "      <td>france</td>\n",
       "    </tr>\n",
       "  </tbody>\n",
       "</table>\n",
       "</div>"
      ],
      "text/plain": [
       "    gameId             gameDate  homeTeamId  awayTeamId             gameName  \\\n",
       "0  1249942  2018-06-14 16:00:00         326         494  russia-saudi-arabia   \n",
       "1  1249926  2018-06-15 13:00:00         944         967        egypt-uruguay   \n",
       "2  1249948  2018-06-15 16:00:00         495        1293         morocco-iran   \n",
       "3  1249919  2018-06-15 19:00:00         340         338       portugal-spain   \n",
       "4  1249951  2018-06-16 11:00:00         341         328     france-australia   \n",
       "\n",
       "   p1  px  p2 homeTeamName  \n",
       "0 NaN NaN NaN       russia  \n",
       "1 NaN NaN NaN        egypt  \n",
       "2 NaN NaN NaN      morocco  \n",
       "3 NaN NaN NaN     portugal  \n",
       "4 NaN NaN NaN       france  "
      ]
     },
     "execution_count": 43,
     "metadata": {},
     "output_type": "execute_result"
    }
   ],
   "source": [
    "result.head()"
   ]
  },
  {
   "cell_type": "code",
   "execution_count": 44,
   "metadata": {
    "collapsed": true
   },
   "outputs": [],
   "source": [
    "def result_away(str):\n",
    "    result=''\n",
    "    s=str\n",
    "    z='saudi arabia'\n",
    "    a=s.find('saudi-arabia')\n",
    "    b=s.find('costa-rica')\n",
    "    c=s.find('south-korea')\n",
    "\n",
    "    if(a>0):\n",
    "        return 'saudi arabia'\n",
    "    if(b>0):\n",
    "        return 'costa rica'\n",
    "    if(c>0):\n",
    "        return 'republic of korea'\n",
    "    if(len(s.split('-'))==3):\n",
    "        f=s.split('-')[2]\n",
    "        return f\n",
    "        \n",
    "    f=s.split('-')[1]\n",
    "    return f"
   ]
  },
  {
   "cell_type": "code",
   "execution_count": 45,
   "metadata": {
    "collapsed": true
   },
   "outputs": [],
   "source": [
    "result['awayTeamName']=result['gameName'].apply(lambda team: result_away(team))"
   ]
  },
  {
   "cell_type": "code",
   "execution_count": 46,
   "metadata": {},
   "outputs": [
    {
     "name": "stderr",
     "output_type": "stream",
     "text": [
      "C:\\Users\\lenovo\\Anaconda3\\lib\\site-packages\\pandas\\core\\indexing.py:179: SettingWithCopyWarning: \n",
      "A value is trying to be set on a copy of a slice from a DataFrame\n",
      "\n",
      "See the caveats in the documentation: http://pandas.pydata.org/pandas-docs/stable/indexing.html#indexing-view-versus-copy\n",
      "  self._setitem_with_indexer(indexer, value)\n"
     ]
    }
   ],
   "source": [
    "National_team_2016['homeTeamName'].loc[National_team_2016['homeTeamName']=='south korea']='republic of korea'\n",
    "\n"
   ]
  },
  {
   "cell_type": "code",
   "execution_count": 47,
   "metadata": {
    "collapsed": true
   },
   "outputs": [],
   "source": [
    "National_team_2016.columns=['homeTeamName', 'Ovr_home', 'Def_home', 'Mid_home', 'Fwd_home','Phy_home', 'Spd_home', 'year_home', '2016 power_home']"
   ]
  },
  {
   "cell_type": "code",
   "execution_count": 48,
   "metadata": {},
   "outputs": [
    {
     "data": {
      "text/html": [
       "<div>\n",
       "<style>\n",
       "    .dataframe thead tr:only-child th {\n",
       "        text-align: right;\n",
       "    }\n",
       "\n",
       "    .dataframe thead th {\n",
       "        text-align: left;\n",
       "    }\n",
       "\n",
       "    .dataframe tbody tr th {\n",
       "        vertical-align: top;\n",
       "    }\n",
       "</style>\n",
       "<table border=\"1\" class=\"dataframe\">\n",
       "  <thead>\n",
       "    <tr style=\"text-align: right;\">\n",
       "      <th></th>\n",
       "      <th>Name</th>\n",
       "      <th>Ovr</th>\n",
       "      <th>Def</th>\n",
       "      <th>Mid</th>\n",
       "      <th>Fwd</th>\n",
       "      <th>Phy</th>\n",
       "      <th>Spd</th>\n",
       "      <th>year</th>\n",
       "    </tr>\n",
       "  </thead>\n",
       "  <tbody>\n",
       "    <tr>\n",
       "      <th>0</th>\n",
       "      <td>Japan</td>\n",
       "      <td>78</td>\n",
       "      <td>77</td>\n",
       "      <td>79</td>\n",
       "      <td>79</td>\n",
       "      <td>75</td>\n",
       "      <td>75</td>\n",
       "      <td>2016</td>\n",
       "    </tr>\n",
       "    <tr>\n",
       "      <th>1</th>\n",
       "      <td>Australia</td>\n",
       "      <td>75</td>\n",
       "      <td>73</td>\n",
       "      <td>75</td>\n",
       "      <td>74</td>\n",
       "      <td>78</td>\n",
       "      <td>75</td>\n",
       "      <td>2016</td>\n",
       "    </tr>\n",
       "    <tr>\n",
       "      <th>2</th>\n",
       "      <td>South Korea</td>\n",
       "      <td>72</td>\n",
       "      <td>71</td>\n",
       "      <td>76</td>\n",
       "      <td>72</td>\n",
       "      <td>77</td>\n",
       "      <td>76</td>\n",
       "      <td>2016</td>\n",
       "    </tr>\n",
       "    <tr>\n",
       "      <th>3</th>\n",
       "      <td>Saudi Arabia</td>\n",
       "      <td>70</td>\n",
       "      <td>68</td>\n",
       "      <td>70</td>\n",
       "      <td>70</td>\n",
       "      <td>72</td>\n",
       "      <td>78</td>\n",
       "      <td>2016</td>\n",
       "    </tr>\n",
       "    <tr>\n",
       "      <th>4</th>\n",
       "      <td>China</td>\n",
       "      <td>68</td>\n",
       "      <td>67</td>\n",
       "      <td>68</td>\n",
       "      <td>0</td>\n",
       "      <td>74</td>\n",
       "      <td>72</td>\n",
       "      <td>2016</td>\n",
       "    </tr>\n",
       "  </tbody>\n",
       "</table>\n",
       "</div>"
      ],
      "text/plain": [
       "           Name  Ovr  Def  Mid  Fwd  Phy  Spd  year\n",
       "0         Japan   78   77   79   79   75   75  2016\n",
       "1     Australia   75   73   75   74   78   75  2016\n",
       "2   South Korea   72   71   76   72   77   76  2016\n",
       "3  Saudi Arabia   70   68   70   70   72   78  2016\n",
       "4         China   68   67   68    0   74   72  2016"
      ]
     },
     "execution_count": 48,
     "metadata": {},
     "output_type": "execute_result"
    }
   ],
   "source": [
    "National_asia.head()"
   ]
  },
  {
   "cell_type": "code",
   "execution_count": 49,
   "metadata": {
    "collapsed": true
   },
   "outputs": [],
   "source": [
    "result_2016=pd.merge(result,National_team_2016,how='inner',on='homeTeamName')"
   ]
  },
  {
   "cell_type": "code",
   "execution_count": 50,
   "metadata": {
    "collapsed": true
   },
   "outputs": [],
   "source": [
    "National_team_2016.columns=['awayTeamName', 'Ovr_away', 'Def_away', 'Mid_away', 'Fwd_away', 'Phy_away', 'Spd_away', 'year_away', '2016 power_away']"
   ]
  },
  {
   "cell_type": "code",
   "execution_count": 51,
   "metadata": {
    "collapsed": true
   },
   "outputs": [],
   "source": [
    "result_2016=pd.merge(result_2016,National_team_2016,how='inner',on='awayTeamName')\n"
   ]
  },
  {
   "cell_type": "code",
   "execution_count": 52,
   "metadata": {},
   "outputs": [
    {
     "data": {
      "text/html": [
       "<div>\n",
       "<style>\n",
       "    .dataframe thead tr:only-child th {\n",
       "        text-align: right;\n",
       "    }\n",
       "\n",
       "    .dataframe thead th {\n",
       "        text-align: left;\n",
       "    }\n",
       "\n",
       "    .dataframe tbody tr th {\n",
       "        vertical-align: top;\n",
       "    }\n",
       "</style>\n",
       "<table border=\"1\" class=\"dataframe\">\n",
       "  <thead>\n",
       "    <tr style=\"text-align: right;\">\n",
       "      <th></th>\n",
       "      <th>gameId</th>\n",
       "      <th>gameDate</th>\n",
       "      <th>homeTeamId</th>\n",
       "      <th>awayTeamId</th>\n",
       "      <th>gameName</th>\n",
       "      <th>p1</th>\n",
       "      <th>px</th>\n",
       "      <th>p2</th>\n",
       "      <th>homeTeamName</th>\n",
       "      <th>awayTeamName</th>\n",
       "      <th>...</th>\n",
       "      <th>year_home</th>\n",
       "      <th>2016 power_home</th>\n",
       "      <th>Ovr_away</th>\n",
       "      <th>Def_away</th>\n",
       "      <th>Mid_away</th>\n",
       "      <th>Fwd_away</th>\n",
       "      <th>Phy_away</th>\n",
       "      <th>Spd_away</th>\n",
       "      <th>year_away</th>\n",
       "      <th>2016 power_away</th>\n",
       "    </tr>\n",
       "  </thead>\n",
       "  <tbody>\n",
       "    <tr>\n",
       "      <th>0</th>\n",
       "      <td>1249942</td>\n",
       "      <td>2018-06-14 16:00:00</td>\n",
       "      <td>326</td>\n",
       "      <td>494</td>\n",
       "      <td>russia-saudi-arabia</td>\n",
       "      <td>NaN</td>\n",
       "      <td>NaN</td>\n",
       "      <td>NaN</td>\n",
       "      <td>russia</td>\n",
       "      <td>saudi arabia</td>\n",
       "      <td>...</td>\n",
       "      <td>2016</td>\n",
       "      <td>362.25</td>\n",
       "      <td>70</td>\n",
       "      <td>68</td>\n",
       "      <td>70</td>\n",
       "      <td>70</td>\n",
       "      <td>72</td>\n",
       "      <td>78</td>\n",
       "      <td>2016</td>\n",
       "      <td>380.91</td>\n",
       "    </tr>\n",
       "  </tbody>\n",
       "</table>\n",
       "<p>1 rows × 26 columns</p>\n",
       "</div>"
      ],
      "text/plain": [
       "    gameId             gameDate  homeTeamId  awayTeamId             gameName  \\\n",
       "0  1249942  2018-06-14 16:00:00         326         494  russia-saudi-arabia   \n",
       "\n",
       "   p1  px  p2 homeTeamName  awayTeamName       ...         year_home  \\\n",
       "0 NaN NaN NaN       russia  saudi arabia       ...              2016   \n",
       "\n",
       "   2016 power_home  Ovr_away  Def_away  Mid_away  Fwd_away Phy_away  Spd_away  \\\n",
       "0           362.25        70        68        70        70       72        78   \n",
       "\n",
       "   year_away  2016 power_away  \n",
       "0       2016           380.91  \n",
       "\n",
       "[1 rows x 26 columns]"
      ]
     },
     "execution_count": 52,
     "metadata": {},
     "output_type": "execute_result"
    }
   ],
   "source": [
    "result_2016.head(1)\n",
    " "
   ]
  },
  {
   "cell_type": "code",
   "execution_count": 53,
   "metadata": {},
   "outputs": [
    {
     "name": "stderr",
     "output_type": "stream",
     "text": [
      "C:\\Users\\lenovo\\Anaconda3\\lib\\site-packages\\pandas\\core\\indexing.py:179: SettingWithCopyWarning: \n",
      "A value is trying to be set on a copy of a slice from a DataFrame\n",
      "\n",
      "See the caveats in the documentation: http://pandas.pydata.org/pandas-docs/stable/indexing.html#indexing-view-versus-copy\n",
      "  self._setitem_with_indexer(indexer, value)\n"
     ]
    }
   ],
   "source": [
    "result_2016['Fwd_away'].loc[result_2016['gameId']==1249930]=84\n",
    "result_2016['Fwd_away'].loc[result_2016['gameId']==1249919]=84"
   ]
  },
  {
   "cell_type": "code",
   "execution_count": 54,
   "metadata": {},
   "outputs": [
    {
     "name": "stderr",
     "output_type": "stream",
     "text": [
      "C:\\Users\\lenovo\\Anaconda3\\lib\\site-packages\\ipykernel_launcher.py:10: SettingWithCopyWarning: \n",
      "A value is trying to be set on a copy of a slice from a DataFrame\n",
      "\n",
      "See the caveats in the documentation: http://pandas.pydata.org/pandas-docs/stable/indexing.html#indexing-view-versus-copy\n",
      "  # Remove the CWD from sys.path while we load stuff.\n",
      "C:\\Users\\lenovo\\Anaconda3\\lib\\site-packages\\ipykernel_launcher.py:11: SettingWithCopyWarning: \n",
      "A value is trying to be set on a copy of a slice from a DataFrame\n",
      "\n",
      "See the caveats in the documentation: http://pandas.pydata.org/pandas-docs/stable/indexing.html#indexing-view-versus-copy\n",
      "  # This is added back by InteractiveShellApp.init_path()\n",
      "C:\\Users\\lenovo\\Anaconda3\\lib\\site-packages\\ipykernel_launcher.py:12: SettingWithCopyWarning: \n",
      "A value is trying to be set on a copy of a slice from a DataFrame\n",
      "\n",
      "See the caveats in the documentation: http://pandas.pydata.org/pandas-docs/stable/indexing.html#indexing-view-versus-copy\n",
      "  if sys.path[0] == '':\n",
      "C:\\Users\\lenovo\\Anaconda3\\lib\\site-packages\\ipykernel_launcher.py:13: SettingWithCopyWarning: \n",
      "A value is trying to be set on a copy of a slice from a DataFrame\n",
      "\n",
      "See the caveats in the documentation: http://pandas.pydata.org/pandas-docs/stable/indexing.html#indexing-view-versus-copy\n",
      "  del sys.path[0]\n",
      "C:\\Users\\lenovo\\Anaconda3\\lib\\site-packages\\ipykernel_launcher.py:14: SettingWithCopyWarning: \n",
      "A value is trying to be set on a copy of a slice from a DataFrame\n",
      "\n",
      "See the caveats in the documentation: http://pandas.pydata.org/pandas-docs/stable/indexing.html#indexing-view-versus-copy\n",
      "  \n",
      "C:\\Users\\lenovo\\Anaconda3\\lib\\site-packages\\ipykernel_launcher.py:15: SettingWithCopyWarning: \n",
      "A value is trying to be set on a copy of a slice from a DataFrame\n",
      "\n",
      "See the caveats in the documentation: http://pandas.pydata.org/pandas-docs/stable/indexing.html#indexing-view-versus-copy\n",
      "  from ipykernel import kernelapp as app\n",
      "C:\\Users\\lenovo\\Anaconda3\\lib\\site-packages\\ipykernel_launcher.py:16: SettingWithCopyWarning: \n",
      "A value is trying to be set on a copy of a slice from a DataFrame\n",
      "\n",
      "See the caveats in the documentation: http://pandas.pydata.org/pandas-docs/stable/indexing.html#indexing-view-versus-copy\n",
      "  app.launch_new_instance()\n"
     ]
    }
   ],
   "source": [
    "result_2016['Ovr_ratio']=0.0\n",
    "result_2016['Def_ratio']=0.0\n",
    "result_2016['Mid_ratio']=0.0\n",
    "result_2016['Fwd_ratio']=0.0\n",
    "result_2016['Phy_ratio']=0.0\n",
    "result_2016['Spd_ratio']=0.0\n",
    "result_2016['2016 power_ratio']=0.0\n",
    "for i in range(result_2016.shape[0]):\n",
    "\n",
    "    result_2016['Ovr_ratio'][i]=result_2016['Ovr_home'][i]/result_2016['Ovr_away'][i]\n",
    "    result_2016['Def_ratio'][i]=result_2016['Def_home'][i]/result_2016['Def_away'][i]\n",
    "    result_2016['Mid_ratio'][i]=result_2016['Mid_home'][i]/result_2016['Mid_away'][i]\n",
    "    result_2016['Fwd_ratio'][i]=result_2016['Fwd_home'][i]/result_2016['Fwd_away'][i]\n",
    "    result_2016['Phy_ratio'][i]=result_2016['Phy_home'][i]/result_2016['Phy_away'][i]\n",
    "    result_2016['Spd_ratio'][i]=result_2016['Spd_home'][i]/result_2016['Spd_away'][i]\n",
    "    result_2016['2016 power_ratio'][i]=result_2016['2016 power_home'][i]/result_2016['2016 power_away'][i]\n"
   ]
  },
  {
   "cell_type": "code",
   "execution_count": 55,
   "metadata": {
    "collapsed": true
   },
   "outputs": [],
   "source": [
    "X_test=result_2016.drop(['gameId', 'gameDate', 'homeTeamId', 'awayTeamId', 'gameName', 'p1',\n",
    "       'px', 'p2', 'homeTeamName', 'awayTeamName', 'Ovr_home', 'Def_home',\n",
    "       'Mid_home', 'Fwd_home', 'Phy_home', 'Spd_home', 'year_home',\n",
    "       '2016 power_home', 'Ovr_away', 'Def_away', 'Mid_away', 'Fwd_away',\n",
    "       'Phy_away', 'Spd_away', 'year_away', '2016 power_away'],axis=1)"
   ]
  },
  {
   "cell_type": "code",
   "execution_count": 56,
   "metadata": {
    "collapsed": true
   },
   "outputs": [],
   "source": [
    "prediction=logmodel.predict_proba(X_test)\n",
    "prediction1=logmodel.predict(X_test)"
   ]
  },
  {
   "cell_type": "code",
   "execution_count": 57,
   "metadata": {},
   "outputs": [
    {
     "data": {
      "text/html": [
       "<div>\n",
       "<style>\n",
       "    .dataframe thead tr:only-child th {\n",
       "        text-align: right;\n",
       "    }\n",
       "\n",
       "    .dataframe thead th {\n",
       "        text-align: left;\n",
       "    }\n",
       "\n",
       "    .dataframe tbody tr th {\n",
       "        vertical-align: top;\n",
       "    }\n",
       "</style>\n",
       "<table border=\"1\" class=\"dataframe\">\n",
       "  <thead>\n",
       "    <tr style=\"text-align: right;\">\n",
       "      <th></th>\n",
       "      <th>Ovr_ratio</th>\n",
       "      <th>Def_ratio</th>\n",
       "      <th>Mid_ratio</th>\n",
       "      <th>Fwd_ratio</th>\n",
       "      <th>Phy_ratio</th>\n",
       "      <th>Spd_ratio</th>\n",
       "      <th>2016 power_ratio</th>\n",
       "    </tr>\n",
       "  </thead>\n",
       "  <tbody>\n",
       "    <tr>\n",
       "      <th>0</th>\n",
       "      <td>1.114286</td>\n",
       "      <td>1.147059</td>\n",
       "      <td>1.100000</td>\n",
       "      <td>1.100000</td>\n",
       "      <td>1.083333</td>\n",
       "      <td>0.974359</td>\n",
       "      <td>0.951012</td>\n",
       "    </tr>\n",
       "    <tr>\n",
       "      <th>1</th>\n",
       "      <td>1.157143</td>\n",
       "      <td>1.176471</td>\n",
       "      <td>1.114286</td>\n",
       "      <td>1.300000</td>\n",
       "      <td>1.111111</td>\n",
       "      <td>0.987179</td>\n",
       "      <td>1.474023</td>\n",
       "    </tr>\n",
       "    <tr>\n",
       "      <th>2</th>\n",
       "      <td>1.098592</td>\n",
       "      <td>1.147059</td>\n",
       "      <td>1.115942</td>\n",
       "      <td>1.132353</td>\n",
       "      <td>1.054054</td>\n",
       "      <td>1.027027</td>\n",
       "      <td>1.092365</td>\n",
       "    </tr>\n",
       "    <tr>\n",
       "      <th>3</th>\n",
       "      <td>0.985915</td>\n",
       "      <td>1.000000</td>\n",
       "      <td>1.014493</td>\n",
       "      <td>1.029412</td>\n",
       "      <td>0.972973</td>\n",
       "      <td>1.054054</td>\n",
       "      <td>1.148634</td>\n",
       "    </tr>\n",
       "    <tr>\n",
       "      <th>4</th>\n",
       "      <td>0.876543</td>\n",
       "      <td>0.850000</td>\n",
       "      <td>0.884615</td>\n",
       "      <td>0.747253</td>\n",
       "      <td>0.925000</td>\n",
       "      <td>0.961039</td>\n",
       "      <td>0.590628</td>\n",
       "    </tr>\n",
       "  </tbody>\n",
       "</table>\n",
       "</div>"
      ],
      "text/plain": [
       "   Ovr_ratio  Def_ratio  Mid_ratio  Fwd_ratio  Phy_ratio  Spd_ratio  \\\n",
       "0   1.114286   1.147059   1.100000   1.100000   1.083333   0.974359   \n",
       "1   1.157143   1.176471   1.114286   1.300000   1.111111   0.987179   \n",
       "2   1.098592   1.147059   1.115942   1.132353   1.054054   1.027027   \n",
       "3   0.985915   1.000000   1.014493   1.029412   0.972973   1.054054   \n",
       "4   0.876543   0.850000   0.884615   0.747253   0.925000   0.961039   \n",
       "\n",
       "   2016 power_ratio  \n",
       "0          0.951012  \n",
       "1          1.474023  \n",
       "2          1.092365  \n",
       "3          1.148634  \n",
       "4          0.590628  "
      ]
     },
     "execution_count": 57,
     "metadata": {},
     "output_type": "execute_result"
    }
   ],
   "source": [
    "X_test.head()"
   ]
  },
  {
   "cell_type": "code",
   "execution_count": 58,
   "metadata": {},
   "outputs": [
    {
     "data": {
      "text/plain": [
       "array([1, 1, 1, 1, 0, 1, 1, 0, 1, 1, 1, 1, 1, 1, 1, 1, 1, 1, 1, 1, 1, 1, 0,\n",
       "       1, 1, 1, 1, 1, 1, 1, 1, 1, 1, 1, 2, 1, 1, 1, 1, 2, 1, 0, 1, 2, 1, 0,\n",
       "       1, 1], dtype=int64)"
      ]
     },
     "execution_count": 58,
     "metadata": {},
     "output_type": "execute_result"
    }
   ],
   "source": [
    "prediction1"
   ]
  },
  {
   "cell_type": "code",
   "execution_count": 59,
   "metadata": {},
   "outputs": [
    {
     "data": {
      "text/plain": [
       "48"
      ]
     },
     "execution_count": 59,
     "metadata": {},
     "output_type": "execute_result"
    }
   ],
   "source": [
    "prediction.shape[0]"
   ]
  },
  {
   "cell_type": "code",
   "execution_count": 60,
   "metadata": {},
   "outputs": [
    {
     "data": {
      "text/plain": [
       "(48, 10)"
      ]
     },
     "execution_count": 60,
     "metadata": {},
     "output_type": "execute_result"
    }
   ],
   "source": [
    "result.shape"
   ]
  },
  {
   "cell_type": "code",
   "execution_count": 61,
   "metadata": {},
   "outputs": [
    {
     "name": "stderr",
     "output_type": "stream",
     "text": [
      "C:\\Users\\lenovo\\Anaconda3\\lib\\site-packages\\ipykernel_launcher.py:2: SettingWithCopyWarning: \n",
      "A value is trying to be set on a copy of a slice from a DataFrame\n",
      "\n",
      "See the caveats in the documentation: http://pandas.pydata.org/pandas-docs/stable/indexing.html#indexing-view-versus-copy\n",
      "  \n",
      "C:\\Users\\lenovo\\Anaconda3\\lib\\site-packages\\ipykernel_launcher.py:3: SettingWithCopyWarning: \n",
      "A value is trying to be set on a copy of a slice from a DataFrame\n",
      "\n",
      "See the caveats in the documentation: http://pandas.pydata.org/pandas-docs/stable/indexing.html#indexing-view-versus-copy\n",
      "  This is separate from the ipykernel package so we can avoid doing imports until\n",
      "C:\\Users\\lenovo\\Anaconda3\\lib\\site-packages\\ipykernel_launcher.py:4: SettingWithCopyWarning: \n",
      "A value is trying to be set on a copy of a slice from a DataFrame\n",
      "\n",
      "See the caveats in the documentation: http://pandas.pydata.org/pandas-docs/stable/indexing.html#indexing-view-versus-copy\n",
      "  after removing the cwd from sys.path.\n"
     ]
    }
   ],
   "source": [
    "for i in range(result.shape[0]):\n",
    "    result['p2'][i]=prediction[i][2]\n",
    "    result['p1'][i]=prediction[i][1]\n",
    "    result['px'][i]=prediction[i][0]"
   ]
  },
  {
   "cell_type": "code",
   "execution_count": 62,
   "metadata": {
    "collapsed": true
   },
   "outputs": [],
   "source": [
    "result.drop(['homeTeamName','awayTeamName'],axis=1,inplace=True)"
   ]
  },
  {
   "cell_type": "code",
   "execution_count": 63,
   "metadata": {},
   "outputs": [
    {
     "data": {
      "text/html": [
       "<div>\n",
       "<style>\n",
       "    .dataframe thead tr:only-child th {\n",
       "        text-align: right;\n",
       "    }\n",
       "\n",
       "    .dataframe thead th {\n",
       "        text-align: left;\n",
       "    }\n",
       "\n",
       "    .dataframe tbody tr th {\n",
       "        vertical-align: top;\n",
       "    }\n",
       "</style>\n",
       "<table border=\"1\" class=\"dataframe\">\n",
       "  <thead>\n",
       "    <tr style=\"text-align: right;\">\n",
       "      <th></th>\n",
       "      <th>gameId</th>\n",
       "      <th>gameDate</th>\n",
       "      <th>homeTeamId</th>\n",
       "      <th>awayTeamId</th>\n",
       "      <th>gameName</th>\n",
       "      <th>p1</th>\n",
       "      <th>px</th>\n",
       "      <th>p2</th>\n",
       "    </tr>\n",
       "  </thead>\n",
       "  <tbody>\n",
       "    <tr>\n",
       "      <th>0</th>\n",
       "      <td>1249942</td>\n",
       "      <td>2018-06-14 16:00:00</td>\n",
       "      <td>326</td>\n",
       "      <td>494</td>\n",
       "      <td>russia-saudi-arabia</td>\n",
       "      <td>0.501633</td>\n",
       "      <td>0.259579</td>\n",
       "      <td>0.238788</td>\n",
       "    </tr>\n",
       "    <tr>\n",
       "      <th>1</th>\n",
       "      <td>1249926</td>\n",
       "      <td>2018-06-15 13:00:00</td>\n",
       "      <td>944</td>\n",
       "      <td>967</td>\n",
       "      <td>egypt-uruguay</td>\n",
       "      <td>0.599842</td>\n",
       "      <td>0.221105</td>\n",
       "      <td>0.179052</td>\n",
       "    </tr>\n",
       "    <tr>\n",
       "      <th>2</th>\n",
       "      <td>1249948</td>\n",
       "      <td>2018-06-15 16:00:00</td>\n",
       "      <td>495</td>\n",
       "      <td>1293</td>\n",
       "      <td>morocco-iran</td>\n",
       "      <td>0.524460</td>\n",
       "      <td>0.253416</td>\n",
       "      <td>0.222124</td>\n",
       "    </tr>\n",
       "    <tr>\n",
       "      <th>3</th>\n",
       "      <td>1249919</td>\n",
       "      <td>2018-06-15 19:00:00</td>\n",
       "      <td>340</td>\n",
       "      <td>338</td>\n",
       "      <td>portugal-spain</td>\n",
       "      <td>0.476204</td>\n",
       "      <td>0.281746</td>\n",
       "      <td>0.242050</td>\n",
       "    </tr>\n",
       "    <tr>\n",
       "      <th>4</th>\n",
       "      <td>1249951</td>\n",
       "      <td>2018-06-16 11:00:00</td>\n",
       "      <td>341</td>\n",
       "      <td>328</td>\n",
       "      <td>france-australia</td>\n",
       "      <td>0.325589</td>\n",
       "      <td>0.339437</td>\n",
       "      <td>0.334973</td>\n",
       "    </tr>\n",
       "  </tbody>\n",
       "</table>\n",
       "</div>"
      ],
      "text/plain": [
       "    gameId             gameDate  homeTeamId  awayTeamId             gameName  \\\n",
       "0  1249942  2018-06-14 16:00:00         326         494  russia-saudi-arabia   \n",
       "1  1249926  2018-06-15 13:00:00         944         967        egypt-uruguay   \n",
       "2  1249948  2018-06-15 16:00:00         495        1293         morocco-iran   \n",
       "3  1249919  2018-06-15 19:00:00         340         338       portugal-spain   \n",
       "4  1249951  2018-06-16 11:00:00         341         328     france-australia   \n",
       "\n",
       "         p1        px        p2  \n",
       "0  0.501633  0.259579  0.238788  \n",
       "1  0.599842  0.221105  0.179052  \n",
       "2  0.524460  0.253416  0.222124  \n",
       "3  0.476204  0.281746  0.242050  \n",
       "4  0.325589  0.339437  0.334973  "
      ]
     },
     "execution_count": 63,
     "metadata": {},
     "output_type": "execute_result"
    }
   ],
   "source": [
    "result.head()"
   ]
  },
  {
   "cell_type": "code",
   "execution_count": 64,
   "metadata": {
    "collapsed": true
   },
   "outputs": [],
   "source": [
    "result.to_csv('submission_template_2016.csv')"
   ]
  }
 ],
 "metadata": {
  "kernelspec": {
   "display_name": "Python 3",
   "language": "python",
   "name": "python3"
  },
  "language_info": {
   "codemirror_mode": {
    "name": "ipython",
    "version": 3
   },
   "file_extension": ".py",
   "mimetype": "text/x-python",
   "name": "python",
   "nbconvert_exporter": "python",
   "pygments_lexer": "ipython3",
   "version": "3.6.1"
  }
 },
 "nbformat": 4,
 "nbformat_minor": 2
}
