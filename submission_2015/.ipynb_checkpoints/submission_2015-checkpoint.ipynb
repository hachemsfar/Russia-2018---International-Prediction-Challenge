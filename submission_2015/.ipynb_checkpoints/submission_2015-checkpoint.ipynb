{
 "cells": [
  {
   "cell_type": "code",
   "execution_count": 1,
   "metadata": {
    "collapsed": true
   },
   "outputs": [],
   "source": [
    "import numpy as np # linear algebra\n",
    "import pandas as pd # data processing, CSV file I/O (e.g. pd.read_csv)\n",
    "\n",
    "from datetime import date\n",
    "from tqdm import tqdm"
   ]
  },
  {
   "cell_type": "code",
   "execution_count": 2,
   "metadata": {},
   "outputs": [],
   "source": [
    "df=pd.read_csv('../basicData.csv')"
   ]
  },
  {
   "cell_type": "code",
   "execution_count": 3,
   "metadata": {},
   "outputs": [
    {
     "name": "stdout",
     "output_type": "stream",
     "text": [
      "<class 'pandas.core.frame.DataFrame'>\n",
      "RangeIndex: 86391 entries, 0 to 86390\n",
      "Data columns (total 10 columns):\n",
      "gameId             86391 non-null int64\n",
      "HT_goals           86391 non-null int64\n",
      "competitionName    86391 non-null object\n",
      "awayTeamName       86391 non-null object\n",
      "homeTeamName       86391 non-null object\n",
      "date               86391 non-null object\n",
      "AT_goals           86391 non-null int64\n",
      "HT_id              86391 non-null int64\n",
      "competitionId      81394 non-null float64\n",
      "AT_id              86391 non-null int64\n",
      "dtypes: float64(1), int64(5), object(4)\n",
      "memory usage: 6.6+ MB\n"
     ]
    }
   ],
   "source": [
    "df.info()"
   ]
  },
  {
   "cell_type": "code",
   "execution_count": 4,
   "metadata": {},
   "outputs": [],
   "source": [
    "df['date'] = df['date'].apply(lambda Date: Date.split(' ')[0])"
   ]
  },
  {
   "cell_type": "code",
   "execution_count": 5,
   "metadata": {
    "collapsed": true
   },
   "outputs": [],
   "source": [
    "df['year'] = df['date'].apply(lambda Date: Date.split('-')[0])"
   ]
  },
  {
   "cell_type": "code",
   "execution_count": 6,
   "metadata": {
    "collapsed": true
   },
   "outputs": [],
   "source": [
    "df['awayTeamName']=df['awayTeamName'].apply(lambda team: team.lower())\n",
    "df['homeTeamName']=df['homeTeamName'].apply(lambda team: team.lower())"
   ]
  },
  {
   "cell_type": "code",
   "execution_count": 7,
   "metadata": {
    "scrolled": true
   },
   "outputs": [
    {
     "data": {
      "text/html": [
       "<div>\n",
       "<style>\n",
       "    .dataframe thead tr:only-child th {\n",
       "        text-align: right;\n",
       "    }\n",
       "\n",
       "    .dataframe thead th {\n",
       "        text-align: left;\n",
       "    }\n",
       "\n",
       "    .dataframe tbody tr th {\n",
       "        vertical-align: top;\n",
       "    }\n",
       "</style>\n",
       "<table border=\"1\" class=\"dataframe\">\n",
       "  <thead>\n",
       "    <tr style=\"text-align: right;\">\n",
       "      <th></th>\n",
       "      <th>gameId</th>\n",
       "      <th>HT_goals</th>\n",
       "      <th>competitionName</th>\n",
       "      <th>awayTeamName</th>\n",
       "      <th>homeTeamName</th>\n",
       "      <th>date</th>\n",
       "      <th>AT_goals</th>\n",
       "      <th>HT_id</th>\n",
       "      <th>competitionId</th>\n",
       "      <th>AT_id</th>\n",
       "      <th>year</th>\n",
       "    </tr>\n",
       "  </thead>\n",
       "  <tbody>\n",
       "    <tr>\n",
       "      <th>0</th>\n",
       "      <td>669044</td>\n",
       "      <td>2</td>\n",
       "      <td>Finnish Veikkausliiga</td>\n",
       "      <td>jjk jyvaskyla</td>\n",
       "      <td>kps kuopio</td>\n",
       "      <td>2013-07-15</td>\n",
       "      <td>1</td>\n",
       "      <td>2031</td>\n",
       "      <td>208.0</td>\n",
       "      <td>5086</td>\n",
       "      <td>2013</td>\n",
       "    </tr>\n",
       "    <tr>\n",
       "      <th>1</th>\n",
       "      <td>668800</td>\n",
       "      <td>3</td>\n",
       "      <td>Swedish Allsvenskan</td>\n",
       "      <td>osters</td>\n",
       "      <td>helsingborgs</td>\n",
       "      <td>2013-07-15</td>\n",
       "      <td>0</td>\n",
       "      <td>1296</td>\n",
       "      <td>205.0</td>\n",
       "      <td>1954</td>\n",
       "      <td>2013</td>\n",
       "    </tr>\n",
       "    <tr>\n",
       "      <th>2</th>\n",
       "      <td>677919</td>\n",
       "      <td>6</td>\n",
       "      <td>Champions League</td>\n",
       "      <td>eb streymur</td>\n",
       "      <td>dinamo tbilisi</td>\n",
       "      <td>2013-07-16</td>\n",
       "      <td>1</td>\n",
       "      <td>823</td>\n",
       "      <td>66.0</td>\n",
       "      <td>4441</td>\n",
       "      <td>2013</td>\n",
       "    </tr>\n",
       "    <tr>\n",
       "      <th>3</th>\n",
       "      <td>677924</td>\n",
       "      <td>3</td>\n",
       "      <td>Champions League</td>\n",
       "      <td>vardar skopje</td>\n",
       "      <td>steaua</td>\n",
       "      <td>2013-07-16</td>\n",
       "      <td>0</td>\n",
       "      <td>2251</td>\n",
       "      <td>66.0</td>\n",
       "      <td>2669</td>\n",
       "      <td>2013</td>\n",
       "    </tr>\n",
       "    <tr>\n",
       "      <th>4</th>\n",
       "      <td>677931</td>\n",
       "      <td>2</td>\n",
       "      <td>Champions League</td>\n",
       "      <td>ludogorets</td>\n",
       "      <td>s. bratislava</td>\n",
       "      <td>2013-07-17</td>\n",
       "      <td>1</td>\n",
       "      <td>2368</td>\n",
       "      <td>66.0</td>\n",
       "      <td>5344</td>\n",
       "      <td>2013</td>\n",
       "    </tr>\n",
       "  </tbody>\n",
       "</table>\n",
       "</div>"
      ],
      "text/plain": [
       "   gameId  HT_goals        competitionName   awayTeamName    homeTeamName  \\\n",
       "0  669044         2  Finnish Veikkausliiga  jjk jyvaskyla      kps kuopio   \n",
       "1  668800         3    Swedish Allsvenskan         osters    helsingborgs   \n",
       "2  677919         6       Champions League    eb streymur  dinamo tbilisi   \n",
       "3  677924         3       Champions League  vardar skopje          steaua   \n",
       "4  677931         2       Champions League     ludogorets   s. bratislava   \n",
       "\n",
       "         date  AT_goals  HT_id  competitionId  AT_id  year  \n",
       "0  2013-07-15         1   2031          208.0   5086  2013  \n",
       "1  2013-07-15         0   1296          205.0   1954  2013  \n",
       "2  2013-07-16         1    823           66.0   4441  2013  \n",
       "3  2013-07-16         0   2251           66.0   2669  2013  \n",
       "4  2013-07-17         1   2368           66.0   5344  2013  "
      ]
     },
     "execution_count": 7,
     "metadata": {},
     "output_type": "execute_result"
    }
   ],
   "source": [
    "df.head()"
   ]
  },
  {
   "cell_type": "code",
   "execution_count": 8,
   "metadata": {
    "collapsed": true
   },
   "outputs": [],
   "source": [
    "import requests\n",
    "\n",
    "url = 'https://www.fifa.com/fifa-world-ranking/ranking-table/men/index.html'\n",
    "\n",
    "header = {\n",
    "  \"User-Agent\": \"Mozilla/5.0 (X11; Linux x86_64) AppleWebKit/537.36 (KHTML, like Gecko) Chrome/50.0.2661.75 Safari/537.36\",\n",
    "  \"X-Requested-With\": \"XMLHttpRequest\"\n",
    "}\n",
    "\n",
    "r = requests.get(url, headers=header)\n",
    "\n",
    "score_fifa = pd.read_html(r.text)\n",
    "score_fifa=score_fifa[0]"
   ]
  },
  {
   "cell_type": "code",
   "execution_count": 9,
   "metadata": {
    "collapsed": true
   },
   "outputs": [],
   "source": [
    "score_fifa=score_fifa.drop([' ', '2018 (100 %)', '2016 (30 %)', '2015 (20 %)',\n",
    "      'Unnamed: 6', 'Unnamed: 7', 'Unnamed: 8',\n",
    "       'Unnamed: 10', 'Unnamed: 12',\n",
    "       'Unnamed: 14', 'Unnamed: 16', 'Unnamed: 17',\n",
    "       'Unnamed: 18', 'Unnamed: 19'],axis=1)"
   ]
  },
  {
   "cell_type": "code",
   "execution_count": 10,
   "metadata": {
    "collapsed": true
   },
   "outputs": [],
   "source": [
    "score_fifa.columns=['Name','Total Points','2018 power','2017 power','2016 power','2015 power']"
   ]
  },
  {
   "cell_type": "code",
   "execution_count": 11,
   "metadata": {
    "collapsed": true
   },
   "outputs": [],
   "source": [
    "score_fifa['Total Points'] = score_fifa['Total Points'].apply(lambda x: x.split('(')[1])\n",
    "score_fifa['Total Points'] = score_fifa['Total Points'].apply(lambda x: x.split(')')[0])\n"
   ]
  },
  {
   "cell_type": "code",
   "execution_count": 12,
   "metadata": {
    "collapsed": true
   },
   "outputs": [],
   "source": [
    "score_fifa['Total Points']=score_fifa['Total Points'].astype(float)"
   ]
  },
  {
   "cell_type": "code",
   "execution_count": 13,
   "metadata": {},
   "outputs": [
    {
     "data": {
      "text/html": [
       "<div>\n",
       "<style>\n",
       "    .dataframe thead tr:only-child th {\n",
       "        text-align: right;\n",
       "    }\n",
       "\n",
       "    .dataframe thead th {\n",
       "        text-align: left;\n",
       "    }\n",
       "\n",
       "    .dataframe tbody tr th {\n",
       "        vertical-align: top;\n",
       "    }\n",
       "</style>\n",
       "<table border=\"1\" class=\"dataframe\">\n",
       "  <thead>\n",
       "    <tr style=\"text-align: right;\">\n",
       "      <th></th>\n",
       "      <th>Name</th>\n",
       "      <th>Total Points</th>\n",
       "      <th>2018 power</th>\n",
       "      <th>2017 power</th>\n",
       "      <th>2016 power</th>\n",
       "      <th>2015 power</th>\n",
       "    </tr>\n",
       "  </thead>\n",
       "  <tbody>\n",
       "    <tr>\n",
       "      <th>0</th>\n",
       "      <td>Germany</td>\n",
       "      <td>1558.49</td>\n",
       "      <td>775.06</td>\n",
       "      <td>832.00</td>\n",
       "      <td>424.26</td>\n",
       "      <td>1200.77</td>\n",
       "    </tr>\n",
       "    <tr>\n",
       "      <th>1</th>\n",
       "      <td>Brazil</td>\n",
       "      <td>1430.57</td>\n",
       "      <td>558.95</td>\n",
       "      <td>1082.36</td>\n",
       "      <td>560.21</td>\n",
       "      <td>811.88</td>\n",
       "    </tr>\n",
       "    <tr>\n",
       "      <th>2</th>\n",
       "      <td>Belgium</td>\n",
       "      <td>1298.32</td>\n",
       "      <td>629.98</td>\n",
       "      <td>645.63</td>\n",
       "      <td>529.80</td>\n",
       "      <td>932.92</td>\n",
       "    </tr>\n",
       "    <tr>\n",
       "      <th>3</th>\n",
       "      <td>Portugal</td>\n",
       "      <td>1273.69</td>\n",
       "      <td>646.92</td>\n",
       "      <td>691.82</td>\n",
       "      <td>517.77</td>\n",
       "      <td>627.63</td>\n",
       "    </tr>\n",
       "    <tr>\n",
       "      <th>4</th>\n",
       "      <td>Argentina</td>\n",
       "      <td>1241.45</td>\n",
       "      <td>404.07</td>\n",
       "      <td>809.59</td>\n",
       "      <td>829.98</td>\n",
       "      <td>917.94</td>\n",
       "    </tr>\n",
       "  </tbody>\n",
       "</table>\n",
       "</div>"
      ],
      "text/plain": [
       "        Name  Total Points  2018 power  2017 power  2016 power  2015 power\n",
       "0    Germany       1558.49      775.06      832.00      424.26     1200.77\n",
       "1     Brazil       1430.57      558.95     1082.36      560.21      811.88\n",
       "2    Belgium       1298.32      629.98      645.63      529.80      932.92\n",
       "3   Portugal       1273.69      646.92      691.82      517.77      627.63\n",
       "4  Argentina       1241.45      404.07      809.59      829.98      917.94"
      ]
     },
     "execution_count": 13,
     "metadata": {},
     "output_type": "execute_result"
    }
   ],
   "source": [
    "score_fifa.head()"
   ]
  },
  {
   "cell_type": "markdown",
   "metadata": {},
   "source": [
    "*** 2015 ***"
   ]
  },
  {
   "cell_type": "code",
   "execution_count": 14,
   "metadata": {
    "collapsed": true
   },
   "outputs": [],
   "source": [
    "National_europe = pd.read_html('http://www.pesmaster.com/national-teams-europe/pes-2015/league/90/')\n",
    "National_europe=National_europe[1]\n",
    "National_europe['year']='2015'\n",
    "\n",
    "National_africa = pd.read_html('http://www.pesmaster.com/national-teams-africa/pes-2015/league/91/')\n",
    "National_africa=National_africa[1]\n",
    "National_africa['year']='2015'\n",
    "\n",
    "National_South_Am=pd.read_html('http://www.pesmaster.com/national-teams-south-america/pes-2015/league/93/')\n",
    "National_South_Am=National_South_Am[1]\n",
    "National_South_Am['year']='2015'\n",
    "\n",
    "National_america = pd.read_html('http://www.pesmaster.com/national-teams-north-america/pes-2015/league/92/')\n",
    "National_america=National_america[1]\n",
    "National_america['year']='2015'\n",
    "\n",
    "National_asia = pd.read_html('http://www.pesmaster.com/national-teams-asia/pes-2015/league/94/')\n",
    "National_asia=National_asia[1]\n",
    "National_asia['year']='2015'\n",
    "\n",
    "National_team=[National_europe,National_africa,National_South_Am,National_america,National_asia]\n",
    "National_team=pd.concat(National_team)"
   ]
  },
  {
   "cell_type": "code",
   "execution_count": 15,
   "metadata": {
    "collapsed": true
   },
   "outputs": [],
   "source": [
    "National_team = National_team.append({'Name': 'iceland','Ovr':73,'Def':70,'Mid':72,'Fwd':73,'Phy':77,'Spd':72,'year':'2015'}, ignore_index=True)"
   ]
  },
  {
   "cell_type": "code",
   "execution_count": 16,
   "metadata": {},
   "outputs": [
    {
     "data": {
      "text/html": [
       "<div>\n",
       "<style>\n",
       "    .dataframe thead tr:only-child th {\n",
       "        text-align: right;\n",
       "    }\n",
       "\n",
       "    .dataframe thead th {\n",
       "        text-align: left;\n",
       "    }\n",
       "\n",
       "    .dataframe tbody tr th {\n",
       "        vertical-align: top;\n",
       "    }\n",
       "</style>\n",
       "<table border=\"1\" class=\"dataframe\">\n",
       "  <thead>\n",
       "    <tr style=\"text-align: right;\">\n",
       "      <th></th>\n",
       "      <th>Name</th>\n",
       "      <th>Ovr</th>\n",
       "      <th>Def</th>\n",
       "      <th>Mid</th>\n",
       "      <th>Fwd</th>\n",
       "      <th>Phy</th>\n",
       "      <th>Spd</th>\n",
       "      <th>year</th>\n",
       "    </tr>\n",
       "  </thead>\n",
       "  <tbody>\n",
       "    <tr>\n",
       "      <th>77</th>\n",
       "      <td>North Korea</td>\n",
       "      <td>66</td>\n",
       "      <td>67</td>\n",
       "      <td>64</td>\n",
       "      <td>65</td>\n",
       "      <td>74</td>\n",
       "      <td>71</td>\n",
       "      <td>2015</td>\n",
       "    </tr>\n",
       "    <tr>\n",
       "      <th>78</th>\n",
       "      <td>UAE</td>\n",
       "      <td>66</td>\n",
       "      <td>72</td>\n",
       "      <td>65</td>\n",
       "      <td>64</td>\n",
       "      <td>73</td>\n",
       "      <td>72</td>\n",
       "      <td>2015</td>\n",
       "    </tr>\n",
       "    <tr>\n",
       "      <th>79</th>\n",
       "      <td>Kuwait</td>\n",
       "      <td>64</td>\n",
       "      <td>62</td>\n",
       "      <td>65</td>\n",
       "      <td>64</td>\n",
       "      <td>73</td>\n",
       "      <td>70</td>\n",
       "      <td>2015</td>\n",
       "    </tr>\n",
       "    <tr>\n",
       "      <th>80</th>\n",
       "      <td>Qatar</td>\n",
       "      <td>63</td>\n",
       "      <td>62</td>\n",
       "      <td>61</td>\n",
       "      <td>65</td>\n",
       "      <td>74</td>\n",
       "      <td>71</td>\n",
       "      <td>2015</td>\n",
       "    </tr>\n",
       "    <tr>\n",
       "      <th>81</th>\n",
       "      <td>iceland</td>\n",
       "      <td>73</td>\n",
       "      <td>70</td>\n",
       "      <td>72</td>\n",
       "      <td>73</td>\n",
       "      <td>77</td>\n",
       "      <td>72</td>\n",
       "      <td>2015</td>\n",
       "    </tr>\n",
       "  </tbody>\n",
       "</table>\n",
       "</div>"
      ],
      "text/plain": [
       "           Name  Ovr  Def  Mid  Fwd  Phy  Spd  year\n",
       "77  North Korea   66   67   64   65   74   71  2015\n",
       "78          UAE   66   72   65   64   73   72  2015\n",
       "79       Kuwait   64   62   65   64   73   70  2015\n",
       "80        Qatar   63   62   61   65   74   71  2015\n",
       "81      iceland   73   70   72   73   77   72  2015"
      ]
     },
     "execution_count": 16,
     "metadata": {},
     "output_type": "execute_result"
    }
   ],
   "source": [
    "National_team.tail()"
   ]
  },
  {
   "cell_type": "code",
   "execution_count": 17,
   "metadata": {
    "collapsed": true
   },
   "outputs": [],
   "source": [
    "National_team['Name']=National_team['Name'].apply(lambda team: team.lower())"
   ]
  },
  {
   "cell_type": "code",
   "execution_count": 18,
   "metadata": {},
   "outputs": [
    {
     "name": "stderr",
     "output_type": "stream",
     "text": [
      "C:\\Users\\lenovo\\Anaconda3\\lib\\site-packages\\pandas\\core\\indexing.py:179: SettingWithCopyWarning: \n",
      "A value is trying to be set on a copy of a slice from a DataFrame\n",
      "\n",
      "See the caveats in the documentation: http://pandas.pydata.org/pandas-docs/stable/indexing.html#indexing-view-versus-copy\n",
      "  self._setitem_with_indexer(indexer, value)\n"
     ]
    }
   ],
   "source": [
    "National_team['Name'].loc[National_team['Name']=='south korea']='republic of korea'"
   ]
  },
  {
   "cell_type": "code",
   "execution_count": 19,
   "metadata": {},
   "outputs": [
    {
     "name": "stderr",
     "output_type": "stream",
     "text": [
      "C:\\Users\\lenovo\\Anaconda3\\lib\\site-packages\\ipykernel_launcher.py:2: SettingWithCopyWarning: \n",
      "A value is trying to be set on a copy of a slice from a DataFrame.\n",
      "Try using .loc[row_indexer,col_indexer] = value instead\n",
      "\n",
      "See the caveats in the documentation: http://pandas.pydata.org/pandas-docs/stable/indexing.html#indexing-view-versus-copy\n",
      "  \n"
     ]
    }
   ],
   "source": [
    "score_fifa_2015=score_fifa[['Name','2015 power']]\n",
    "score_fifa_2015['Name']=score_fifa_2015['Name'].apply(lambda team: team.lower())"
   ]
  },
  {
   "cell_type": "code",
   "execution_count": 20,
   "metadata": {},
   "outputs": [
    {
     "name": "stderr",
     "output_type": "stream",
     "text": [
      "C:\\Users\\lenovo\\Anaconda3\\lib\\site-packages\\pandas\\core\\indexing.py:179: SettingWithCopyWarning: \n",
      "A value is trying to be set on a copy of a slice from a DataFrame\n",
      "\n",
      "See the caveats in the documentation: http://pandas.pydata.org/pandas-docs/stable/indexing.html#indexing-view-versus-copy\n",
      "  self._setitem_with_indexer(indexer, value)\n",
      "C:\\Users\\lenovo\\Anaconda3\\lib\\site-packages\\ipykernel_launcher.py:1: SettingWithCopyWarning: \n",
      "A value is trying to be set on a copy of a slice from a DataFrame\n",
      "\n",
      "See the caveats in the documentation: http://pandas.pydata.org/pandas-docs/stable/indexing.html#indexing-view-versus-copy\n",
      "  \"\"\"Entry point for launching an IPython kernel.\n",
      "C:\\Users\\lenovo\\Anaconda3\\lib\\site-packages\\ipykernel_launcher.py:2: SettingWithCopyWarning: \n",
      "A value is trying to be set on a copy of a slice from a DataFrame\n",
      "\n",
      "See the caveats in the documentation: http://pandas.pydata.org/pandas-docs/stable/indexing.html#indexing-view-versus-copy\n",
      "  \n",
      "C:\\Users\\lenovo\\Anaconda3\\lib\\site-packages\\ipykernel_launcher.py:3: SettingWithCopyWarning: \n",
      "A value is trying to be set on a copy of a slice from a DataFrame\n",
      "\n",
      "See the caveats in the documentation: http://pandas.pydata.org/pandas-docs/stable/indexing.html#indexing-view-versus-copy\n",
      "  This is separate from the ipykernel package so we can avoid doing imports until\n"
     ]
    }
   ],
   "source": [
    "score_fifa_2015['Name'].loc[score_fifa_2015['Name']=='ir iran']='iran'\n",
    "score_fifa_2015['Name'].loc[score_fifa_2015['Name']=='korea republic']='republic of korea'\n",
    "score_fifa_2015['Name'].loc[score_fifa_2015['Name']=='Korea Republic']='republic of korea'\n"
   ]
  },
  {
   "cell_type": "code",
   "execution_count": 21,
   "metadata": {
    "collapsed": true
   },
   "outputs": [],
   "source": [
    "National_team_2015=pd.merge(National_team,score_fifa_2015,how='inner',on='Name')"
   ]
  },
  {
   "cell_type": "code",
   "execution_count": 22,
   "metadata": {},
   "outputs": [
    {
     "data": {
      "text/html": [
       "<div>\n",
       "<style>\n",
       "    .dataframe thead tr:only-child th {\n",
       "        text-align: right;\n",
       "    }\n",
       "\n",
       "    .dataframe thead th {\n",
       "        text-align: left;\n",
       "    }\n",
       "\n",
       "    .dataframe tbody tr th {\n",
       "        vertical-align: top;\n",
       "    }\n",
       "</style>\n",
       "<table border=\"1\" class=\"dataframe\">\n",
       "  <thead>\n",
       "    <tr style=\"text-align: right;\">\n",
       "      <th></th>\n",
       "      <th>Name</th>\n",
       "      <th>Ovr</th>\n",
       "      <th>Def</th>\n",
       "      <th>Mid</th>\n",
       "      <th>Fwd</th>\n",
       "      <th>Phy</th>\n",
       "      <th>Spd</th>\n",
       "      <th>year</th>\n",
       "      <th>2015 power</th>\n",
       "    </tr>\n",
       "  </thead>\n",
       "  <tbody>\n",
       "    <tr>\n",
       "      <th>0</th>\n",
       "      <td>spain</td>\n",
       "      <td>85</td>\n",
       "      <td>85</td>\n",
       "      <td>86</td>\n",
       "      <td>84</td>\n",
       "      <td>79</td>\n",
       "      <td>76</td>\n",
       "      <td>2015</td>\n",
       "      <td>443.99</td>\n",
       "    </tr>\n",
       "    <tr>\n",
       "      <th>1</th>\n",
       "      <td>france</td>\n",
       "      <td>83</td>\n",
       "      <td>82</td>\n",
       "      <td>84</td>\n",
       "      <td>85</td>\n",
       "      <td>81</td>\n",
       "      <td>79</td>\n",
       "      <td>2015</td>\n",
       "      <td>657.68</td>\n",
       "    </tr>\n",
       "    <tr>\n",
       "      <th>2</th>\n",
       "      <td>germany</td>\n",
       "      <td>83</td>\n",
       "      <td>81</td>\n",
       "      <td>83</td>\n",
       "      <td>84</td>\n",
       "      <td>81</td>\n",
       "      <td>76</td>\n",
       "      <td>2015</td>\n",
       "      <td>1200.77</td>\n",
       "    </tr>\n",
       "    <tr>\n",
       "      <th>3</th>\n",
       "      <td>italy</td>\n",
       "      <td>83</td>\n",
       "      <td>80</td>\n",
       "      <td>83</td>\n",
       "      <td>82</td>\n",
       "      <td>81</td>\n",
       "      <td>77</td>\n",
       "      <td>2015</td>\n",
       "      <td>592.70</td>\n",
       "    </tr>\n",
       "    <tr>\n",
       "      <th>4</th>\n",
       "      <td>netherlands</td>\n",
       "      <td>82</td>\n",
       "      <td>80</td>\n",
       "      <td>81</td>\n",
       "      <td>85</td>\n",
       "      <td>80</td>\n",
       "      <td>78</td>\n",
       "      <td>2015</td>\n",
       "      <td>928.10</td>\n",
       "    </tr>\n",
       "  </tbody>\n",
       "</table>\n",
       "</div>"
      ],
      "text/plain": [
       "          Name  Ovr  Def  Mid  Fwd  Phy  Spd  year  2015 power\n",
       "0        spain   85   85   86   84   79   76  2015      443.99\n",
       "1       france   83   82   84   85   81   79  2015      657.68\n",
       "2      germany   83   81   83   84   81   76  2015     1200.77\n",
       "3        italy   83   80   83   82   81   77  2015      592.70\n",
       "4  netherlands   82   80   81   85   80   78  2015      928.10"
      ]
     },
     "execution_count": 22,
     "metadata": {},
     "output_type": "execute_result"
    }
   ],
   "source": [
    "National_team_2015.head()"
   ]
  },
  {
   "cell_type": "code",
   "execution_count": 23,
   "metadata": {
    "collapsed": true
   },
   "outputs": [],
   "source": [
    "National_team_2015.columns=['awayTeamName', 'Ovr_away', 'Def_away', 'Mid_away', 'Fwd_away', 'Phy_away', 'Spd_away', 'year_away', '2015 power_away']"
   ]
  },
  {
   "cell_type": "code",
   "execution_count": 24,
   "metadata": {
    "collapsed": true
   },
   "outputs": [],
   "source": [
    "df2015=df[df['year']=='2015']"
   ]
  },
  {
   "cell_type": "code",
   "execution_count": 25,
   "metadata": {},
   "outputs": [
    {
     "data": {
      "text/html": [
       "<div>\n",
       "<style>\n",
       "    .dataframe thead tr:only-child th {\n",
       "        text-align: right;\n",
       "    }\n",
       "\n",
       "    .dataframe thead th {\n",
       "        text-align: left;\n",
       "    }\n",
       "\n",
       "    .dataframe tbody tr th {\n",
       "        vertical-align: top;\n",
       "    }\n",
       "</style>\n",
       "<table border=\"1\" class=\"dataframe\">\n",
       "  <thead>\n",
       "    <tr style=\"text-align: right;\">\n",
       "      <th></th>\n",
       "      <th>gameId</th>\n",
       "      <th>HT_goals</th>\n",
       "      <th>competitionName</th>\n",
       "      <th>awayTeamName</th>\n",
       "      <th>homeTeamName</th>\n",
       "      <th>date</th>\n",
       "      <th>AT_goals</th>\n",
       "      <th>HT_id</th>\n",
       "      <th>competitionId</th>\n",
       "      <th>AT_id</th>\n",
       "      <th>year</th>\n",
       "    </tr>\n",
       "  </thead>\n",
       "  <tbody>\n",
       "    <tr>\n",
       "      <th>24449</th>\n",
       "      <td>705381</td>\n",
       "      <td>0</td>\n",
       "      <td>FA Trophy</td>\n",
       "      <td>dover</td>\n",
       "      <td>havant &amp; w</td>\n",
       "      <td>2015-01-10</td>\n",
       "      <td>1</td>\n",
       "      <td>3056</td>\n",
       "      <td>78.0</td>\n",
       "      <td>804</td>\n",
       "      <td>2015</td>\n",
       "    </tr>\n",
       "    <tr>\n",
       "      <th>24450</th>\n",
       "      <td>705382</td>\n",
       "      <td>2</td>\n",
       "      <td>FA Trophy</td>\n",
       "      <td>hyde</td>\n",
       "      <td>nth ferriby</td>\n",
       "      <td>2015-01-10</td>\n",
       "      <td>0</td>\n",
       "      <td>961</td>\n",
       "      <td>78.0</td>\n",
       "      <td>1332</td>\n",
       "      <td>2015</td>\n",
       "    </tr>\n",
       "    <tr>\n",
       "      <th>24451</th>\n",
       "      <td>705383</td>\n",
       "      <td>1</td>\n",
       "      <td>FA Trophy</td>\n",
       "      <td>forest green</td>\n",
       "      <td>ebbsfleet</td>\n",
       "      <td>2015-01-10</td>\n",
       "      <td>0</td>\n",
       "      <td>1149</td>\n",
       "      <td>78.0</td>\n",
       "      <td>1048</td>\n",
       "      <td>2015</td>\n",
       "    </tr>\n",
       "    <tr>\n",
       "      <th>24452</th>\n",
       "      <td>705384</td>\n",
       "      <td>0</td>\n",
       "      <td>FA Trophy</td>\n",
       "      <td>braintree</td>\n",
       "      <td>gosport bor</td>\n",
       "      <td>2015-01-10</td>\n",
       "      <td>2</td>\n",
       "      <td>1158</td>\n",
       "      <td>78.0</td>\n",
       "      <td>423</td>\n",
       "      <td>2015</td>\n",
       "    </tr>\n",
       "    <tr>\n",
       "      <th>24453</th>\n",
       "      <td>705385</td>\n",
       "      <td>5</td>\n",
       "      <td>FA Trophy</td>\n",
       "      <td>alfreton</td>\n",
       "      <td>halifax</td>\n",
       "      <td>2015-01-10</td>\n",
       "      <td>3</td>\n",
       "      <td>1186</td>\n",
       "      <td>78.0</td>\n",
       "      <td>94</td>\n",
       "      <td>2015</td>\n",
       "    </tr>\n",
       "  </tbody>\n",
       "</table>\n",
       "</div>"
      ],
      "text/plain": [
       "       gameId  HT_goals competitionName  awayTeamName homeTeamName  \\\n",
       "24449  705381         0       FA Trophy         dover   havant & w   \n",
       "24450  705382         2       FA Trophy          hyde  nth ferriby   \n",
       "24451  705383         1       FA Trophy  forest green    ebbsfleet   \n",
       "24452  705384         0       FA Trophy     braintree  gosport bor   \n",
       "24453  705385         5       FA Trophy      alfreton      halifax   \n",
       "\n",
       "             date  AT_goals  HT_id  competitionId  AT_id  year  \n",
       "24449  2015-01-10         1   3056           78.0    804  2015  \n",
       "24450  2015-01-10         0    961           78.0   1332  2015  \n",
       "24451  2015-01-10         0   1149           78.0   1048  2015  \n",
       "24452  2015-01-10         2   1158           78.0    423  2015  \n",
       "24453  2015-01-10         3   1186           78.0     94  2015  "
      ]
     },
     "execution_count": 25,
     "metadata": {},
     "output_type": "execute_result"
    }
   ],
   "source": [
    "df2015.head()"
   ]
  },
  {
   "cell_type": "code",
   "execution_count": 26,
   "metadata": {
    "collapsed": true
   },
   "outputs": [],
   "source": [
    "all_data_2015=pd.merge(df2015,National_team_2015,how='inner',on='awayTeamName')"
   ]
  },
  {
   "cell_type": "code",
   "execution_count": 27,
   "metadata": {},
   "outputs": [
    {
     "data": {
      "text/html": [
       "<div>\n",
       "<style>\n",
       "    .dataframe thead tr:only-child th {\n",
       "        text-align: right;\n",
       "    }\n",
       "\n",
       "    .dataframe thead th {\n",
       "        text-align: left;\n",
       "    }\n",
       "\n",
       "    .dataframe tbody tr th {\n",
       "        vertical-align: top;\n",
       "    }\n",
       "</style>\n",
       "<table border=\"1\" class=\"dataframe\">\n",
       "  <thead>\n",
       "    <tr style=\"text-align: right;\">\n",
       "      <th></th>\n",
       "      <th>gameId</th>\n",
       "      <th>HT_goals</th>\n",
       "      <th>competitionName</th>\n",
       "      <th>awayTeamName</th>\n",
       "      <th>homeTeamName</th>\n",
       "      <th>date</th>\n",
       "      <th>AT_goals</th>\n",
       "      <th>HT_id</th>\n",
       "      <th>competitionId</th>\n",
       "      <th>AT_id</th>\n",
       "      <th>year</th>\n",
       "      <th>Ovr_away</th>\n",
       "      <th>Def_away</th>\n",
       "      <th>Mid_away</th>\n",
       "      <th>Fwd_away</th>\n",
       "      <th>Phy_away</th>\n",
       "      <th>Spd_away</th>\n",
       "      <th>year_away</th>\n",
       "      <th>2015 power_away</th>\n",
       "    </tr>\n",
       "  </thead>\n",
       "  <tbody>\n",
       "    <tr>\n",
       "      <th>0</th>\n",
       "      <td>706067</td>\n",
       "      <td>1</td>\n",
       "      <td>International</td>\n",
       "      <td>algeria</td>\n",
       "      <td>tunisia</td>\n",
       "      <td>2015-01-11</td>\n",
       "      <td>1</td>\n",
       "      <td>2015</td>\n",
       "      <td>83.0</td>\n",
       "      <td>67</td>\n",
       "      <td>2015</td>\n",
       "      <td>74</td>\n",
       "      <td>74</td>\n",
       "      <td>74</td>\n",
       "      <td>77</td>\n",
       "      <td>78</td>\n",
       "      <td>74</td>\n",
       "      <td>2015</td>\n",
       "      <td>508.13</td>\n",
       "    </tr>\n",
       "    <tr>\n",
       "      <th>1</th>\n",
       "      <td>705159</td>\n",
       "      <td>1</td>\n",
       "      <td>Africa Cup Of Nations</td>\n",
       "      <td>algeria</td>\n",
       "      <td>ghana</td>\n",
       "      <td>2015-01-23</td>\n",
       "      <td>0</td>\n",
       "      <td>3116</td>\n",
       "      <td>98.0</td>\n",
       "      <td>67</td>\n",
       "      <td>2015</td>\n",
       "      <td>74</td>\n",
       "      <td>74</td>\n",
       "      <td>74</td>\n",
       "      <td>77</td>\n",
       "      <td>78</td>\n",
       "      <td>74</td>\n",
       "      <td>2015</td>\n",
       "      <td>508.13</td>\n",
       "    </tr>\n",
       "    <tr>\n",
       "      <th>2</th>\n",
       "      <td>705167</td>\n",
       "      <td>0</td>\n",
       "      <td>Africa Cup Of Nations</td>\n",
       "      <td>algeria</td>\n",
       "      <td>senegal</td>\n",
       "      <td>2015-01-27</td>\n",
       "      <td>2</td>\n",
       "      <td>3121</td>\n",
       "      <td>98.0</td>\n",
       "      <td>67</td>\n",
       "      <td>2015</td>\n",
       "      <td>74</td>\n",
       "      <td>74</td>\n",
       "      <td>74</td>\n",
       "      <td>77</td>\n",
       "      <td>78</td>\n",
       "      <td>74</td>\n",
       "      <td>2015</td>\n",
       "      <td>508.13</td>\n",
       "    </tr>\n",
       "    <tr>\n",
       "      <th>3</th>\n",
       "      <td>705244</td>\n",
       "      <td>3</td>\n",
       "      <td>Africa Cup Of Nations</td>\n",
       "      <td>algeria</td>\n",
       "      <td>ivory coast</td>\n",
       "      <td>2015-02-01</td>\n",
       "      <td>1</td>\n",
       "      <td>3115</td>\n",
       "      <td>98.0</td>\n",
       "      <td>67</td>\n",
       "      <td>2015</td>\n",
       "      <td>74</td>\n",
       "      <td>74</td>\n",
       "      <td>74</td>\n",
       "      <td>77</td>\n",
       "      <td>78</td>\n",
       "      <td>74</td>\n",
       "      <td>2015</td>\n",
       "      <td>508.13</td>\n",
       "    </tr>\n",
       "    <tr>\n",
       "      <th>4</th>\n",
       "      <td>707260</td>\n",
       "      <td>1</td>\n",
       "      <td>International</td>\n",
       "      <td>algeria</td>\n",
       "      <td>qatar</td>\n",
       "      <td>2015-03-26</td>\n",
       "      <td>0</td>\n",
       "      <td>3124</td>\n",
       "      <td>83.0</td>\n",
       "      <td>67</td>\n",
       "      <td>2015</td>\n",
       "      <td>74</td>\n",
       "      <td>74</td>\n",
       "      <td>74</td>\n",
       "      <td>77</td>\n",
       "      <td>78</td>\n",
       "      <td>74</td>\n",
       "      <td>2015</td>\n",
       "      <td>508.13</td>\n",
       "    </tr>\n",
       "  </tbody>\n",
       "</table>\n",
       "</div>"
      ],
      "text/plain": [
       "   gameId  HT_goals        competitionName awayTeamName homeTeamName  \\\n",
       "0  706067         1          International      algeria      tunisia   \n",
       "1  705159         1  Africa Cup Of Nations      algeria        ghana   \n",
       "2  705167         0  Africa Cup Of Nations      algeria      senegal   \n",
       "3  705244         3  Africa Cup Of Nations      algeria  ivory coast   \n",
       "4  707260         1          International      algeria        qatar   \n",
       "\n",
       "         date  AT_goals  HT_id  competitionId  AT_id  year  Ovr_away  \\\n",
       "0  2015-01-11         1   2015           83.0     67  2015        74   \n",
       "1  2015-01-23         0   3116           98.0     67  2015        74   \n",
       "2  2015-01-27         2   3121           98.0     67  2015        74   \n",
       "3  2015-02-01         1   3115           98.0     67  2015        74   \n",
       "4  2015-03-26         0   3124           83.0     67  2015        74   \n",
       "\n",
       "   Def_away  Mid_away  Fwd_away  Phy_away  Spd_away year_away  2015 power_away  \n",
       "0        74        74        77        78        74      2015           508.13  \n",
       "1        74        74        77        78        74      2015           508.13  \n",
       "2        74        74        77        78        74      2015           508.13  \n",
       "3        74        74        77        78        74      2015           508.13  \n",
       "4        74        74        77        78        74      2015           508.13  "
      ]
     },
     "execution_count": 27,
     "metadata": {},
     "output_type": "execute_result"
    }
   ],
   "source": [
    "all_data_2015.head()"
   ]
  },
  {
   "cell_type": "code",
   "execution_count": 28,
   "metadata": {},
   "outputs": [],
   "source": [
    "National_team_2015.columns=['homeTeamName', 'Ovr_home', 'Def_home', 'Mid_home', 'Fwd_home', 'Phy_home', 'Spd_home', 'year_home', '2015 power_home']"
   ]
  },
  {
   "cell_type": "code",
   "execution_count": 29,
   "metadata": {},
   "outputs": [],
   "source": [
    "all_data_2015=pd.merge(all_data_2015,National_team_2015,how='inner',on='homeTeamName')"
   ]
  },
  {
   "cell_type": "code",
   "execution_count": 30,
   "metadata": {},
   "outputs": [
    {
     "name": "stderr",
     "output_type": "stream",
     "text": [
      "C:\\Users\\lenovo\\Anaconda3\\lib\\site-packages\\ipykernel_launcher.py:8: SettingWithCopyWarning: \n",
      "A value is trying to be set on a copy of a slice from a DataFrame\n",
      "\n",
      "See the caveats in the documentation: http://pandas.pydata.org/pandas-docs/stable/indexing.html#indexing-view-versus-copy\n",
      "  \n",
      "C:\\Users\\lenovo\\Anaconda3\\lib\\site-packages\\ipykernel_launcher.py:6: SettingWithCopyWarning: \n",
      "A value is trying to be set on a copy of a slice from a DataFrame\n",
      "\n",
      "See the caveats in the documentation: http://pandas.pydata.org/pandas-docs/stable/indexing.html#indexing-view-versus-copy\n",
      "  \n",
      "C:\\Users\\lenovo\\Anaconda3\\lib\\site-packages\\ipykernel_launcher.py:10: SettingWithCopyWarning: \n",
      "A value is trying to be set on a copy of a slice from a DataFrame\n",
      "\n",
      "See the caveats in the documentation: http://pandas.pydata.org/pandas-docs/stable/indexing.html#indexing-view-versus-copy\n",
      "  # Remove the CWD from sys.path while we load stuff.\n"
     ]
    }
   ],
   "source": [
    "all_data_2015['HT_goals']=all_data_2015['HT_goals'].apply(lambda team: int(team))\n",
    "all_data_2015['AT_goals']=all_data_2015['AT_goals'].apply(lambda team: int(team))\n",
    "all_data_2015['result']=4\n",
    "for i in range(all_data_2015.shape[0]):\n",
    "    if all_data_2015['HT_goals'][i]>all_data_2015['AT_goals'][i]:\n",
    "        all_data_2015['result'][i]=1\n",
    "    if all_data_2015['HT_goals'][i]==all_data_2015['AT_goals'][i]:\n",
    "        all_data_2015['result'][i]=0\n",
    "    if all_data_2015['HT_goals'][i]<all_data_2015['AT_goals'][i]:\n",
    "        all_data_2015['result'][i]=2"
   ]
  },
  {
   "cell_type": "code",
   "execution_count": 31,
   "metadata": {},
   "outputs": [
    {
     "name": "stderr",
     "output_type": "stream",
     "text": [
      "C:\\Users\\lenovo\\Anaconda3\\lib\\site-packages\\ipykernel_launcher.py:10: SettingWithCopyWarning: \n",
      "A value is trying to be set on a copy of a slice from a DataFrame\n",
      "\n",
      "See the caveats in the documentation: http://pandas.pydata.org/pandas-docs/stable/indexing.html#indexing-view-versus-copy\n",
      "  # Remove the CWD from sys.path while we load stuff.\n",
      "C:\\Users\\lenovo\\Anaconda3\\lib\\site-packages\\ipykernel_launcher.py:11: SettingWithCopyWarning: \n",
      "A value is trying to be set on a copy of a slice from a DataFrame\n",
      "\n",
      "See the caveats in the documentation: http://pandas.pydata.org/pandas-docs/stable/indexing.html#indexing-view-versus-copy\n",
      "  # This is added back by InteractiveShellApp.init_path()\n",
      "C:\\Users\\lenovo\\Anaconda3\\lib\\site-packages\\ipykernel_launcher.py:12: SettingWithCopyWarning: \n",
      "A value is trying to be set on a copy of a slice from a DataFrame\n",
      "\n",
      "See the caveats in the documentation: http://pandas.pydata.org/pandas-docs/stable/indexing.html#indexing-view-versus-copy\n",
      "  if sys.path[0] == '':\n",
      "C:\\Users\\lenovo\\Anaconda3\\lib\\site-packages\\ipykernel_launcher.py:13: SettingWithCopyWarning: \n",
      "A value is trying to be set on a copy of a slice from a DataFrame\n",
      "\n",
      "See the caveats in the documentation: http://pandas.pydata.org/pandas-docs/stable/indexing.html#indexing-view-versus-copy\n",
      "  del sys.path[0]\n",
      "C:\\Users\\lenovo\\Anaconda3\\lib\\site-packages\\ipykernel_launcher.py:14: SettingWithCopyWarning: \n",
      "A value is trying to be set on a copy of a slice from a DataFrame\n",
      "\n",
      "See the caveats in the documentation: http://pandas.pydata.org/pandas-docs/stable/indexing.html#indexing-view-versus-copy\n",
      "  \n",
      "C:\\Users\\lenovo\\Anaconda3\\lib\\site-packages\\ipykernel_launcher.py:15: SettingWithCopyWarning: \n",
      "A value is trying to be set on a copy of a slice from a DataFrame\n",
      "\n",
      "See the caveats in the documentation: http://pandas.pydata.org/pandas-docs/stable/indexing.html#indexing-view-versus-copy\n",
      "  from ipykernel import kernelapp as app\n",
      "C:\\Users\\lenovo\\Anaconda3\\lib\\site-packages\\ipykernel_launcher.py:16: SettingWithCopyWarning: \n",
      "A value is trying to be set on a copy of a slice from a DataFrame\n",
      "\n",
      "See the caveats in the documentation: http://pandas.pydata.org/pandas-docs/stable/indexing.html#indexing-view-versus-copy\n",
      "  app.launch_new_instance()\n"
     ]
    }
   ],
   "source": [
    "all_data_2015['Ovr_ratio']=0.0\n",
    "all_data_2015['Def_ratio']=0.0\n",
    "all_data_2015['Mid_ratio']=0.0\n",
    "all_data_2015['Fwd_ratio']=0.0\n",
    "all_data_2015['Phy_ratio']=0.0\n",
    "all_data_2015['Spd_ratio']=0.0\n",
    "all_data_2015['2015 power_ratio']=0.0\n",
    "for i in range(all_data_2015.shape[0]):\n",
    "\n",
    "    all_data_2015['Ovr_ratio'][i]=all_data_2015['Ovr_home'][i]/all_data_2015['Ovr_away'][i]\n",
    "    all_data_2015['Def_ratio'][i]=all_data_2015['Def_home'][i]/all_data_2015['Def_away'][i]\n",
    "    all_data_2015['Mid_ratio'][i]=all_data_2015['Mid_home'][i]/all_data_2015['Mid_away'][i]\n",
    "    all_data_2015['Fwd_ratio'][i]=all_data_2015['Fwd_home'][i]/all_data_2015['Fwd_away'][i]\n",
    "    all_data_2015['Phy_ratio'][i]=all_data_2015['Phy_home'][i]/all_data_2015['Phy_away'][i]\n",
    "    all_data_2015['Spd_ratio'][i]=all_data_2015['Spd_home'][i]/all_data_2015['Spd_away'][i]\n",
    "    all_data_2015['2015 power_ratio'][i]=all_data_2015['2015 power_home'][i]/all_data_2015['2015 power_away'][i]\n"
   ]
  },
  {
   "cell_type": "code",
   "execution_count": 32,
   "metadata": {
    "collapsed": true
   },
   "outputs": [],
   "source": [
    "all_data_2015.drop(['Ovr_away','Def_away','Mid_away','Fwd_away','Phy_away','Spd_away','2015 power_away','2015 power_home','Spd_home','Phy_home','Fwd_home','Mid_home','Def_home','Ovr_home','competitionName','year_away','year_home','AT_goals','AT_id','HT_goals','HT_id','awayTeamName','competitionId','date' ,'gameId','homeTeamName'],axis=1,inplace=True)"
   ]
  },
  {
   "cell_type": "code",
   "execution_count": 33,
   "metadata": {},
   "outputs": [
    {
     "data": {
      "text/html": [
       "<div>\n",
       "<style>\n",
       "    .dataframe thead tr:only-child th {\n",
       "        text-align: right;\n",
       "    }\n",
       "\n",
       "    .dataframe thead th {\n",
       "        text-align: left;\n",
       "    }\n",
       "\n",
       "    .dataframe tbody tr th {\n",
       "        vertical-align: top;\n",
       "    }\n",
       "</style>\n",
       "<table border=\"1\" class=\"dataframe\">\n",
       "  <thead>\n",
       "    <tr style=\"text-align: right;\">\n",
       "      <th></th>\n",
       "      <th>year</th>\n",
       "      <th>result</th>\n",
       "      <th>Ovr_ratio</th>\n",
       "      <th>Def_ratio</th>\n",
       "      <th>Mid_ratio</th>\n",
       "      <th>Fwd_ratio</th>\n",
       "      <th>Phy_ratio</th>\n",
       "      <th>Spd_ratio</th>\n",
       "      <th>2015 power_ratio</th>\n",
       "    </tr>\n",
       "  </thead>\n",
       "  <tbody>\n",
       "    <tr>\n",
       "      <th>0</th>\n",
       "      <td>2015</td>\n",
       "      <td>0</td>\n",
       "      <td>0.918919</td>\n",
       "      <td>0.918919</td>\n",
       "      <td>0.891892</td>\n",
       "      <td>0.922078</td>\n",
       "      <td>0.935897</td>\n",
       "      <td>1.000000</td>\n",
       "      <td>0.970992</td>\n",
       "    </tr>\n",
       "    <tr>\n",
       "      <th>1</th>\n",
       "      <td>2015</td>\n",
       "      <td>1</td>\n",
       "      <td>1.027027</td>\n",
       "      <td>1.000000</td>\n",
       "      <td>1.040541</td>\n",
       "      <td>1.025974</td>\n",
       "      <td>1.025641</td>\n",
       "      <td>1.067568</td>\n",
       "      <td>0.911479</td>\n",
       "    </tr>\n",
       "    <tr>\n",
       "      <th>2</th>\n",
       "      <td>2015</td>\n",
       "      <td>1</td>\n",
       "      <td>1.169231</td>\n",
       "      <td>1.121212</td>\n",
       "      <td>1.222222</td>\n",
       "      <td>1.128571</td>\n",
       "      <td>1.052632</td>\n",
       "      <td>1.082192</td>\n",
       "      <td>1.162292</td>\n",
       "    </tr>\n",
       "    <tr>\n",
       "      <th>3</th>\n",
       "      <td>2015</td>\n",
       "      <td>2</td>\n",
       "      <td>1.027027</td>\n",
       "      <td>0.973684</td>\n",
       "      <td>1.069444</td>\n",
       "      <td>1.012821</td>\n",
       "      <td>1.025641</td>\n",
       "      <td>1.039474</td>\n",
       "      <td>0.791804</td>\n",
       "    </tr>\n",
       "    <tr>\n",
       "      <th>4</th>\n",
       "      <td>2015</td>\n",
       "      <td>2</td>\n",
       "      <td>1.027027</td>\n",
       "      <td>0.973684</td>\n",
       "      <td>1.069444</td>\n",
       "      <td>1.012821</td>\n",
       "      <td>1.025641</td>\n",
       "      <td>1.039474</td>\n",
       "      <td>0.791804</td>\n",
       "    </tr>\n",
       "  </tbody>\n",
       "</table>\n",
       "</div>"
      ],
      "text/plain": [
       "   year  result  Ovr_ratio  Def_ratio  Mid_ratio  Fwd_ratio  Phy_ratio  \\\n",
       "0  2015       0   0.918919   0.918919   0.891892   0.922078   0.935897   \n",
       "1  2015       1   1.027027   1.000000   1.040541   1.025974   1.025641   \n",
       "2  2015       1   1.169231   1.121212   1.222222   1.128571   1.052632   \n",
       "3  2015       2   1.027027   0.973684   1.069444   1.012821   1.025641   \n",
       "4  2015       2   1.027027   0.973684   1.069444   1.012821   1.025641   \n",
       "\n",
       "   Spd_ratio  2015 power_ratio  \n",
       "0   1.000000          0.970992  \n",
       "1   1.067568          0.911479  \n",
       "2   1.082192          1.162292  \n",
       "3   1.039474          0.791804  \n",
       "4   1.039474          0.791804  "
      ]
     },
     "execution_count": 33,
     "metadata": {},
     "output_type": "execute_result"
    }
   ],
   "source": [
    "all_data_2015.head()"
   ]
  },
  {
   "cell_type": "code",
   "execution_count": 34,
   "metadata": {
    "collapsed": true
   },
   "outputs": [],
   "source": [
    "from sklearn.linear_model import LogisticRegression\n",
    "X_train=all_data_2015.drop(['year','result'],axis=1)\n",
    "y_train=all_data_2015['result']\n",
    "\n",
    "logmodel = LogisticRegression()\n"
   ]
  },
  {
   "cell_type": "code",
   "execution_count": 35,
   "metadata": {},
   "outputs": [
    {
     "name": "stdout",
     "output_type": "stream",
     "text": [
      "<class 'pandas.core.frame.DataFrame'>\n",
      "Int64Index: 222 entries, 0 to 221\n",
      "Data columns (total 9 columns):\n",
      "year                222 non-null object\n",
      "result              222 non-null int64\n",
      "Ovr_ratio           222 non-null float64\n",
      "Def_ratio           222 non-null float64\n",
      "Mid_ratio           222 non-null float64\n",
      "Fwd_ratio           222 non-null float64\n",
      "Phy_ratio           222 non-null float64\n",
      "Spd_ratio           222 non-null float64\n",
      "2015 power_ratio    222 non-null float64\n",
      "dtypes: float64(7), int64(1), object(1)\n",
      "memory usage: 27.3+ KB\n"
     ]
    }
   ],
   "source": [
    "all_data_2015.info()"
   ]
  },
  {
   "cell_type": "code",
   "execution_count": 36,
   "metadata": {},
   "outputs": [
    {
     "data": {
      "text/plain": [
       "LogisticRegression(C=1.0, class_weight=None, dual=False, fit_intercept=True,\n",
       "          intercept_scaling=1, max_iter=100, multi_class='ovr', n_jobs=1,\n",
       "          penalty='l2', random_state=None, solver='liblinear', tol=0.0001,\n",
       "          verbose=0, warm_start=False)"
      ]
     },
     "execution_count": 36,
     "metadata": {},
     "output_type": "execute_result"
    }
   ],
   "source": [
    "logmodel.fit(X_train,y_train)"
   ]
  },
  {
   "cell_type": "code",
   "execution_count": 37,
   "metadata": {},
   "outputs": [
    {
     "data": {
      "text/html": [
       "<div>\n",
       "<style>\n",
       "    .dataframe thead tr:only-child th {\n",
       "        text-align: right;\n",
       "    }\n",
       "\n",
       "    .dataframe thead th {\n",
       "        text-align: left;\n",
       "    }\n",
       "\n",
       "    .dataframe tbody tr th {\n",
       "        vertical-align: top;\n",
       "    }\n",
       "</style>\n",
       "<table border=\"1\" class=\"dataframe\">\n",
       "  <thead>\n",
       "    <tr style=\"text-align: right;\">\n",
       "      <th></th>\n",
       "      <th>Ovr_ratio</th>\n",
       "      <th>Def_ratio</th>\n",
       "      <th>Mid_ratio</th>\n",
       "      <th>Fwd_ratio</th>\n",
       "      <th>Phy_ratio</th>\n",
       "      <th>Spd_ratio</th>\n",
       "      <th>2015 power_ratio</th>\n",
       "    </tr>\n",
       "  </thead>\n",
       "  <tbody>\n",
       "    <tr>\n",
       "      <th>0</th>\n",
       "      <td>0.918919</td>\n",
       "      <td>0.918919</td>\n",
       "      <td>0.891892</td>\n",
       "      <td>0.922078</td>\n",
       "      <td>0.935897</td>\n",
       "      <td>1.000000</td>\n",
       "      <td>0.970992</td>\n",
       "    </tr>\n",
       "    <tr>\n",
       "      <th>1</th>\n",
       "      <td>1.027027</td>\n",
       "      <td>1.000000</td>\n",
       "      <td>1.040541</td>\n",
       "      <td>1.025974</td>\n",
       "      <td>1.025641</td>\n",
       "      <td>1.067568</td>\n",
       "      <td>0.911479</td>\n",
       "    </tr>\n",
       "    <tr>\n",
       "      <th>2</th>\n",
       "      <td>1.169231</td>\n",
       "      <td>1.121212</td>\n",
       "      <td>1.222222</td>\n",
       "      <td>1.128571</td>\n",
       "      <td>1.052632</td>\n",
       "      <td>1.082192</td>\n",
       "      <td>1.162292</td>\n",
       "    </tr>\n",
       "    <tr>\n",
       "      <th>3</th>\n",
       "      <td>1.027027</td>\n",
       "      <td>0.973684</td>\n",
       "      <td>1.069444</td>\n",
       "      <td>1.012821</td>\n",
       "      <td>1.025641</td>\n",
       "      <td>1.039474</td>\n",
       "      <td>0.791804</td>\n",
       "    </tr>\n",
       "    <tr>\n",
       "      <th>4</th>\n",
       "      <td>1.027027</td>\n",
       "      <td>0.973684</td>\n",
       "      <td>1.069444</td>\n",
       "      <td>1.012821</td>\n",
       "      <td>1.025641</td>\n",
       "      <td>1.039474</td>\n",
       "      <td>0.791804</td>\n",
       "    </tr>\n",
       "  </tbody>\n",
       "</table>\n",
       "</div>"
      ],
      "text/plain": [
       "   Ovr_ratio  Def_ratio  Mid_ratio  Fwd_ratio  Phy_ratio  Spd_ratio  \\\n",
       "0   0.918919   0.918919   0.891892   0.922078   0.935897   1.000000   \n",
       "1   1.027027   1.000000   1.040541   1.025974   1.025641   1.067568   \n",
       "2   1.169231   1.121212   1.222222   1.128571   1.052632   1.082192   \n",
       "3   1.027027   0.973684   1.069444   1.012821   1.025641   1.039474   \n",
       "4   1.027027   0.973684   1.069444   1.012821   1.025641   1.039474   \n",
       "\n",
       "   2015 power_ratio  \n",
       "0          0.970992  \n",
       "1          0.911479  \n",
       "2          1.162292  \n",
       "3          0.791804  \n",
       "4          0.791804  "
      ]
     },
     "execution_count": 37,
     "metadata": {},
     "output_type": "execute_result"
    }
   ],
   "source": [
    "X_train.head()"
   ]
  },
  {
   "cell_type": "code",
   "execution_count": 38,
   "metadata": {},
   "outputs": [],
   "source": [
    "result=pd.read_csv('../submission_template.csv')"
   ]
  },
  {
   "cell_type": "code",
   "execution_count": 39,
   "metadata": {
    "collapsed": true
   },
   "outputs": [],
   "source": [
    "result['gameName']=result['gameName'].apply(lambda team: team.lower())"
   ]
  },
  {
   "cell_type": "code",
   "execution_count": 40,
   "metadata": {
    "collapsed": true
   },
   "outputs": [],
   "source": [
    "def result_home(str):\n",
    "    result=''\n",
    "    s=str\n",
    "    z='saudi arabia'\n",
    "    a=s.find('saudi-arabia')\n",
    "    b=s.find('costa-rica')\n",
    "    c=s.find('south-korea')\n",
    "\n",
    "    if(a==0):\n",
    "        return 'saudi arabia'\n",
    "    if(b==0):\n",
    "        return 'costa rica'\n",
    "    if(c==0):\n",
    "        return 'republic of korea'\n",
    "    else:\n",
    "        f=s.split('-')[0]\n",
    "        return f"
   ]
  },
  {
   "cell_type": "code",
   "execution_count": 41,
   "metadata": {
    "collapsed": true
   },
   "outputs": [],
   "source": [
    "result['homeTeamName']=result['gameName'].apply(lambda team: result_home(team))"
   ]
  },
  {
   "cell_type": "code",
   "execution_count": 42,
   "metadata": {},
   "outputs": [
    {
     "data": {
      "text/html": [
       "<div>\n",
       "<style>\n",
       "    .dataframe thead tr:only-child th {\n",
       "        text-align: right;\n",
       "    }\n",
       "\n",
       "    .dataframe thead th {\n",
       "        text-align: left;\n",
       "    }\n",
       "\n",
       "    .dataframe tbody tr th {\n",
       "        vertical-align: top;\n",
       "    }\n",
       "</style>\n",
       "<table border=\"1\" class=\"dataframe\">\n",
       "  <thead>\n",
       "    <tr style=\"text-align: right;\">\n",
       "      <th></th>\n",
       "      <th>gameId</th>\n",
       "      <th>gameDate</th>\n",
       "      <th>homeTeamId</th>\n",
       "      <th>awayTeamId</th>\n",
       "      <th>gameName</th>\n",
       "      <th>p1</th>\n",
       "      <th>px</th>\n",
       "      <th>p2</th>\n",
       "      <th>homeTeamName</th>\n",
       "    </tr>\n",
       "  </thead>\n",
       "  <tbody>\n",
       "    <tr>\n",
       "      <th>0</th>\n",
       "      <td>1249942</td>\n",
       "      <td>2018-06-14 16:00:00</td>\n",
       "      <td>326</td>\n",
       "      <td>494</td>\n",
       "      <td>russia-saudi-arabia</td>\n",
       "      <td>NaN</td>\n",
       "      <td>NaN</td>\n",
       "      <td>NaN</td>\n",
       "      <td>russia</td>\n",
       "    </tr>\n",
       "    <tr>\n",
       "      <th>1</th>\n",
       "      <td>1249926</td>\n",
       "      <td>2018-06-15 13:00:00</td>\n",
       "      <td>944</td>\n",
       "      <td>967</td>\n",
       "      <td>egypt-uruguay</td>\n",
       "      <td>NaN</td>\n",
       "      <td>NaN</td>\n",
       "      <td>NaN</td>\n",
       "      <td>egypt</td>\n",
       "    </tr>\n",
       "    <tr>\n",
       "      <th>2</th>\n",
       "      <td>1249948</td>\n",
       "      <td>2018-06-15 16:00:00</td>\n",
       "      <td>495</td>\n",
       "      <td>1293</td>\n",
       "      <td>morocco-iran</td>\n",
       "      <td>NaN</td>\n",
       "      <td>NaN</td>\n",
       "      <td>NaN</td>\n",
       "      <td>morocco</td>\n",
       "    </tr>\n",
       "    <tr>\n",
       "      <th>3</th>\n",
       "      <td>1249919</td>\n",
       "      <td>2018-06-15 19:00:00</td>\n",
       "      <td>340</td>\n",
       "      <td>338</td>\n",
       "      <td>portugal-spain</td>\n",
       "      <td>NaN</td>\n",
       "      <td>NaN</td>\n",
       "      <td>NaN</td>\n",
       "      <td>portugal</td>\n",
       "    </tr>\n",
       "    <tr>\n",
       "      <th>4</th>\n",
       "      <td>1249951</td>\n",
       "      <td>2018-06-16 11:00:00</td>\n",
       "      <td>341</td>\n",
       "      <td>328</td>\n",
       "      <td>france-australia</td>\n",
       "      <td>NaN</td>\n",
       "      <td>NaN</td>\n",
       "      <td>NaN</td>\n",
       "      <td>france</td>\n",
       "    </tr>\n",
       "  </tbody>\n",
       "</table>\n",
       "</div>"
      ],
      "text/plain": [
       "    gameId             gameDate  homeTeamId  awayTeamId             gameName  \\\n",
       "0  1249942  2018-06-14 16:00:00         326         494  russia-saudi-arabia   \n",
       "1  1249926  2018-06-15 13:00:00         944         967        egypt-uruguay   \n",
       "2  1249948  2018-06-15 16:00:00         495        1293         morocco-iran   \n",
       "3  1249919  2018-06-15 19:00:00         340         338       portugal-spain   \n",
       "4  1249951  2018-06-16 11:00:00         341         328     france-australia   \n",
       "\n",
       "   p1  px  p2 homeTeamName  \n",
       "0 NaN NaN NaN       russia  \n",
       "1 NaN NaN NaN        egypt  \n",
       "2 NaN NaN NaN      morocco  \n",
       "3 NaN NaN NaN     portugal  \n",
       "4 NaN NaN NaN       france  "
      ]
     },
     "execution_count": 42,
     "metadata": {},
     "output_type": "execute_result"
    }
   ],
   "source": [
    "result.head()"
   ]
  },
  {
   "cell_type": "code",
   "execution_count": 43,
   "metadata": {
    "collapsed": true
   },
   "outputs": [],
   "source": [
    "def result_away(str):\n",
    "    result=''\n",
    "    s=str\n",
    "    z='saudi arabia'\n",
    "    a=s.find('saudi-arabia')\n",
    "    b=s.find('costa-rica')\n",
    "    c=s.find('south-korea')\n",
    "\n",
    "    if(a>0):\n",
    "        return 'saudi arabia'\n",
    "    if(b>0):\n",
    "        return 'costa rica'\n",
    "    if(c>0):\n",
    "        return 'republic of korea'\n",
    "    if(len(s.split('-'))==3):\n",
    "        f=s.split('-')[2]\n",
    "        return f\n",
    "        \n",
    "    f=s.split('-')[1]\n",
    "    return f"
   ]
  },
  {
   "cell_type": "code",
   "execution_count": 44,
   "metadata": {
    "collapsed": true
   },
   "outputs": [],
   "source": [
    "result['awayTeamName']=result['gameName'].apply(lambda team: result_away(team))"
   ]
  },
  {
   "cell_type": "code",
   "execution_count": 45,
   "metadata": {},
   "outputs": [
    {
     "name": "stderr",
     "output_type": "stream",
     "text": [
      "C:\\Users\\lenovo\\Anaconda3\\lib\\site-packages\\pandas\\core\\indexing.py:179: SettingWithCopyWarning: \n",
      "A value is trying to be set on a copy of a slice from a DataFrame\n",
      "\n",
      "See the caveats in the documentation: http://pandas.pydata.org/pandas-docs/stable/indexing.html#indexing-view-versus-copy\n",
      "  self._setitem_with_indexer(indexer, value)\n"
     ]
    }
   ],
   "source": [
    "National_team_2015['homeTeamName'].loc[National_team_2015['homeTeamName']=='south korea']='republic of korea'\n",
    "\n"
   ]
  },
  {
   "cell_type": "code",
   "execution_count": 46,
   "metadata": {
    "collapsed": true
   },
   "outputs": [],
   "source": [
    "National_team_2015.columns=['homeTeamName', 'Ovr_home', 'Def_home', 'Mid_home', 'Fwd_home','Phy_home', 'Spd_home', 'year_home', '2015 power_home']"
   ]
  },
  {
   "cell_type": "code",
   "execution_count": 47,
   "metadata": {},
   "outputs": [
    {
     "data": {
      "text/html": [
       "<div>\n",
       "<style>\n",
       "    .dataframe thead tr:only-child th {\n",
       "        text-align: right;\n",
       "    }\n",
       "\n",
       "    .dataframe thead th {\n",
       "        text-align: left;\n",
       "    }\n",
       "\n",
       "    .dataframe tbody tr th {\n",
       "        vertical-align: top;\n",
       "    }\n",
       "</style>\n",
       "<table border=\"1\" class=\"dataframe\">\n",
       "  <thead>\n",
       "    <tr style=\"text-align: right;\">\n",
       "      <th></th>\n",
       "      <th>Name</th>\n",
       "      <th>Ovr</th>\n",
       "      <th>Def</th>\n",
       "      <th>Mid</th>\n",
       "      <th>Fwd</th>\n",
       "      <th>Phy</th>\n",
       "      <th>Spd</th>\n",
       "      <th>year</th>\n",
       "    </tr>\n",
       "  </thead>\n",
       "  <tbody>\n",
       "    <tr>\n",
       "      <th>0</th>\n",
       "      <td>Australia</td>\n",
       "      <td>75</td>\n",
       "      <td>75</td>\n",
       "      <td>77</td>\n",
       "      <td>71</td>\n",
       "      <td>78</td>\n",
       "      <td>76</td>\n",
       "      <td>2015</td>\n",
       "    </tr>\n",
       "    <tr>\n",
       "      <th>1</th>\n",
       "      <td>Japan</td>\n",
       "      <td>75</td>\n",
       "      <td>74</td>\n",
       "      <td>77</td>\n",
       "      <td>76</td>\n",
       "      <td>74</td>\n",
       "      <td>73</td>\n",
       "      <td>2015</td>\n",
       "    </tr>\n",
       "    <tr>\n",
       "      <th>2</th>\n",
       "      <td>South Korea</td>\n",
       "      <td>72</td>\n",
       "      <td>70</td>\n",
       "      <td>73</td>\n",
       "      <td>76</td>\n",
       "      <td>76</td>\n",
       "      <td>74</td>\n",
       "      <td>2015</td>\n",
       "    </tr>\n",
       "    <tr>\n",
       "      <th>3</th>\n",
       "      <td>Uzbekistan</td>\n",
       "      <td>72</td>\n",
       "      <td>72</td>\n",
       "      <td>72</td>\n",
       "      <td>71</td>\n",
       "      <td>76</td>\n",
       "      <td>74</td>\n",
       "      <td>2015</td>\n",
       "    </tr>\n",
       "    <tr>\n",
       "      <th>4</th>\n",
       "      <td>China</td>\n",
       "      <td>71</td>\n",
       "      <td>74</td>\n",
       "      <td>70</td>\n",
       "      <td>68</td>\n",
       "      <td>76</td>\n",
       "      <td>73</td>\n",
       "      <td>2015</td>\n",
       "    </tr>\n",
       "  </tbody>\n",
       "</table>\n",
       "</div>"
      ],
      "text/plain": [
       "          Name  Ovr  Def  Mid  Fwd  Phy  Spd  year\n",
       "0    Australia   75   75   77   71   78   76  2015\n",
       "1        Japan   75   74   77   76   74   73  2015\n",
       "2  South Korea   72   70   73   76   76   74  2015\n",
       "3   Uzbekistan   72   72   72   71   76   74  2015\n",
       "4        China   71   74   70   68   76   73  2015"
      ]
     },
     "execution_count": 47,
     "metadata": {},
     "output_type": "execute_result"
    }
   ],
   "source": [
    "National_asia.head()"
   ]
  },
  {
   "cell_type": "code",
   "execution_count": 48,
   "metadata": {
    "collapsed": true
   },
   "outputs": [],
   "source": [
    "result_2015=pd.merge(result,National_team_2015,how='inner',on='homeTeamName')"
   ]
  },
  {
   "cell_type": "code",
   "execution_count": 49,
   "metadata": {
    "collapsed": true
   },
   "outputs": [],
   "source": [
    "National_team_2015.columns=['awayTeamName', 'Ovr_away', 'Def_away', 'Mid_away', 'Fwd_away', 'Phy_away', 'Spd_away', 'year_away', '2015 power_away']"
   ]
  },
  {
   "cell_type": "code",
   "execution_count": 50,
   "metadata": {
    "collapsed": true
   },
   "outputs": [],
   "source": [
    "result_2015=pd.merge(result_2015,National_team_2015,how='inner',on='awayTeamName')\n"
   ]
  },
  {
   "cell_type": "code",
   "execution_count": 51,
   "metadata": {},
   "outputs": [
    {
     "data": {
      "text/html": [
       "<div>\n",
       "<style>\n",
       "    .dataframe thead tr:only-child th {\n",
       "        text-align: right;\n",
       "    }\n",
       "\n",
       "    .dataframe thead th {\n",
       "        text-align: left;\n",
       "    }\n",
       "\n",
       "    .dataframe tbody tr th {\n",
       "        vertical-align: top;\n",
       "    }\n",
       "</style>\n",
       "<table border=\"1\" class=\"dataframe\">\n",
       "  <thead>\n",
       "    <tr style=\"text-align: right;\">\n",
       "      <th></th>\n",
       "      <th>gameId</th>\n",
       "      <th>gameDate</th>\n",
       "      <th>homeTeamId</th>\n",
       "      <th>awayTeamId</th>\n",
       "      <th>gameName</th>\n",
       "      <th>p1</th>\n",
       "      <th>px</th>\n",
       "      <th>p2</th>\n",
       "      <th>homeTeamName</th>\n",
       "      <th>awayTeamName</th>\n",
       "      <th>...</th>\n",
       "      <th>year_home</th>\n",
       "      <th>2015 power_home</th>\n",
       "      <th>Ovr_away</th>\n",
       "      <th>Def_away</th>\n",
       "      <th>Mid_away</th>\n",
       "      <th>Fwd_away</th>\n",
       "      <th>Phy_away</th>\n",
       "      <th>Spd_away</th>\n",
       "      <th>year_away</th>\n",
       "      <th>2015 power_away</th>\n",
       "    </tr>\n",
       "  </thead>\n",
       "  <tbody>\n",
       "    <tr>\n",
       "      <th>0</th>\n",
       "      <td>1249942</td>\n",
       "      <td>2018-06-14 16:00:00</td>\n",
       "      <td>326</td>\n",
       "      <td>494</td>\n",
       "      <td>russia-saudi-arabia</td>\n",
       "      <td>NaN</td>\n",
       "      <td>NaN</td>\n",
       "      <td>NaN</td>\n",
       "      <td>russia</td>\n",
       "      <td>saudi arabia</td>\n",
       "      <td>...</td>\n",
       "      <td>2015</td>\n",
       "      <td>368.5</td>\n",
       "      <td>70</td>\n",
       "      <td>70</td>\n",
       "      <td>71</td>\n",
       "      <td>71</td>\n",
       "      <td>76</td>\n",
       "      <td>73</td>\n",
       "      <td>2015</td>\n",
       "      <td>135.09</td>\n",
       "    </tr>\n",
       "  </tbody>\n",
       "</table>\n",
       "<p>1 rows × 26 columns</p>\n",
       "</div>"
      ],
      "text/plain": [
       "    gameId             gameDate  homeTeamId  awayTeamId             gameName  \\\n",
       "0  1249942  2018-06-14 16:00:00         326         494  russia-saudi-arabia   \n",
       "\n",
       "   p1  px  p2 homeTeamName  awayTeamName       ...         year_home  \\\n",
       "0 NaN NaN NaN       russia  saudi arabia       ...              2015   \n",
       "\n",
       "   2015 power_home  Ovr_away  Def_away  Mid_away  Fwd_away Phy_away  Spd_away  \\\n",
       "0            368.5        70        70        71        71       76        73   \n",
       "\n",
       "   year_away  2015 power_away  \n",
       "0       2015           135.09  \n",
       "\n",
       "[1 rows x 26 columns]"
      ]
     },
     "execution_count": 51,
     "metadata": {},
     "output_type": "execute_result"
    }
   ],
   "source": [
    "result_2015.head(1)\n",
    " "
   ]
  },
  {
   "cell_type": "code",
   "execution_count": 52,
   "metadata": {},
   "outputs": [
    {
     "name": "stderr",
     "output_type": "stream",
     "text": [
      "C:\\Users\\lenovo\\Anaconda3\\lib\\site-packages\\ipykernel_launcher.py:10: SettingWithCopyWarning: \n",
      "A value is trying to be set on a copy of a slice from a DataFrame\n",
      "\n",
      "See the caveats in the documentation: http://pandas.pydata.org/pandas-docs/stable/indexing.html#indexing-view-versus-copy\n",
      "  # Remove the CWD from sys.path while we load stuff.\n",
      "C:\\Users\\lenovo\\Anaconda3\\lib\\site-packages\\ipykernel_launcher.py:11: SettingWithCopyWarning: \n",
      "A value is trying to be set on a copy of a slice from a DataFrame\n",
      "\n",
      "See the caveats in the documentation: http://pandas.pydata.org/pandas-docs/stable/indexing.html#indexing-view-versus-copy\n",
      "  # This is added back by InteractiveShellApp.init_path()\n",
      "C:\\Users\\lenovo\\Anaconda3\\lib\\site-packages\\ipykernel_launcher.py:12: SettingWithCopyWarning: \n",
      "A value is trying to be set on a copy of a slice from a DataFrame\n",
      "\n",
      "See the caveats in the documentation: http://pandas.pydata.org/pandas-docs/stable/indexing.html#indexing-view-versus-copy\n",
      "  if sys.path[0] == '':\n",
      "C:\\Users\\lenovo\\Anaconda3\\lib\\site-packages\\ipykernel_launcher.py:13: SettingWithCopyWarning: \n",
      "A value is trying to be set on a copy of a slice from a DataFrame\n",
      "\n",
      "See the caveats in the documentation: http://pandas.pydata.org/pandas-docs/stable/indexing.html#indexing-view-versus-copy\n",
      "  del sys.path[0]\n",
      "C:\\Users\\lenovo\\Anaconda3\\lib\\site-packages\\ipykernel_launcher.py:14: SettingWithCopyWarning: \n",
      "A value is trying to be set on a copy of a slice from a DataFrame\n",
      "\n",
      "See the caveats in the documentation: http://pandas.pydata.org/pandas-docs/stable/indexing.html#indexing-view-versus-copy\n",
      "  \n",
      "C:\\Users\\lenovo\\Anaconda3\\lib\\site-packages\\ipykernel_launcher.py:15: SettingWithCopyWarning: \n",
      "A value is trying to be set on a copy of a slice from a DataFrame\n",
      "\n",
      "See the caveats in the documentation: http://pandas.pydata.org/pandas-docs/stable/indexing.html#indexing-view-versus-copy\n",
      "  from ipykernel import kernelapp as app\n",
      "C:\\Users\\lenovo\\Anaconda3\\lib\\site-packages\\ipykernel_launcher.py:16: SettingWithCopyWarning: \n",
      "A value is trying to be set on a copy of a slice from a DataFrame\n",
      "\n",
      "See the caveats in the documentation: http://pandas.pydata.org/pandas-docs/stable/indexing.html#indexing-view-versus-copy\n",
      "  app.launch_new_instance()\n"
     ]
    }
   ],
   "source": [
    "result_2015['Ovr_ratio']=0.0\n",
    "result_2015['Def_ratio']=0.0\n",
    "result_2015['Mid_ratio']=0.0\n",
    "result_2015['Fwd_ratio']=0.0\n",
    "result_2015['Phy_ratio']=0.0\n",
    "result_2015['Spd_ratio']=0.0\n",
    "result_2015['2015 power_ratio']=0.0\n",
    "for i in range(result_2015.shape[0]):\n",
    " \n",
    "    result_2015['Ovr_ratio'][i]=result_2015['Ovr_home'][i]/result_2015['Ovr_away'][i]\n",
    "    result_2015['Def_ratio'][i]=result_2015['Def_home'][i]/result_2015['Def_away'][i]\n",
    "    result_2015['Mid_ratio'][i]=result_2015['Mid_home'][i]/result_2015['Mid_away'][i]\n",
    "    result_2015['Fwd_ratio'][i]=result_2015['Fwd_home'][i]/result_2015['Fwd_away'][i]\n",
    "    result_2015['Phy_ratio'][i]=result_2015['Phy_home'][i]/result_2015['Phy_away'][i]\n",
    "    result_2015['Spd_ratio'][i]=result_2015['Spd_home'][i]/result_2015['Spd_away'][i]\n",
    "    result_2015['2015 power_ratio'][i]=result_2015['2015 power_home'][i]/result_2015['2015 power_away'][i]\n"
   ]
  },
  {
   "cell_type": "code",
   "execution_count": 53,
   "metadata": {
    "collapsed": true
   },
   "outputs": [],
   "source": [
    "X_test=result_2015.drop(['gameId', 'gameDate', 'homeTeamId', 'awayTeamId', 'gameName', 'p1',\n",
    "       'px', 'p2', 'homeTeamName', 'awayTeamName', 'Ovr_home', 'Def_home',\n",
    "       'Mid_home', 'Fwd_home', 'Phy_home', 'Spd_home', 'year_home',\n",
    "       '2015 power_home', 'Ovr_away', 'Def_away', 'Mid_away', 'Fwd_away',\n",
    "       'Phy_away', 'Spd_away', 'year_away', '2015 power_away'],axis=1)"
   ]
  },
  {
   "cell_type": "code",
   "execution_count": 54,
   "metadata": {
    "collapsed": true
   },
   "outputs": [],
   "source": [
    "prediction=logmodel.predict_proba(X_test)\n",
    "prediction1=logmodel.predict(X_test)"
   ]
  },
  {
   "cell_type": "code",
   "execution_count": 55,
   "metadata": {},
   "outputs": [
    {
     "data": {
      "text/html": [
       "<div>\n",
       "<style>\n",
       "    .dataframe thead tr:only-child th {\n",
       "        text-align: right;\n",
       "    }\n",
       "\n",
       "    .dataframe thead th {\n",
       "        text-align: left;\n",
       "    }\n",
       "\n",
       "    .dataframe tbody tr th {\n",
       "        vertical-align: top;\n",
       "    }\n",
       "</style>\n",
       "<table border=\"1\" class=\"dataframe\">\n",
       "  <thead>\n",
       "    <tr style=\"text-align: right;\">\n",
       "      <th></th>\n",
       "      <th>Ovr_ratio</th>\n",
       "      <th>Def_ratio</th>\n",
       "      <th>Mid_ratio</th>\n",
       "      <th>Fwd_ratio</th>\n",
       "      <th>Phy_ratio</th>\n",
       "      <th>Spd_ratio</th>\n",
       "      <th>2015 power_ratio</th>\n",
       "    </tr>\n",
       "  </thead>\n",
       "  <tbody>\n",
       "    <tr>\n",
       "      <th>0</th>\n",
       "      <td>1.057143</td>\n",
       "      <td>1.042857</td>\n",
       "      <td>1.056338</td>\n",
       "      <td>1.042254</td>\n",
       "      <td>1.013158</td>\n",
       "      <td>1.013699</td>\n",
       "      <td>2.727811</td>\n",
       "    </tr>\n",
       "    <tr>\n",
       "      <th>1</th>\n",
       "      <td>1.128571</td>\n",
       "      <td>1.128571</td>\n",
       "      <td>1.070423</td>\n",
       "      <td>1.154930</td>\n",
       "      <td>1.052632</td>\n",
       "      <td>1.027397</td>\n",
       "      <td>4.436006</td>\n",
       "    </tr>\n",
       "    <tr>\n",
       "      <th>2</th>\n",
       "      <td>1.057143</td>\n",
       "      <td>1.057971</td>\n",
       "      <td>1.027397</td>\n",
       "      <td>1.057143</td>\n",
       "      <td>1.013158</td>\n",
       "      <td>1.027778</td>\n",
       "      <td>1.455486</td>\n",
       "    </tr>\n",
       "    <tr>\n",
       "      <th>3</th>\n",
       "      <td>1.000000</td>\n",
       "      <td>1.014493</td>\n",
       "      <td>0.972603</td>\n",
       "      <td>1.014286</td>\n",
       "      <td>1.000000</td>\n",
       "      <td>1.013889</td>\n",
       "      <td>0.533573</td>\n",
       "    </tr>\n",
       "    <tr>\n",
       "      <th>4</th>\n",
       "      <td>0.886076</td>\n",
       "      <td>0.873418</td>\n",
       "      <td>0.960526</td>\n",
       "      <td>0.853659</td>\n",
       "      <td>0.950000</td>\n",
       "      <td>0.960000</td>\n",
       "      <td>0.422488</td>\n",
       "    </tr>\n",
       "  </tbody>\n",
       "</table>\n",
       "</div>"
      ],
      "text/plain": [
       "   Ovr_ratio  Def_ratio  Mid_ratio  Fwd_ratio  Phy_ratio  Spd_ratio  \\\n",
       "0   1.057143   1.042857   1.056338   1.042254   1.013158   1.013699   \n",
       "1   1.128571   1.128571   1.070423   1.154930   1.052632   1.027397   \n",
       "2   1.057143   1.057971   1.027397   1.057143   1.013158   1.027778   \n",
       "3   1.000000   1.014493   0.972603   1.014286   1.000000   1.013889   \n",
       "4   0.886076   0.873418   0.960526   0.853659   0.950000   0.960000   \n",
       "\n",
       "   2015 power_ratio  \n",
       "0          2.727811  \n",
       "1          4.436006  \n",
       "2          1.455486  \n",
       "3          0.533573  \n",
       "4          0.422488  "
      ]
     },
     "execution_count": 55,
     "metadata": {},
     "output_type": "execute_result"
    }
   ],
   "source": [
    "X_test.head()"
   ]
  },
  {
   "cell_type": "code",
   "execution_count": 56,
   "metadata": {},
   "outputs": [
    {
     "data": {
      "text/plain": [
       "48"
      ]
     },
     "execution_count": 56,
     "metadata": {},
     "output_type": "execute_result"
    }
   ],
   "source": [
    "prediction.shape[0]"
   ]
  },
  {
   "cell_type": "code",
   "execution_count": 57,
   "metadata": {},
   "outputs": [
    {
     "data": {
      "text/plain": [
       "(48, 10)"
      ]
     },
     "execution_count": 57,
     "metadata": {},
     "output_type": "execute_result"
    }
   ],
   "source": [
    "result.shape"
   ]
  },
  {
   "cell_type": "code",
   "execution_count": 58,
   "metadata": {},
   "outputs": [
    {
     "name": "stderr",
     "output_type": "stream",
     "text": [
      "C:\\Users\\lenovo\\Anaconda3\\lib\\site-packages\\ipykernel_launcher.py:2: SettingWithCopyWarning: \n",
      "A value is trying to be set on a copy of a slice from a DataFrame\n",
      "\n",
      "See the caveats in the documentation: http://pandas.pydata.org/pandas-docs/stable/indexing.html#indexing-view-versus-copy\n",
      "  \n",
      "C:\\Users\\lenovo\\Anaconda3\\lib\\site-packages\\ipykernel_launcher.py:3: SettingWithCopyWarning: \n",
      "A value is trying to be set on a copy of a slice from a DataFrame\n",
      "\n",
      "See the caveats in the documentation: http://pandas.pydata.org/pandas-docs/stable/indexing.html#indexing-view-versus-copy\n",
      "  This is separate from the ipykernel package so we can avoid doing imports until\n",
      "C:\\Users\\lenovo\\Anaconda3\\lib\\site-packages\\ipykernel_launcher.py:4: SettingWithCopyWarning: \n",
      "A value is trying to be set on a copy of a slice from a DataFrame\n",
      "\n",
      "See the caveats in the documentation: http://pandas.pydata.org/pandas-docs/stable/indexing.html#indexing-view-versus-copy\n",
      "  after removing the cwd from sys.path.\n"
     ]
    }
   ],
   "source": [
    "for i in range(result.shape[0]):\n",
    "    result['p2'][i]=prediction[i][2]\n",
    "    result['p1'][i]=prediction[i][1]\n",
    "    result['px'][i]=prediction[i][0]"
   ]
  },
  {
   "cell_type": "code",
   "execution_count": 59,
   "metadata": {
    "collapsed": true
   },
   "outputs": [],
   "source": [
    "result.drop(['homeTeamName','awayTeamName'],axis=1,inplace=True)"
   ]
  },
  {
   "cell_type": "code",
   "execution_count": 60,
   "metadata": {},
   "outputs": [
    {
     "data": {
      "text/html": [
       "<div>\n",
       "<style>\n",
       "    .dataframe thead tr:only-child th {\n",
       "        text-align: right;\n",
       "    }\n",
       "\n",
       "    .dataframe thead th {\n",
       "        text-align: left;\n",
       "    }\n",
       "\n",
       "    .dataframe tbody tr th {\n",
       "        vertical-align: top;\n",
       "    }\n",
       "</style>\n",
       "<table border=\"1\" class=\"dataframe\">\n",
       "  <thead>\n",
       "    <tr style=\"text-align: right;\">\n",
       "      <th></th>\n",
       "      <th>gameId</th>\n",
       "      <th>gameDate</th>\n",
       "      <th>homeTeamId</th>\n",
       "      <th>awayTeamId</th>\n",
       "      <th>gameName</th>\n",
       "      <th>p1</th>\n",
       "      <th>px</th>\n",
       "      <th>p2</th>\n",
       "    </tr>\n",
       "  </thead>\n",
       "  <tbody>\n",
       "    <tr>\n",
       "      <th>0</th>\n",
       "      <td>1249942</td>\n",
       "      <td>2018-06-14 16:00:00</td>\n",
       "      <td>326</td>\n",
       "      <td>494</td>\n",
       "      <td>russia-saudi-arabia</td>\n",
       "      <td>0.570977</td>\n",
       "      <td>0.292268</td>\n",
       "      <td>0.136755</td>\n",
       "    </tr>\n",
       "    <tr>\n",
       "      <th>1</th>\n",
       "      <td>1249926</td>\n",
       "      <td>2018-06-15 13:00:00</td>\n",
       "      <td>944</td>\n",
       "      <td>967</td>\n",
       "      <td>egypt-uruguay</td>\n",
       "      <td>0.654494</td>\n",
       "      <td>0.300519</td>\n",
       "      <td>0.044987</td>\n",
       "    </tr>\n",
       "    <tr>\n",
       "      <th>2</th>\n",
       "      <td>1249948</td>\n",
       "      <td>2018-06-15 16:00:00</td>\n",
       "      <td>495</td>\n",
       "      <td>1293</td>\n",
       "      <td>morocco-iran</td>\n",
       "      <td>0.486202</td>\n",
       "      <td>0.252141</td>\n",
       "      <td>0.261658</td>\n",
       "    </tr>\n",
       "    <tr>\n",
       "      <th>3</th>\n",
       "      <td>1249919</td>\n",
       "      <td>2018-06-15 19:00:00</td>\n",
       "      <td>340</td>\n",
       "      <td>338</td>\n",
       "      <td>portugal-spain</td>\n",
       "      <td>0.389020</td>\n",
       "      <td>0.228406</td>\n",
       "      <td>0.382575</td>\n",
       "    </tr>\n",
       "    <tr>\n",
       "      <th>4</th>\n",
       "      <td>1249951</td>\n",
       "      <td>2018-06-16 11:00:00</td>\n",
       "      <td>341</td>\n",
       "      <td>328</td>\n",
       "      <td>france-australia</td>\n",
       "      <td>0.343663</td>\n",
       "      <td>0.248637</td>\n",
       "      <td>0.407700</td>\n",
       "    </tr>\n",
       "  </tbody>\n",
       "</table>\n",
       "</div>"
      ],
      "text/plain": [
       "    gameId             gameDate  homeTeamId  awayTeamId             gameName  \\\n",
       "0  1249942  2018-06-14 16:00:00         326         494  russia-saudi-arabia   \n",
       "1  1249926  2018-06-15 13:00:00         944         967        egypt-uruguay   \n",
       "2  1249948  2018-06-15 16:00:00         495        1293         morocco-iran   \n",
       "3  1249919  2018-06-15 19:00:00         340         338       portugal-spain   \n",
       "4  1249951  2018-06-16 11:00:00         341         328     france-australia   \n",
       "\n",
       "         p1        px        p2  \n",
       "0  0.570977  0.292268  0.136755  \n",
       "1  0.654494  0.300519  0.044987  \n",
       "2  0.486202  0.252141  0.261658  \n",
       "3  0.389020  0.228406  0.382575  \n",
       "4  0.343663  0.248637  0.407700  "
      ]
     },
     "execution_count": 60,
     "metadata": {},
     "output_type": "execute_result"
    }
   ],
   "source": [
    "result.head()"
   ]
  },
  {
   "cell_type": "code",
   "execution_count": 61,
   "metadata": {
    "collapsed": true
   },
   "outputs": [],
   "source": [
    "result.to_csv('submission_template_2015.csv')"
   ]
  }
 ],
 "metadata": {
  "kernelspec": {
   "display_name": "Python 3",
   "language": "python",
   "name": "python3"
  },
  "language_info": {
   "codemirror_mode": {
    "name": "ipython",
    "version": 3
   },
   "file_extension": ".py",
   "mimetype": "text/x-python",
   "name": "python",
   "nbconvert_exporter": "python",
   "pygments_lexer": "ipython3",
   "version": "3.6.1"
  }
 },
 "nbformat": 4,
 "nbformat_minor": 2
}
